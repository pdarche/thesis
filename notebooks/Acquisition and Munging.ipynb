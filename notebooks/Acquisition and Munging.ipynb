{
 "cells": [
  {
   "cell_type": "code",
   "execution_count": 1,
   "metadata": {
    "collapsed": true
   },
   "outputs": [],
   "source": [
    "import re\n",
    "import json\n",
    "\n",
    "import pandas as pd\n",
    "import requests\n",
    "import itertools\n",
    "\n",
    "from geolite2 import geolite2\n",
    "import seaborn as sns\n",
    "import matplotlib.pyplot as plt"
   ]
  },
  {
   "cell_type": "code",
   "execution_count": 2,
   "metadata": {
    "collapsed": false
   },
   "outputs": [],
   "source": [
    "from config import USERNAME, PASSWORD"
   ]
  },
  {
   "cell_type": "code",
   "execution_count": 3,
   "metadata": {
    "collapsed": false
   },
   "outputs": [
    {
     "name": "stdout",
     "output_type": "stream",
     "text": [
      "Populating the interactive namespace from numpy and matplotlib\n"
     ]
    }
   ],
   "source": [
    "% pylab inline"
   ]
  },
  {
   "cell_type": "markdown",
   "metadata": {},
   "source": [
    "### Pull in the data from the db"
   ]
  },
  {
   "cell_type": "code",
   "execution_count": 671,
   "metadata": {
    "collapsed": false
   },
   "outputs": [],
   "source": [
    "url = 'https://%s:%s@svo.world/responses2/_all_docs/?include_docs=true' % (USERNAME, PASSWORD)\n",
    "res = requests.get(url)"
   ]
  },
  {
   "cell_type": "code",
   "execution_count": 672,
   "metadata": {
    "collapsed": true
   },
   "outputs": [],
   "source": [
    "docs = [d['doc'] for d in res.json()['rows']]"
   ]
  },
  {
   "cell_type": "code",
   "execution_count": 673,
   "metadata": {
    "collapsed": true
   },
   "outputs": [],
   "source": [
    "df = pd.DataFrame(docs)"
   ]
  },
  {
   "cell_type": "code",
   "execution_count": 674,
   "metadata": {
    "collapsed": false
   },
   "outputs": [],
   "source": [
    "with open('../data/raw/raw2.json') as data_file:    \n",
    "    data = json.load(data_file)"
   ]
  },
  {
   "cell_type": "code",
   "execution_count": 806,
   "metadata": {
    "collapsed": false
   },
   "outputs": [],
   "source": [
    "responses = [r['doc'] for r in data['rows']]\n",
    "df = pd.DataFrame(responses)"
   ]
  },
  {
   "cell_type": "code",
   "execution_count": 810,
   "metadata": {
    "collapsed": true
   },
   "outputs": [],
   "source": [
    "tr2 = responses[99]"
   ]
  },
  {
   "cell_type": "code",
   "execution_count": 813,
   "metadata": {
    "collapsed": false
   },
   "outputs": [],
   "source": [
    "ans = tr2['answers'][0]"
   ]
  },
  {
   "cell_type": "code",
   "execution_count": 816,
   "metadata": {
    "collapsed": true
   },
   "outputs": [],
   "source": [
    "evs = tr2['events'][0]"
   ]
  },
  {
   "cell_type": "code",
   "execution_count": 785,
   "metadata": {
    "collapsed": true
   },
   "outputs": [],
   "source": [
    "del tr['answers']"
   ]
  },
  {
   "cell_type": "code",
   "execution_count": 788,
   "metadata": {
    "collapsed": false
   },
   "outputs": [],
   "source": [
    "del tr['events']"
   ]
  },
  {
   "cell_type": "code",
   "execution_count": 814,
   "metadata": {
    "collapsed": true
   },
   "outputs": [],
   "source": [
    "! touch ../img/final/sample_answer.json"
   ]
  },
  {
   "cell_type": "code",
   "execution_count": 818,
   "metadata": {
    "collapsed": true
   },
   "outputs": [],
   "source": [
    "! touch ../img/final/sample_event.json"
   ]
  },
  {
   "cell_type": "code",
   "execution_count": 795,
   "metadata": {
    "collapsed": false
   },
   "outputs": [],
   "source": [
    "import json"
   ]
  },
  {
   "cell_type": "code",
   "execution_count": 815,
   "metadata": {
    "collapsed": false
   },
   "outputs": [],
   "source": [
    "with open('../img/final/sample_answer.json', 'w') as f:\n",
    "    f.write(json.dumps(ans))"
   ]
  },
  {
   "cell_type": "code",
   "execution_count": 819,
   "metadata": {
    "collapsed": false
   },
   "outputs": [],
   "source": [
    "with open('../img/final/sample_event.json', 'w') as f:\n",
    "    f.write(json.dumps(evs))"
   ]
  },
  {
   "cell_type": "markdown",
   "metadata": {},
   "source": [
    "## Munge the data"
   ]
  },
  {
   "cell_type": "code",
   "execution_count": 676,
   "metadata": {
    "collapsed": true
   },
   "outputs": [],
   "source": [
    "# Filter out the responses without svo scores\n",
    "df = df[df.svo.notnull()]\n",
    "df = df[df.ip != '104.200.153.94']"
   ]
  },
  {
   "cell_type": "markdown",
   "metadata": {},
   "source": [
    "### Create some features"
   ]
  },
  {
   "cell_type": "markdown",
   "metadata": {},
   "source": [
    "#### Survey Duration "
   ]
  },
  {
   "cell_type": "code",
   "execution_count": 677,
   "metadata": {
    "collapsed": false
   },
   "outputs": [],
   "source": [
    "df.loc[:, 'startedAt'] = pd.to_datetime(df.startedAt)\n",
    "df.loc[:, 'completedAt'] = pd.to_datetime(df.completedAt)\n",
    "df.loc[:, 'duration'] = (df.completedAt - df.startedAt)\n",
    "df.loc[:, 'durationSeconds'] = df.duration.apply(lambda d: d.total_seconds())"
   ]
  },
  {
   "cell_type": "markdown",
   "metadata": {},
   "source": [
    "#### Location from IP"
   ]
  },
  {
   "cell_type": "code",
   "execution_count": 678,
   "metadata": {
    "collapsed": false
   },
   "outputs": [],
   "source": [
    "df.ip.fillna(False, inplace=True)"
   ]
  },
  {
   "cell_type": "code",
   "execution_count": 679,
   "metadata": {
    "collapsed": false
   },
   "outputs": [],
   "source": [
    "def add_location_features(ip):\n",
    "    if ip:\n",
    "        loc = reader.get(ip)\n",
    "        if loc:\n",
    "            keys = loc.keys()\n",
    "            return {\n",
    "                'city': loc['city']['names']['en'] if 'city' in keys else None,\n",
    "                'continent': loc['continent']['names']['en'] if 'continent' in keys else None,\n",
    "                'country': loc['country']['names']['en'] if 'country' in keys else None,\n",
    "                'lat': loc['location']['latitude'] if 'location' in keys else None,\n",
    "                'lon': loc['location']['longitude'] if 'location' in keys else None,\n",
    "                'accuracy': loc['location']['accuracy_radius'] if 'location' in keys else None,\n",
    "                'postal': loc['postal']['code'] if 'postal' in keys else None\n",
    "            }\n",
    "        else:\n",
    "            return {'city': None, 'continent': None, 'country': None, 'lat': None, 'lon': None, 'accuracy': None, 'postal': None}\n",
    "    else:\n",
    "        return {'city': None, 'continent': None, 'country': None, 'lat': None, 'lon': None, 'accuracy': None, 'postal': None}"
   ]
  },
  {
   "cell_type": "code",
   "execution_count": 680,
   "metadata": {
    "collapsed": false
   },
   "outputs": [],
   "source": [
    "reader = geolite2.reader()"
   ]
  },
  {
   "cell_type": "code",
   "execution_count": 681,
   "metadata": {
    "collapsed": false
   },
   "outputs": [],
   "source": [
    "location_records = list(df.ip.apply(add_location_features))"
   ]
  },
  {
   "cell_type": "code",
   "execution_count": 682,
   "metadata": {
    "collapsed": false
   },
   "outputs": [],
   "source": [
    "ldf = pd.DataFrame(location_records)"
   ]
  },
  {
   "cell_type": "code",
   "execution_count": 683,
   "metadata": {
    "collapsed": false
   },
   "outputs": [],
   "source": [
    "# ldf[\n",
    "#     (ldf.country.notnull()) &\n",
    "#     (ldf.country!='United States')\n",
    "# ]"
   ]
  },
  {
   "cell_type": "code",
   "execution_count": 684,
   "metadata": {
    "collapsed": false
   },
   "outputs": [],
   "source": [
    "import geopy"
   ]
  },
  {
   "cell_type": "code",
   "execution_count": 685,
   "metadata": {
    "collapsed": false
   },
   "outputs": [],
   "source": [
    "from geopy.geocoders import Nominatim\n",
    "geolocator = Nominatim()\n",
    "# location = geolocator.reverse(lat_lons[0])"
   ]
  },
  {
   "cell_type": "code",
   "execution_count": 686,
   "metadata": {
    "collapsed": false
   },
   "outputs": [],
   "source": [
    "def extract_state(row):\n",
    "    if row['country'] == 'United States':\n",
    "        geolocation = \"%s, %s\" % (row['lat'], row['lon'])\n",
    "        location = geolocator.reverse(geolocation)\n",
    "        if (location.raw and \n",
    "            'address' in location.raw.keys() and\n",
    "            'state' in location.raw['address']):\n",
    "            row['state'] = location.raw['address']['state']\n",
    "    else:\n",
    "        row['state'] = None\n",
    "    return row"
   ]
  },
  {
   "cell_type": "code",
   "execution_count": 687,
   "metadata": {
    "collapsed": false
   },
   "outputs": [],
   "source": [
    "# location = geolocator.reverse(lat_lons[0])"
   ]
  },
  {
   "cell_type": "code",
   "execution_count": 688,
   "metadata": {
    "collapsed": false
   },
   "outputs": [],
   "source": [
    "# if location.raw and 'address' in location.raw.keys():\n",
    "#     print(\"yerp\")\n",
    "# lat_lons = ldf.apply(lambda r: \"%s, %s\" % (r['lat'], r['lon']), axis=1)"
   ]
  },
  {
   "cell_type": "code",
   "execution_count": 689,
   "metadata": {
    "collapsed": false
   },
   "outputs": [],
   "source": [
    "# commet this out if it's in memory already!\n",
    "# nldf = ldf.apply(extract_state, axis=1)\n",
    "# state_dummies = pd.get_dummies(nldf.state)"
   ]
  },
  {
   "cell_type": "code",
   "execution_count": 690,
   "metadata": {
    "collapsed": false
   },
   "outputs": [],
   "source": [
    "# https://www2.census.gov/geo/docs/maps-data/maps/reg_div.txt\n",
    "regiondf = pd.read_csv('../data/regions.csv')"
   ]
  },
  {
   "cell_type": "code",
   "execution_count": 691,
   "metadata": {
    "collapsed": false
   },
   "outputs": [],
   "source": [
    "regions = {r['state']:r['region'] for r in regiondf.to_dict(orient='records')}\n",
    "divisions = {r['state']:r['division'] for r in regiondf.to_dict(orient='records')}"
   ]
  },
  {
   "cell_type": "code",
   "execution_count": 692,
   "metadata": {
    "collapsed": false
   },
   "outputs": [],
   "source": [
    "nldf.loc[:, \"region\"] = nldf.state.replace(regions)"
   ]
  },
  {
   "cell_type": "code",
   "execution_count": 693,
   "metadata": {
    "collapsed": false
   },
   "outputs": [],
   "source": [
    "nldf.loc[:, \"region_division\"] = nldf.state.replace(divisions)"
   ]
  },
  {
   "cell_type": "code",
   "execution_count": 694,
   "metadata": {
    "collapsed": false
   },
   "outputs": [],
   "source": [
    "region_dummies = pd.get_dummies(nldf[[\"region\", \"region_division\"]])"
   ]
  },
  {
   "cell_type": "code",
   "execution_count": 695,
   "metadata": {
    "collapsed": true
   },
   "outputs": [],
   "source": [
    "region_dummies.columns = [c.replace(\" \", \"_\").lower() for c in region_dummies.columns]"
   ]
  },
  {
   "cell_type": "code",
   "execution_count": 696,
   "metadata": {
    "collapsed": false
   },
   "outputs": [],
   "source": [
    "# with_region_df = pd.concat([nldf, region_dummies], axis=1)"
   ]
  },
  {
   "cell_type": "code",
   "execution_count": 697,
   "metadata": {
    "collapsed": false
   },
   "outputs": [],
   "source": [
    "with_state_df = pd.merge(nldf, state_dummies, left_index=True, right_index=True)"
   ]
  },
  {
   "cell_type": "code",
   "execution_count": 698,
   "metadata": {
    "collapsed": true
   },
   "outputs": [],
   "source": [
    "with_region_df = pd.merge(with_state_df, region_dummies, left_index=True, right_index=True)"
   ]
  },
  {
   "cell_type": "code",
   "execution_count": 699,
   "metadata": {
    "collapsed": false
   },
   "outputs": [],
   "source": [
    "with_location = pd.merge(df, with_region_df, left_index=True, right_index=True)"
   ]
  },
  {
   "cell_type": "markdown",
   "metadata": {},
   "source": [
    "#### Browser information"
   ]
  },
  {
   "cell_type": "code",
   "execution_count": 700,
   "metadata": {
    "collapsed": true
   },
   "outputs": [],
   "source": [
    "null_browser = {\n",
    "    'appCodeName': None,\n",
    "    'appName': None,\n",
    "    'appVersion': None,\n",
    "    'cookieEnabled': None,\n",
    "    'hardwareConcurrency': None,\n",
    "    'language': None,\n",
    "    'maxTouchPoints': None,\n",
    "    'onLine': None,\n",
    "    'platform': None,\n",
    "    'product': None,\n",
    "    'productSub': None,\n",
    "    'userAgent': None,\n",
    "    'vendor': None,\n",
    "    'vendorSub': None\n",
    "}"
   ]
  },
  {
   "cell_type": "code",
   "execution_count": 701,
   "metadata": {
    "collapsed": false
   },
   "outputs": [],
   "source": [
    "browser = [null_browser if not v else v for v in list(df.browser.fillna(0))]\n",
    "bdf = pd.DataFrame(browser)"
   ]
  },
  {
   "cell_type": "code",
   "execution_count": 702,
   "metadata": {
    "collapsed": false
   },
   "outputs": [],
   "source": [
    "with_browser = pd.merge(with_location, bdf, left_index=True, right_index=True)"
   ]
  },
  {
   "cell_type": "markdown",
   "metadata": {},
   "source": [
    "#### Demographics Survey"
   ]
  },
  {
   "cell_type": "code",
   "execution_count": 703,
   "metadata": {
    "collapsed": false
   },
   "outputs": [],
   "source": [
    "demo_records = list(df.demoSurvey)"
   ]
  },
  {
   "cell_type": "code",
   "execution_count": 704,
   "metadata": {
    "collapsed": false
   },
   "outputs": [],
   "source": [
    "ddf = pd.DataFrame(demo_records)"
   ]
  },
  {
   "cell_type": "code",
   "execution_count": 705,
   "metadata": {
    "collapsed": true
   },
   "outputs": [],
   "source": [
    "# Change age to birthyear\n",
    "ddf['birthyear'] = ddf.age"
   ]
  },
  {
   "cell_type": "code",
   "execution_count": 706,
   "metadata": {
    "collapsed": true
   },
   "outputs": [],
   "source": [
    "# Compute age from birthyear\n",
    "ddf.loc[:, 'age'] = ddf.age.apply(lambda a: 2017 - a)"
   ]
  },
  {
   "cell_type": "code",
   "execution_count": 707,
   "metadata": {
    "collapsed": true
   },
   "outputs": [],
   "source": [
    "# Filter out the test repsonese\n",
    "ddf = ddf[ddf.birthyear != 1234]"
   ]
  },
  {
   "cell_type": "code",
   "execution_count": 708,
   "metadata": {
    "collapsed": true
   },
   "outputs": [],
   "source": [
    "# Note this might not be a good missing data strategy!\n",
    "ddf.loc[ddf.age > 2000, \"age\"] = ddf.age.mean()"
   ]
  },
  {
   "cell_type": "code",
   "execution_count": 709,
   "metadata": {
    "collapsed": false
   },
   "outputs": [],
   "source": [
    "ddf.loc[(ddf.age > 110) & (ddf.age < 2000), \"age\"] = 2017 - ddf.loc[(ddf.age > 110) & (ddf.age < 2000), \"age\"]"
   ]
  },
  {
   "cell_type": "code",
   "execution_count": 710,
   "metadata": {
    "collapsed": false
   },
   "outputs": [],
   "source": [
    "# change the religiosity to a 0-4 scale\n",
    "ddf['religiosity'] = ddf.religiosity.replace({\n",
    "    'Not at all religious or spiritual': 0,\n",
    "    'Slightly religious or spiritual': 1,\n",
    "    'Somewhat religious or spiritual': 2,\n",
    "    'Quite religious or spiritual': 3,\n",
    "    'Very religious or spiritual': 4\n",
    "})"
   ]
  },
  {
   "cell_type": "code",
   "execution_count": 711,
   "metadata": {
    "collapsed": true
   },
   "outputs": [],
   "source": [
    "# change the politics to a -2-2 scale\n",
    "ddf['politics'] = ddf.politics.replace({\n",
    "    'Very liberal or left-leaning': -2,\n",
    "    'Somewhat liberal or left-leaning': -1,\n",
    "    'Centrist': 0,\n",
    "    'Somewhat conservative or right-leaning': 1,\n",
    "    'Very convervative or right-leaning': 2\n",
    "})"
   ]
  },
  {
   "cell_type": "code",
   "execution_count": 712,
   "metadata": {
    "collapsed": false
   },
   "outputs": [],
   "source": [
    "ddf['income'] = ddf.income.replace({\n",
    "    'Less than $10,000': 0,\n",
    "    '$10,000 to $19,999': 1,\n",
    "    '$20,000 to $29,999': 2,\n",
    "    '$30,000 to $39,999': 3,\n",
    "    '$40,000 to $49,999': 4,\n",
    "    '$50,000 to $59,999': 5,\n",
    "    '$60,000 to $69,999': 6,\n",
    "    '$70,000 to $79,999': 7,\n",
    "    '$80,000 to $89,999': 8,\n",
    "    '$90,000 to $99,999': 9,\n",
    "    '$100,000 to $149,999': 10,\n",
    "    'More than $150,000': 11,\n",
    "    'Prefer not to answer': 11 # Note: this should be removed!  Just for testing...\n",
    "})"
   ]
  },
  {
   "cell_type": "code",
   "execution_count": 713,
   "metadata": {
    "collapsed": false
   },
   "outputs": [],
   "source": [
    "ddf['education'] = ddf.education.replace({\n",
    "    'Less than a high school degree': 0,\n",
    "    'High school degree or equivalent (e.g. GED)': 1,\n",
    "    'Some college but no degree': 2,\n",
    "    'Associate degree': 3,\n",
    "    'Bachelor degree': 4,\n",
    "    \"Master's degree\": 5,\n",
    "    'Ph.D.': 6\n",
    "})"
   ]
  },
  {
   "cell_type": "code",
   "execution_count": 714,
   "metadata": {
    "collapsed": false
   },
   "outputs": [],
   "source": [
    "ddf['relationship-development'] = ddf['relationship-development'].astype(int)\n",
    "ddf['trust-development'] = ddf['trust-development'].astype(int)\n",
    "ddf['dependence-development'] = ddf['dependence-development'].astype(int)"
   ]
  },
  {
   "cell_type": "code",
   "execution_count": 715,
   "metadata": {
    "collapsed": true
   },
   "outputs": [],
   "source": [
    "ddf['female'] = ddf.gender.replace({\n",
    "        'Female': 1,\n",
    "        'Male': 0,\n",
    "        'other': 0\n",
    "    })"
   ]
  },
  {
   "cell_type": "code",
   "execution_count": 716,
   "metadata": {
    "collapsed": true
   },
   "outputs": [],
   "source": [
    "ddf['other_gender'] = ddf.gender.replace({\n",
    "        'Female': 0,\n",
    "        'Male': 0,\n",
    "        'other': 1\n",
    "    })"
   ]
  },
  {
   "cell_type": "code",
   "execution_count": 717,
   "metadata": {
    "collapsed": true
   },
   "outputs": [],
   "source": [
    "# TODO onehot encode ethnicity"
   ]
  },
  {
   "cell_type": "code",
   "execution_count": 718,
   "metadata": {
    "collapsed": false
   },
   "outputs": [],
   "source": [
    "eth_dummies = pd.get_dummies(ddf.race)"
   ]
  },
  {
   "cell_type": "code",
   "execution_count": 719,
   "metadata": {
    "collapsed": false
   },
   "outputs": [],
   "source": [
    "eth_dummies.columns = ['american_indian', 'asian', 'black', 'pacific_islander', 'white', 'other']"
   ]
  },
  {
   "cell_type": "code",
   "execution_count": 720,
   "metadata": {
    "collapsed": false
   },
   "outputs": [],
   "source": [
    "ddf.loc[ddf.race == 'other', 'ethnicity_other'] = 1\n",
    "ddf.loc[ddf.race != 'other', 'ethnicity_other'] = 0"
   ]
  },
  {
   "cell_type": "code",
   "execution_count": 721,
   "metadata": {
    "collapsed": false
   },
   "outputs": [],
   "source": [
    "ddf = pd.concat([ddf, eth_dummies], axis=1)"
   ]
  },
  {
   "cell_type": "markdown",
   "metadata": {},
   "source": [
    "### todo: additional features:\n",
    " - distance to urban center\n",
    " - urban or rural classification"
   ]
  },
  {
   "cell_type": "markdown",
   "metadata": {},
   "source": [
    "#### Add interest dummies to the demo dataframe"
   ]
  },
  {
   "cell_type": "code",
   "execution_count": 722,
   "metadata": {
    "collapsed": false
   },
   "outputs": [],
   "source": [
    "interests = list(itertools.chain(*list(ddf.interests)))"
   ]
  },
  {
   "cell_type": "code",
   "execution_count": 723,
   "metadata": {
    "collapsed": true
   },
   "outputs": [],
   "source": [
    "def interest_dummies(interest_list):\n",
    "    dummies = {}\n",
    "    for interest in interests:\n",
    "        if interest in interest_list:\n",
    "            dummies[interest] = 1\n",
    "        else:\n",
    "            dummies[interest] = 0\n",
    "    return dummies"
   ]
  },
  {
   "cell_type": "code",
   "execution_count": 724,
   "metadata": {
    "collapsed": false
   },
   "outputs": [],
   "source": [
    "interest_dummies_records = list(ddf.interests.apply(interest_dummies))"
   ]
  },
  {
   "cell_type": "code",
   "execution_count": 725,
   "metadata": {
    "collapsed": false
   },
   "outputs": [],
   "source": [
    "idf = pd.DataFrame(interest_dummies_records)"
   ]
  },
  {
   "cell_type": "code",
   "execution_count": 726,
   "metadata": {
    "collapsed": true
   },
   "outputs": [],
   "source": [
    "# clean up the interest columns\n",
    "interest_cols = [\n",
    "    'arts', 'computers_tech', 'health_fitness', \n",
    "    'indoor', 'life_style', 'nature', 'outdoor',\n",
    "    'performance_arts', 'sports', 'other'\n",
    "]\n",
    "idf.columns = interest_cols"
   ]
  },
  {
   "cell_type": "code",
   "execution_count": 727,
   "metadata": {
    "collapsed": false
   },
   "outputs": [],
   "source": [
    "# add the interest dummies to the deographics dataframe\n",
    "with_interest_dummies = pd.concat([ddf, idf], axis=1)"
   ]
  },
  {
   "cell_type": "code",
   "execution_count": 728,
   "metadata": {
    "collapsed": false
   },
   "outputs": [],
   "source": [
    "interest_cols = [c.lower().replace(' ', '_').replace('&','_').replace('-','_') for c in with_interest_dummies.columns]\n",
    "#re.sub(r'(\\s|&|-)', '_', \"tac&o-time\")"
   ]
  },
  {
   "cell_type": "code",
   "execution_count": 729,
   "metadata": {
    "collapsed": false
   },
   "outputs": [],
   "source": [
    "with_interest_dummies.columns = interest_cols"
   ]
  },
  {
   "cell_type": "code",
   "execution_count": 730,
   "metadata": {
    "collapsed": false
   },
   "outputs": [],
   "source": [
    "with_interest_dummies.drop('interests', axis=1, inplace=True)"
   ]
  },
  {
   "cell_type": "code",
   "execution_count": 731,
   "metadata": {
    "collapsed": true
   },
   "outputs": [],
   "source": [
    "with_demo = pd.concat([with_browser, with_interest_dummies], axis=1)"
   ]
  },
  {
   "cell_type": "markdown",
   "metadata": {},
   "source": [
    "###  Distance between self and other for each svo question"
   ]
  },
  {
   "cell_type": "code",
   "execution_count": 732,
   "metadata": {
    "collapsed": false
   },
   "outputs": [],
   "source": [
    "answers = list(df.answers)\n",
    "answers_list = list(itertools.chain(*answers))\n",
    "adf = pd.DataFrame(answers_list)"
   ]
  },
  {
   "cell_type": "code",
   "execution_count": 733,
   "metadata": {
    "collapsed": false
   },
   "outputs": [],
   "source": [
    "adf['sodiff'] = adf.self - adf.other"
   ]
  },
  {
   "cell_type": "code",
   "execution_count": 734,
   "metadata": {
    "collapsed": false
   },
   "outputs": [],
   "source": [
    "answer_diffs = (adf[adf.question < 6]\n",
    "    .groupby(['sessionId', 'question'])\n",
    "    .sodiff.agg('sum')\n",
    "    .unstack()\n",
    "    .reset_index()\n",
    "    .fillna(0))"
   ]
  },
  {
   "cell_type": "code",
   "execution_count": 735,
   "metadata": {
    "collapsed": false
   },
   "outputs": [],
   "source": [
    "answer_diffs.columns = [\"sessionId\", \"ad0\", \"ad1\", \"ad2\", \"ad3\", \"ad4\", \"ad5\"]"
   ]
  },
  {
   "cell_type": "code",
   "execution_count": 736,
   "metadata": {
    "collapsed": false
   },
   "outputs": [],
   "source": [
    "with_demo = with_demo.merge(answer_diffs, left_on='_id', right_on='sessionId')"
   ]
  },
  {
   "cell_type": "code",
   "execution_count": 737,
   "metadata": {
    "collapsed": false
   },
   "outputs": [
    {
     "data": {
      "text/plain": [
       "(831, 7)"
      ]
     },
     "execution_count": 737,
     "metadata": {},
     "output_type": "execute_result"
    }
   ],
   "source": [
    "answer_diffs.shape"
   ]
  },
  {
   "cell_type": "markdown",
   "metadata": {},
   "source": [
    "### Secondary Measures"
   ]
  },
  {
   "cell_type": "code",
   "execution_count": 738,
   "metadata": {
    "collapsed": true
   },
   "outputs": [],
   "source": [
    "def secondary_measures(row):\n",
    "    if not row:\n",
    "        return {\n",
    "            'dal': None,\n",
    "            'dia': None,\n",
    "            'dic': None,\n",
    "            'djg': None,\n",
    "            'ia': None\n",
    "        }\n",
    "    else:\n",
    "        return row"
   ]
  },
  {
   "cell_type": "code",
   "execution_count": 739,
   "metadata": {
    "collapsed": false
   },
   "outputs": [],
   "source": [
    "secondary_records = list(with_location.secondaryMeasures.fillna(False).apply(secondary_measures))"
   ]
  },
  {
   "cell_type": "code",
   "execution_count": 740,
   "metadata": {
    "collapsed": true
   },
   "outputs": [],
   "source": [
    "sdf = pd.DataFrame(secondary_records)"
   ]
  },
  {
   "cell_type": "code",
   "execution_count": 741,
   "metadata": {
    "collapsed": true
   },
   "outputs": [],
   "source": [
    "with_secondary_measures = pd.concat([with_demo, sdf], axis=1)"
   ]
  },
  {
   "cell_type": "code",
   "execution_count": 742,
   "metadata": {
    "collapsed": false
   },
   "outputs": [],
   "source": [
    "# sdf[(sdf.ia.notnull()) & (sdf.ia != 'does not fit criteria')].ia.astype(float).hist(bins=50)"
   ]
  },
  {
   "cell_type": "markdown",
   "metadata": {},
   "source": [
    "### Add features for the events"
   ]
  },
  {
   "cell_type": "code",
   "execution_count": 743,
   "metadata": {
    "collapsed": false
   },
   "outputs": [],
   "source": [
    "events = list(with_secondary_measures[with_secondary_measures.events.notnull()].events)"
   ]
  },
  {
   "cell_type": "code",
   "execution_count": 744,
   "metadata": {
    "collapsed": false
   },
   "outputs": [],
   "source": [
    "combined_events = list(itertools.chain(*events))"
   ]
  },
  {
   "cell_type": "code",
   "execution_count": 745,
   "metadata": {
    "collapsed": false
   },
   "outputs": [],
   "source": [
    "## Event counts for each question\n",
    "eventsdf = pd.DataFrame(combined_events)"
   ]
  },
  {
   "cell_type": "code",
   "execution_count": 746,
   "metadata": {
    "collapsed": false
   },
   "outputs": [],
   "source": [
    "# Moved slider event count\n",
    "survey_events = eventsdf[eventsdf.type == 'Moved Slider']\n",
    "event_counts = survey_events.groupby(['sessionId', 'question'])._id.agg('count').unstack().reset_index().fillna(0)"
   ]
  },
  {
   "cell_type": "code",
   "execution_count": 747,
   "metadata": {
    "collapsed": false
   },
   "outputs": [],
   "source": [
    "event_counts.columns = ['sessionId', 'ev0', 'ev1', 'ev2', 'ev3', 'ev4', 'ev5']"
   ]
  },
  {
   "cell_type": "code",
   "execution_count": 748,
   "metadata": {
    "collapsed": false
   },
   "outputs": [],
   "source": [
    "with_event_counts = pd.merge(with_secondary_measures, event_counts, left_on='_id', right_on='sessionId', how='left')"
   ]
  },
  {
   "cell_type": "code",
   "execution_count": 749,
   "metadata": {
    "collapsed": true
   },
   "outputs": [],
   "source": [
    "# Instruction count\n",
    "instruction = eventsdf[eventsdf.type != 'Moved Slider']\n",
    "instruction_count = instruction.groupby(['sessionId', 'question'])._id.agg('count').unstack().reset_index().fillna(0)"
   ]
  },
  {
   "cell_type": "code",
   "execution_count": 750,
   "metadata": {
    "collapsed": false
   },
   "outputs": [],
   "source": [
    "instruction_count.columns = ['sessionId', 'i0', 'i1', 'i2', 'i3', 'i4', 'i5']"
   ]
  },
  {
   "cell_type": "code",
   "execution_count": 751,
   "metadata": {
    "collapsed": true
   },
   "outputs": [],
   "source": [
    "with_instruction_count = pd.merge(\n",
    "    with_event_counts, \n",
    "    instruction_count, \n",
    "    left_on='_id', \n",
    "    right_on='sessionId', \n",
    "    how='left'\n",
    ")"
   ]
  },
  {
   "cell_type": "code",
   "execution_count": 752,
   "metadata": {
    "collapsed": true
   },
   "outputs": [],
   "source": [
    "event_cols = [\n",
    "    'ev0', 'ev1', 'ev2',\n",
    "    'ev3', 'ev4', 'ev5',\n",
    "    'i0', 'i1', 'i2', 'i4', 'i5'\n",
    "]"
   ]
  },
  {
   "cell_type": "code",
   "execution_count": 753,
   "metadata": {
    "collapsed": false
   },
   "outputs": [],
   "source": [
    "with_instruction_count.loc[:, event_cols] = with_instruction_count.loc[:, event_cols].fillna(0)"
   ]
  },
  {
   "cell_type": "markdown",
   "metadata": {},
   "source": [
    "### Add features for answers"
   ]
  },
  {
   "cell_type": "code",
   "execution_count": 754,
   "metadata": {
    "collapsed": true
   },
   "outputs": [],
   "source": [
    "### Todo, add the answer time for each question"
   ]
  },
  {
   "cell_type": "markdown",
   "metadata": {},
   "source": [
    "### Add interaction terms"
   ]
  },
  {
   "cell_type": "code",
   "execution_count": 755,
   "metadata": {
    "collapsed": true
   },
   "outputs": [],
   "source": [
    "region_cols = [\n",
    "    'region_midwest', 'region_northeast', \n",
    "    'region_south', 'region_west',\n",
    "]"
   ]
  },
  {
   "cell_type": "code",
   "execution_count": 756,
   "metadata": {
    "collapsed": false
   },
   "outputs": [],
   "source": [
    "with_instruction_count['rel_pol'] = with_instruction_count.religiosity * with_instruction_count.politics "
   ]
  },
  {
   "cell_type": "code",
   "execution_count": 757,
   "metadata": {
    "collapsed": true
   },
   "outputs": [],
   "source": [
    "with_instruction_count['ed_pol'] = with_instruction_count.education * with_instruction_count.politics "
   ]
  },
  {
   "cell_type": "code",
   "execution_count": 758,
   "metadata": {
    "collapsed": false
   },
   "outputs": [],
   "source": [
    "reg_pol = with_instruction_count[region_cols].multiply(with_instruction_count.politics, axis=0)\n",
    "reg_pol.columns = [c + '_pol' for c in reg_pol.columns]"
   ]
  },
  {
   "cell_type": "code",
   "execution_count": 777,
   "metadata": {
    "collapsed": false
   },
   "outputs": [],
   "source": [
    "# reg_pol.columns"
   ]
  },
  {
   "cell_type": "code",
   "execution_count": 760,
   "metadata": {
    "collapsed": false
   },
   "outputs": [],
   "source": [
    "with_instruction_count = pd.concat([with_instruction_count, reg_pol], axis=1)"
   ]
  },
  {
   "cell_type": "code",
   "execution_count": 763,
   "metadata": {
    "collapsed": true
   },
   "outputs": [],
   "source": [
    "reg_rel = with_instruction_count[region_cols].multiply(with_instruction_count.relationship_development, axis=0)\n",
    "reg_rel.columns = [c + '_rel' for c in reg_rel.columns]"
   ]
  },
  {
   "cell_type": "code",
   "execution_count": 766,
   "metadata": {
    "collapsed": true
   },
   "outputs": [],
   "source": [
    "with_instruction_count = pd.concat([with_instruction_count, reg_rel], axis=1)"
   ]
  },
  {
   "cell_type": "code",
   "execution_count": 779,
   "metadata": {
    "collapsed": false
   },
   "outputs": [],
   "source": [
    "# with_instruction_count.head()"
   ]
  },
  {
   "cell_type": "code",
   "execution_count": 769,
   "metadata": {
    "collapsed": false
   },
   "outputs": [],
   "source": [
    "#with_instruction_count['ed_income'] = with_instruction_count.education * with_instruction_count.income "
   ]
  },
  {
   "cell_type": "markdown",
   "metadata": {},
   "source": [
    "### Add prosocial feature"
   ]
  },
  {
   "cell_type": "code",
   "execution_count": 770,
   "metadata": {
    "collapsed": false
   },
   "outputs": [],
   "source": [
    "with_instruction_count.loc[:, \"prosocial\"] = with_instruction_count.type.replace({\n",
    "        \"prosocial\": 1,\n",
    "        \"altruistic\": 1,\n",
    "        \"individualistic\": 0,\n",
    "        \"competitive\": 0\n",
    "    })"
   ]
  },
  {
   "cell_type": "code",
   "execution_count": 771,
   "metadata": {
    "collapsed": false
   },
   "outputs": [],
   "source": [
    "# with_instruction_count[[\"prosocial\", \"type\"]]"
   ]
  },
  {
   "cell_type": "markdown",
   "metadata": {},
   "source": [
    "## Drop unused columns and prep the output"
   ]
  },
  {
   "cell_type": "code",
   "execution_count": 772,
   "metadata": {
    "collapsed": true
   },
   "outputs": [],
   "source": [
    "final_df = with_instruction_count.loc[with_instruction_count.svo.notnull(), :]"
   ]
  },
  {
   "cell_type": "code",
   "execution_count": 773,
   "metadata": {
    "collapsed": false
   },
   "outputs": [],
   "source": [
    "final_df = final_df.drop([\n",
    "    '_rev', 'answers', 'browser', 'events', \n",
    "    'secondaryMeasures', 'demoSurvey', \n",
    "    'sessionId', 'sessionId_x', 'sessionId_y',\n",
    "    'buildID', 'cookieEnabled', 'language',\n",
    "    'pointerEnabled', 'product', 'onLine'], axis=1)"
   ]
  },
  {
   "cell_type": "code",
   "execution_count": 774,
   "metadata": {
    "collapsed": false
   },
   "outputs": [],
   "source": [
    "final_df.to_csv('../data/clean/surveys.csv', encoding='utf-8', index=False)"
   ]
  },
  {
   "cell_type": "markdown",
   "metadata": {},
   "source": [
    "#### TODO: Move to another notebook"
   ]
  },
  {
   "cell_type": "code",
   "execution_count": 515,
   "metadata": {
    "collapsed": false
   },
   "outputs": [],
   "source": [
    "# plt.figure(figsize=(12, 6))\n",
    "# sns.boxplot(x=\"question\", y=\"sodiff\", data=adf)"
   ]
  },
  {
   "cell_type": "code",
   "execution_count": 513,
   "metadata": {
    "collapsed": false
   },
   "outputs": [],
   "source": [
    "# plt.figure(figsize=(12, 6))\n",
    "# sns.violinplot(x=\"question\", y=\"resonseTime\", data=adf[adf.resonseTime < 30000])"
   ]
  },
  {
   "cell_type": "code",
   "execution_count": 514,
   "metadata": {
    "collapsed": false
   },
   "outputs": [],
   "source": [
    "# plt.figure(figsize=(12, 6))\n",
    "# sns.violinplot(x=\"question\", y=\"sodiff\", data=adf[adf.resonseTime < 30000])"
   ]
  },
  {
   "cell_type": "code",
   "execution_count": 210,
   "metadata": {
    "collapsed": false
   },
   "outputs": [],
   "source": [
    "# fig, ax = plt.subplots(figsize=(8,6))\n",
    "# grouped = adf.groupby('sessionId')\n",
    "# for name, group in grouped:\n",
    "#     group.plot(x='question', y='resonseTime', ax=ax, legend=False)"
   ]
  },
  {
   "cell_type": "markdown",
   "metadata": {
    "collapsed": true
   },
   "source": [
    "### Ideas to get additional features\n",
    " - [Browser history](http://bhavin.directi.com/using-javascript-to-read-a-users-browser-history/)"
   ]
  },
  {
   "cell_type": "markdown",
   "metadata": {
    "collapsed": true
   },
   "source": [
    "### Rank order of preferences"
   ]
  },
  {
   "cell_type": "markdown",
   "metadata": {},
   "source": [
    "### Transativity of preferences"
   ]
  },
  {
   "cell_type": "markdown",
   "metadata": {},
   "source": [
    "### Secondary Item Analysis "
   ]
  },
  {
   "cell_type": "code",
   "execution_count": 281,
   "metadata": {
    "collapsed": false
   },
   "outputs": [],
   "source": [
    "equality_points = {\n",
    "    6: 81,\n",
    "    7: 95,\n",
    "    8: 81,\n",
    "    9: 93,\n",
    "    10: 85,\n",
    "    11: 92,\n",
    "    12: 75,\n",
    "    13: 93,\n",
    "    14: 92\n",
    "}\n",
    "\n",
    "# zeros at 2, 5, 7\n",
    "maximizing_points = {\n",
    "    6: 70,\n",
    "    7: None,\n",
    "    8: 100,\n",
    "    9: 90,\n",
    "    10: None,\n",
    "    11: 100,\n",
    "    12: None,\n",
    "    13: 100,\n",
    "    14: 90\n",
    "}\n",
    "\n",
    "others_gain = {\n",
    "    6: 70,\n",
    "    7: 90,\n",
    "    8: 50,\n",
    "    9: 90,\n",
    "    10: 70,\n",
    "    11: 50,\n",
    "    12: 50,\n",
    "    13: 100,\n",
    "    14: 90\n",
    "}\n",
    "\n",
    "own_gain = {\n",
    "    6: 100,\n",
    "    7: 100,\n",
    "    8: 100,\n",
    "    9: 100,\n",
    "    10: 100,\n",
    "    11: 100,\n",
    "    12: 100,\n",
    "    13: 100,\n",
    "    14: 100    \n",
    "}\n",
    "\n",
    "max_distances = {\n",
    "    6: 30,\n",
    "    7: 10,\n",
    "    8: 50,\n",
    "    9: 10,\n",
    "    10: 30,\n",
    "    11: 50,\n",
    "    12: 50,\n",
    "    13: 30,\n",
    "    14: 10    \n",
    "}"
   ]
  },
  {
   "cell_type": "code",
   "execution_count": 282,
   "metadata": {
    "collapsed": false
   },
   "outputs": [],
   "source": [
    "sessions = adf.groupby('sessionId')"
   ]
  },
  {
   "cell_type": "code",
   "execution_count": 283,
   "metadata": {
    "collapsed": false
   },
   "outputs": [],
   "source": [
    "test_session = sessions.get_group('0136909466a936daa3b8b26a0796d21f')"
   ]
  },
  {
   "cell_type": "code",
   "execution_count": 295,
   "metadata": {
    "collapsed": true
   },
   "outputs": [],
   "source": [
    "adf['range'] = adf.question.replace(max_distances)\n",
    "adf['equality_point'] = adf.question.replace(equality_points)\n",
    "adf['jg_point'] = adf.question.replace(maximizing_points)\n",
    "adf['other_gain'] = adf.question.replace(others_gain)\n",
    "adf['self_gain'] = adf.question.replace(own_gain)"
   ]
  },
  {
   "cell_type": "code",
   "execution_count": 298,
   "metadata": {
    "collapsed": true
   },
   "outputs": [],
   "source": [
    "secondary_df = adf.loc[adf.question > 5,:]"
   ]
  },
  {
   "cell_type": "code",
   "execution_count": 299,
   "metadata": {
    "collapsed": false
   },
   "outputs": [
    {
     "name": "stderr",
     "output_type": "stream",
     "text": [
      "/Users/pdarche/miniconda3/lib/python3.5/site-packages/ipykernel/__main__.py:1: SettingWithCopyWarning: \n",
      "A value is trying to be set on a copy of a slice from a DataFrame.\n",
      "Try using .loc[row_indexer,col_indexer] = value instead\n",
      "\n",
      "See the caveats in the documentation: http://pandas.pydata.org/pandas-docs/stable/indexing.html#indexing-view-versus-copy\n",
      "  if __name__ == '__main__':\n"
     ]
    }
   ],
   "source": [
    "secondary_df['dia'] = secondary_df.apply(lambda r: abs(r['self'] - r['equality_point'])/r['range'], axis=1)"
   ]
  },
  {
   "cell_type": "code",
   "execution_count": 300,
   "metadata": {
    "collapsed": false
   },
   "outputs": [
    {
     "name": "stderr",
     "output_type": "stream",
     "text": [
      "/Users/pdarche/miniconda3/lib/python3.5/site-packages/ipykernel/__main__.py:1: SettingWithCopyWarning: \n",
      "A value is trying to be set on a copy of a slice from a DataFrame.\n",
      "Try using .loc[row_indexer,col_indexer] = value instead\n",
      "\n",
      "See the caveats in the documentation: http://pandas.pydata.org/pandas-docs/stable/indexing.html#indexing-view-versus-copy\n",
      "  if __name__ == '__main__':\n"
     ]
    }
   ],
   "source": [
    "secondary_df['jg_point'] = secondary_df.question.replace(maximizing_points)"
   ]
  },
  {
   "cell_type": "code",
   "execution_count": 301,
   "metadata": {
    "collapsed": false
   },
   "outputs": [
    {
     "name": "stderr",
     "output_type": "stream",
     "text": [
      "/Users/pdarche/miniconda3/lib/python3.5/site-packages/ipykernel/__main__.py:2: SettingWithCopyWarning: \n",
      "A value is trying to be set on a copy of a slice from a DataFrame.\n",
      "Try using .loc[row_indexer,col_indexer] = value instead\n",
      "\n",
      "See the caveats in the documentation: http://pandas.pydata.org/pandas-docs/stable/indexing.html#indexing-view-versus-copy\n",
      "  from ipykernel import kernelapp as app\n"
     ]
    }
   ],
   "source": [
    "secondary_df['djg'] = secondary_df.apply(\n",
    "    lambda r: (abs(r['self'] - r['jg_point']) / r['range']), axis=1).replace(np.nan, 0)"
   ]
  },
  {
   "cell_type": "code",
   "execution_count": 306,
   "metadata": {
    "collapsed": false
   },
   "outputs": [
    {
     "name": "stderr",
     "output_type": "stream",
     "text": [
      "/Users/pdarche/miniconda3/lib/python3.5/site-packages/ipykernel/__main__.py:1: SettingWithCopyWarning: \n",
      "A value is trying to be set on a copy of a slice from a DataFrame.\n",
      "Try using .loc[row_indexer,col_indexer] = value instead\n",
      "\n",
      "See the caveats in the documentation: http://pandas.pydata.org/pandas-docs/stable/indexing.html#indexing-view-versus-copy\n",
      "  if __name__ == '__main__':\n"
     ]
    }
   ],
   "source": [
    "secondary_df['dal'] = secondary_df.apply(lambda r: abs(r['self'] - r['other_gain']) / r['range'], axis=1)"
   ]
  },
  {
   "cell_type": "code",
   "execution_count": 308,
   "metadata": {
    "collapsed": false
   },
   "outputs": [
    {
     "name": "stderr",
     "output_type": "stream",
     "text": [
      "/Users/pdarche/miniconda3/lib/python3.5/site-packages/ipykernel/__main__.py:1: SettingWithCopyWarning: \n",
      "A value is trying to be set on a copy of a slice from a DataFrame.\n",
      "Try using .loc[row_indexer,col_indexer] = value instead\n",
      "\n",
      "See the caveats in the documentation: http://pandas.pydata.org/pandas-docs/stable/indexing.html#indexing-view-versus-copy\n",
      "  if __name__ == '__main__':\n"
     ]
    }
   ],
   "source": [
    "secondary_df['dic'] = secondary_df.apply(lambda r: abs(r['self'] - r['self_gain']) / r['range'], axis=1)"
   ]
  },
  {
   "cell_type": "code",
   "execution_count": 314,
   "metadata": {
    "collapsed": false
   },
   "outputs": [],
   "source": [
    "sessions = secondary_df.groupby('sessionId')"
   ]
  },
  {
   "cell_type": "code",
   "execution_count": null,
   "metadata": {
    "collapsed": true
   },
   "outputs": [],
   "source": []
  },
  {
   "cell_type": "code",
   "execution_count": 317,
   "metadata": {
    "collapsed": false
   },
   "outputs": [],
   "source": [
    "test_group = sessions.get_group('0136909466a936daa3b8b26a0796d21f')"
   ]
  },
  {
   "cell_type": "code",
   "execution_count": 321,
   "metadata": {
    "collapsed": false
   },
   "outputs": [],
   "source": [
    "dia = test_group.dia.sum() / 9\n",
    "djg = test_group.djg.sum() / 9\n",
    "dal = test_group.dal.sum() / 9\n",
    "dic = test_group.dic.sum() / 9"
   ]
  },
  {
   "cell_type": "code",
   "execution_count": 329,
   "metadata": {
    "collapsed": false
   },
   "outputs": [
    {
     "name": "stdout",
     "output_type": "stream",
     "text": [
      "yup\n"
     ]
    }
   ],
   "source": [
    "if ((dia <= dal and dia <= dic) and (djg <= dal and djg <= dic)):\n",
    "    print(\"yup\")"
   ]
  },
  {
   "cell_type": "code",
   "execution_count": 339,
   "metadata": {
    "collapsed": false
   },
   "outputs": [],
   "source": [
    "# dia\n",
    "# djg\n",
    "# dal\n",
    "# dic"
   ]
  },
  {
   "cell_type": "code",
   "execution_count": 337,
   "metadata": {
    "collapsed": true
   },
   "outputs": [],
   "source": [
    "ia_index = dia / (dia + djg)"
   ]
  },
  {
   "cell_type": "code",
   "execution_count": 338,
   "metadata": {
    "collapsed": false
   },
   "outputs": [
    {
     "data": {
      "text/plain": [
       "0.068377060599024805"
      ]
     },
     "execution_count": 338,
     "metadata": {},
     "output_type": "execute_result"
    }
   ],
   "source": [
    "ia_index"
   ]
  },
  {
   "cell_type": "code",
   "execution_count": 340,
   "metadata": {
    "collapsed": true
   },
   "outputs": [],
   "source": [
    "# Compute this for all of the groups"
   ]
  },
  {
   "cell_type": "code",
   "execution_count": 345,
   "metadata": {
    "collapsed": false
   },
   "outputs": [],
   "source": [
    "ias = sessions.agg({\n",
    "    'dia': lambda x: np.sum(x) / 9,\n",
    "    'djg': lambda x: np.sum(x) / 9,\n",
    "    'dal': lambda x: np.sum(x) / 9,\n",
    "    'dic': lambda x: np.sum(x) / 9,    \n",
    "}).reset_index()"
   ]
  },
  {
   "cell_type": "code",
   "execution_count": 354,
   "metadata": {
    "collapsed": false
   },
   "outputs": [
    {
     "data": {
      "text/plain": [
       "0     0.068377\n",
       "1     0.124443\n",
       "2     0.402020\n",
       "3     0.417192\n",
       "4     0.565637\n",
       "5     0.399630\n",
       "6     0.364910\n",
       "7     0.292621\n",
       "8     0.353120\n",
       "9     0.463054\n",
       "10    0.483945\n",
       "11    0.337424\n",
       "12    0.730287\n",
       "13    0.124175\n",
       "14    0.069293\n",
       "15    0.311927\n",
       "16    0.462843\n",
       "17    0.170971\n",
       "18    0.658799\n",
       "19    0.595643\n",
       "20    0.533263\n",
       "21    0.071723\n",
       "22    0.311927\n",
       "23    0.311927\n",
       "24    0.322889\n",
       "25    0.311927\n",
       "26    0.151864\n",
       "27    0.292435\n",
       "28    0.594959\n",
       "29    0.311927\n",
       "30    0.594959\n",
       "31    0.429414\n",
       "32    0.462008\n",
       "33    0.422433\n",
       "34    0.402291\n",
       "35    0.349183\n",
       "36    0.411434\n",
       "37    0.370712\n",
       "38    0.372252\n",
       "dtype: float64"
      ]
     },
     "execution_count": 354,
     "metadata": {},
     "output_type": "execute_result"
    }
   ],
   "source": [
    "ias.apply(lambda r: r['dia'] / (r['dia'] + r['djg']), axis=1)"
   ]
  },
  {
   "cell_type": "code",
   "execution_count": 356,
   "metadata": {
    "collapsed": false
   },
   "outputs": [],
   "source": [
    "ias['ia'] = ias.apply(\n",
    "    lambda r: r['dia'] / (r['dia'] + r['djg']) if \\\n",
    "    ((r['dia'] <= r['dal'] and r['dia'] <= r['dic'])\\\n",
    "    and (r['djg'] <= r['dal'] and r['djg'] <= r['dic'])) else None, axis=1) "
   ]
  },
  {
   "cell_type": "code",
   "execution_count": 171,
   "metadata": {
    "collapsed": false
   },
   "outputs": [],
   "source": [
    "# sns.distplot(ias.ia[ias.ia.notnull()])"
   ]
  },
  {
   "cell_type": "code",
   "execution_count": null,
   "metadata": {
    "collapsed": true
   },
   "outputs": [],
   "source": []
  },
  {
   "cell_type": "markdown",
   "metadata": {},
   "source": [
    "###  Events DF"
   ]
  },
  {
   "cell_type": "code",
   "execution_count": 559,
   "metadata": {
    "collapsed": true
   },
   "outputs": [],
   "source": [
    "# res = requests.get('https://svo.world/svo-8f1f36e8e634eaf4ae7ee7d605c81757/_all_docs/?include_docs=true')\n",
    "# docs = [d['doc'] for d in res.json()['rows']]\n",
    "# tdf = pd.DataFrame(docs) "
   ]
  },
  {
   "cell_type": "code",
   "execution_count": 560,
   "metadata": {
    "collapsed": false
   },
   "outputs": [],
   "source": [
    "# tdf['completedAt'] = tdf.completedAt.apply(pd.to_datetime)"
   ]
  },
  {
   "cell_type": "code",
   "execution_count": 561,
   "metadata": {
    "collapsed": false
   },
   "outputs": [],
   "source": [
    "# events = list(tdf[tdf.completedAt==tdf.completedAt.max()].events)"
   ]
  },
  {
   "cell_type": "code",
   "execution_count": 562,
   "metadata": {
    "collapsed": false
   },
   "outputs": [],
   "source": [
    "# eventdf = pd.DataFrame(events[0])"
   ]
  },
  {
   "cell_type": "code",
   "execution_count": 563,
   "metadata": {
    "collapsed": false
   },
   "outputs": [],
   "source": [
    "# eventdf['selfDiff'] = (eventdf.self - eventdf.selfStart)\n",
    "# eventdf['otherDiff'] = (eventdf.other - eventdf.otherStart)"
   ]
  },
  {
   "cell_type": "code",
   "execution_count": 564,
   "metadata": {
    "collapsed": false
   },
   "outputs": [],
   "source": [
    "# eventdf.loc[:, 'occuredAt'] = eventdf.occuredAt.apply(pd.to_datetime)"
   ]
  },
  {
   "cell_type": "code",
   "execution_count": 565,
   "metadata": {
    "collapsed": false
   },
   "outputs": [],
   "source": [
    "# eventdf['self'] = eventdf.value.apply(lambda v: v[0] if v else None)\n",
    "# eventdf['other'] = eventdf.value.apply(lambda v: v[1] if v else None)"
   ]
  },
  {
   "cell_type": "code",
   "execution_count": 566,
   "metadata": {
    "collapsed": true
   },
   "outputs": [],
   "source": [
    "# movements = eventdf[eventdf.type=='Moved Slider']"
   ]
  },
  {
   "cell_type": "code",
   "execution_count": 567,
   "metadata": {
    "collapsed": false
   },
   "outputs": [],
   "source": [
    "# plt.figure(figsize=(12, 6))\n",
    "# for n, g in eventdf.groupby('question'):\n",
    "#     g.selfDiff.plot()\n",
    "#     g.otherDiff.plot()\n",
    "# sns.tsplot(eventdf.selfDiff, time=eventdf.occuredAt, color=eventdf.question)\n",
    "# sns.tsplot(value=\"selfDiff\", time=\"occuredAt\", condition=\"question\", data=eventdf)"
   ]
  }
 ],
 "metadata": {
  "anaconda-cloud": {},
  "kernelspec": {
   "display_name": "Python [conda root]",
   "language": "python",
   "name": "conda-root-py"
  },
  "language_info": {
   "codemirror_mode": {
    "name": "ipython",
    "version": 3
   },
   "file_extension": ".py",
   "mimetype": "text/x-python",
   "name": "python",
   "nbconvert_exporter": "python",
   "pygments_lexer": "ipython3",
   "version": "3.5.2"
  }
 },
 "nbformat": 4,
 "nbformat_minor": 1
}
