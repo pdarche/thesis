{
 "cells": [
  {
   "cell_type": "code",
   "execution_count": 1,
   "metadata": {
    "collapsed": false
   },
   "outputs": [],
   "source": [
    "import pickle\n",
    "import warnings\n",
    "\n",
    "import pandas as pd\n",
    "import numpy as np\n",
    "import seaborn as sns"
   ]
  },
  {
   "cell_type": "code",
   "execution_count": 359,
   "metadata": {
    "collapsed": false
   },
   "outputs": [],
   "source": [
    "from imblearn.under_sampling import RandomUnderSampler\n",
    "from imblearn.under_sampling import RepeatedEditedNearestNeighbours"
   ]
  },
  {
   "cell_type": "code",
   "execution_count": 3,
   "metadata": {
    "collapsed": false
   },
   "outputs": [],
   "source": [
    "warnings.filterwarnings('ignore')"
   ]
  },
  {
   "cell_type": "code",
   "execution_count": 4,
   "metadata": {
    "collapsed": false
   },
   "outputs": [
    {
     "name": "stdout",
     "output_type": "stream",
     "text": [
      "Populating the interactive namespace from numpy and matplotlib\n"
     ]
    }
   ],
   "source": [
    "%pylab inline"
   ]
  },
  {
   "cell_type": "markdown",
   "metadata": {},
   "source": [
    "### Todos\n",
    " - Feature creation \n",
    "  - [x] add polynomial features\n",
    "  - [x] add gender feature\n",
    "  - [x] add state feature\n",
    "  - [ ] add census region and subregion\n",
    "  - [ ] add interaction features\n",
    "  - [x] one-hot encode race or include it in the regression\n",
    "  - [ ] apply more transformations to the variables (log, etc.)\n",
    "  - [ ] Do some dimensionality reduction / clustering to add features?\n",
    "  - [ ] Run KNN on PCA'd features\n",
    " - Hyperparameter tuning\n",
    "  - [x] Grid search for all classifiers and meta classfiers\n",
    "  - [A User's Guide to SVMs](http://pyml.sourceforge.net/doc/howto.pdf)\n",
    " - Model stacking / Pipelining / Ensembling\n",
    "  - [ ] Review Kaggle posts / [approaches to model stacking](http://blog.kaggle.com/2016/12/27/a-kagglers-guide-to-model-stacking-in-practice/) \n",
    "  - [ ] Review Kaggle posts / approaches to multi-model voting\n",
    " - Model Diagnostics\n",
    "  - [ ] Update ROC curve\n",
    "  - [ ] Run Classification reports for all classifiers\n",
    "  - [ ] run logistic regression (or another classifier) to get class probabilities.  Identify the data points that are getting low probabilities\n",
    "  - [x] create a pipeline for identifying the miss-classified datapoints and investigate the features that may be causing issues\n",
    "  - [ ] See which classifiers do best on the hard cases  \n",
    "  - [ ] See this [kaggle post](https://www.kaggle.com/ngutten/otto-group-product-classification-challenge/visualizing-mistakes/code)\n",
    "  - [Metrics to Evaluate Machine Learning Algorithms in Python](http://machinelearningmastery.com/metrics-evaluate-machine-learning-algorithms-python/)\n",
    "  - [Visulaizing Mistakes](https://www.kaggle.com/ngutten/otto-group-product-classification-challenge/visualizing-mistakes/code)\n",
    "  - [Model evaluation, model, selection, and algo selection Pt. 1](https://sebastianraschka.com/blog/2016/model-evaluation-selection-part1.html)\n",
    "  "
   ]
  },
  {
   "cell_type": "code",
   "execution_count": 492,
   "metadata": {
    "collapsed": false
   },
   "outputs": [],
   "source": [
    "df = pd.read_csv('../data/clean/surveys.csv')"
   ]
  },
  {
   "cell_type": "code",
   "execution_count": 493,
   "metadata": {
    "collapsed": false
   },
   "outputs": [],
   "source": [
    "with open('./bad_data.pickle', 'rb') as f:\n",
    "    bdf = pickle.load(f)"
   ]
  },
  {
   "cell_type": "code",
   "execution_count": 494,
   "metadata": {
    "collapsed": false
   },
   "outputs": [],
   "source": [
    "with open('./transative_df.pickle', 'rb') as f:\n",
    "    tdf = pickle.load(f)"
   ]
  },
  {
   "cell_type": "code",
   "execution_count": 495,
   "metadata": {
    "collapsed": false
   },
   "outputs": [],
   "source": [
    "# df[df.income == 'Prefer not to answer']"
   ]
  },
  {
   "cell_type": "code",
   "execution_count": 496,
   "metadata": {
    "collapsed": false
   },
   "outputs": [],
   "source": [
    "# Question: how to impute missing data\n",
    "svo = df.loc[~(df._id.isin(bdf._id)), :]\n",
    "svo.loc[:, 'income'] = svo.loc[:, 'income'].astype(int)\n",
    "svo.loc[:, event_cols] = svo.loc[:, event_cols].fillna(0)\n",
    "svo.reset_index(drop=True, inplace=True)"
   ]
  },
  {
   "cell_type": "code",
   "execution_count": 497,
   "metadata": {
    "collapsed": false
   },
   "outputs": [],
   "source": [
    "svo = pd.merge(svo, tdf, how='left', left_on='_id', right_on='session')"
   ]
  },
  {
   "cell_type": "code",
   "execution_count": 500,
   "metadata": {
    "collapsed": false
   },
   "outputs": [],
   "source": [
    "# svo[svo.case=='hard'][['transitive', 'case']]"
   ]
  },
  {
   "cell_type": "code",
   "execution_count": 501,
   "metadata": {
    "collapsed": false
   },
   "outputs": [],
   "source": [
    "# sns.distplot(df[df.svo.notnull()].svo)\n",
    "# sns.distplot(svo.svo)"
   ]
  },
  {
   "cell_type": "code",
   "execution_count": 502,
   "metadata": {
    "collapsed": false
   },
   "outputs": [],
   "source": [
    "# sns.distplot(svo[svo.case!='hard'].svo)\n",
    "# sns.distplot(df[df.svo.notnull()].svo)"
   ]
  },
  {
   "cell_type": "markdown",
   "metadata": {},
   "source": [
    "### Features"
   ]
  },
  {
   "cell_type": "code",
   "execution_count": 503,
   "metadata": {
    "collapsed": true
   },
   "outputs": [],
   "source": [
    "demo_cols = [\n",
    "    'age', 'income', 'female', 'other_gender',\n",
    "    'education', 'politics', 'ethnicity_other',\n",
    "    'religiosity', 'trust_development',\n",
    "    'dependence_development',\n",
    "    'relationship_development'\n",
    "]"
   ]
  },
  {
   "cell_type": "code",
   "execution_count": 504,
   "metadata": {
    "collapsed": true
   },
   "outputs": [],
   "source": [
    "interest_cols = [\n",
    "    'health_fitness', 'indoor',\n",
    "    'life_style', 'nature', 'outdoor',\n",
    "    'performance_arts', 'sports', 'other'\n",
    "]"
   ]
  },
  {
   "cell_type": "code",
   "execution_count": 505,
   "metadata": {
    "collapsed": true
   },
   "outputs": [],
   "source": [
    "event_cols = [\n",
    "    'ev0', 'ev1', 'ev2',\n",
    "    'ev3', 'ev4', 'ev5',\n",
    "    'i0', 'i1', 'i2', 'i4'\n",
    "]"
   ]
  },
  {
   "cell_type": "code",
   "execution_count": 506,
   "metadata": {
    "collapsed": true
   },
   "outputs": [],
   "source": [
    "interaction_cols = [\n",
    "    'rel_pol'\n",
    "]"
   ]
  },
  {
   "cell_type": "code",
   "execution_count": 507,
   "metadata": {
    "collapsed": true
   },
   "outputs": [],
   "source": [
    "# state_cols = [\n",
    "#     'Alabama', 'Arizona', 'Arkansas', 'California', 'Colorado',\n",
    "#     'Connecticut', 'Delaware', 'District of Columbia', 'Florida', 'Georgia',\n",
    "#     'Hawaii', 'Idaho', 'Illinois', 'Indiana', 'Iowa', 'Kansas', 'Kentucky',\n",
    "#     'Louisiana', 'Maine', 'Maryland', 'Massachusetts', 'Michigan',\n",
    "#     'Minnesota', 'Mississippi', 'Missouri', 'Montana', 'Nebraska', 'Nevada',\n",
    "#     'New Hampshire', 'New Jersey', 'New Mexico', 'New York',\n",
    "#     'North Carolina', 'Ohio', 'Oklahoma', 'Oregon', 'Pennsylvania',\n",
    "#     'Rhode Island', 'South Carolina', 'Tennessee', 'Texas', 'Utah',\n",
    "#     'Vermont', 'Virginia', 'Washington', 'West Virginia', 'Wisconsin'\n",
    "#]\n",
    "region_cols = [\n",
    "    'region_midwest', 'region_northeast', \n",
    "    'region_south', 'region_west',\n",
    "]\n",
    "division_cols = [\n",
    "    'region_division_east_north_central',\n",
    "    'region_division_east_south_central', 'region_division_mid_atlantic',\n",
    "    'region_division_mountain', 'region_division_new_england',\n",
    "    'region_division_pacific', 'region_division_south_atlantic',\n",
    "    'region_division_west_north_central',\n",
    "    'region_division_west_south_central'    \n",
    "]\n",
    "# state_cols = ['state', 'region', 'region_division']"
   ]
  },
  {
   "cell_type": "code",
   "execution_count": 508,
   "metadata": {
    "collapsed": true
   },
   "outputs": [],
   "source": [
    "meta_cols = [\n",
    "    'durationSeconds'\n",
    "]"
   ]
  },
  {
   "cell_type": "code",
   "execution_count": 509,
   "metadata": {
    "collapsed": true
   },
   "outputs": [],
   "source": [
    "demo_preds = interest_cols + demo_cols + interaction_cols\n",
    "full_preds = interest_cols + demo_cols + interaction_cols + meta_cols + event_cols\n",
    "with_state_preds = interest_cols + demo_cols + interaction_cols + meta_cols + event_cols + region_cols"
   ]
  },
  {
   "cell_type": "code",
   "execution_count": 510,
   "metadata": {
    "collapsed": true
   },
   "outputs": [],
   "source": [
    "target_cols = with_state_preds"
   ]
  },
  {
   "cell_type": "code",
   "execution_count": 511,
   "metadata": {
    "collapsed": false
   },
   "outputs": [],
   "source": [
    "# sdf = svo[svo.case!='hard'].loc[:, ['svo'] + target_cols].dropna(axis=1, how='all')\n",
    "# tdf = svo[svo.case!='hard'].loc[:, ['type'] + target_cols].dropna(axis=1, how='all')\n",
    "sdf = svo[svo.transitive].loc[:, ['svo'] + target_cols].dropna(axis=1, how='all')\n",
    "tdf = svo[svo.transitive].loc[:, ['type'] + target_cols].dropna(axis=1, how='all')\n",
    "psdf = svo[svo.transitive].loc[:, ['prosocial'] + target_cols].dropna(axis=1, how='all')"
   ]
  },
  {
   "cell_type": "code",
   "execution_count": 512,
   "metadata": {
    "collapsed": false
   },
   "outputs": [],
   "source": [
    "from sklearn.model_selection import train_test_split\n",
    "from sklearn.preprocessing import minmax_scale"
   ]
  },
  {
   "cell_type": "code",
   "execution_count": 519,
   "metadata": {
    "collapsed": false
   },
   "outputs": [],
   "source": [
    "X = tdf.ix[:, 1:].reset_index(drop=True)\n",
    "# X = sdf.ix[:, 1:]\n",
    "# X = psdf.ix[:, 1:]"
   ]
  },
  {
   "cell_type": "code",
   "execution_count": 514,
   "metadata": {
    "collapsed": false
   },
   "outputs": [],
   "source": [
    "# X_scaled = minmax_scale(X)"
   ]
  },
  {
   "cell_type": "code",
   "execution_count": 515,
   "metadata": {
    "collapsed": false
   },
   "outputs": [],
   "source": [
    "y_svo = sdf.svo.as_matrix()\n",
    "y_type = pd.factorize(tdf.type.as_matrix())[0]\n",
    "y_ps = psdf.prosocial"
   ]
  },
  {
   "cell_type": "code",
   "execution_count": 349,
   "metadata": {
    "collapsed": true
   },
   "outputs": [],
   "source": [
    "# Undersampler\n",
    "us = RandomUnderSampler(ratio=.6)"
   ]
  },
  {
   "cell_type": "code",
   "execution_count": 314,
   "metadata": {
    "collapsed": false
   },
   "outputs": [],
   "source": [
    "X_train, X_test, y_train, y_test = train_test_split(X, y_ps, test_size=.25)"
   ]
  },
  {
   "cell_type": "code",
   "execution_count": 315,
   "metadata": {
    "collapsed": true
   },
   "outputs": [],
   "source": [
    "X_train_res, y_train_res = us.fit_sample(X_train, y_train)"
   ]
  },
  {
   "cell_type": "code",
   "execution_count": 316,
   "metadata": {
    "collapsed": false
   },
   "outputs": [],
   "source": [
    "# y_train_res[y_train_res == 1].shape"
   ]
  },
  {
   "cell_type": "code",
   "execution_count": 317,
   "metadata": {
    "collapsed": false
   },
   "outputs": [],
   "source": [
    "# y_train[y_train == 1].shape"
   ]
  },
  {
   "cell_type": "code",
   "execution_count": 318,
   "metadata": {
    "collapsed": false
   },
   "outputs": [],
   "source": [
    "# X_train_res[X_train_res == 1].shape"
   ]
  },
  {
   "cell_type": "code",
   "execution_count": 319,
   "metadata": {
    "collapsed": false
   },
   "outputs": [],
   "source": [
    "# X_train[X_train == 0].shape"
   ]
  },
  {
   "cell_type": "markdown",
   "metadata": {},
   "source": [
    "### Feature Engineering"
   ]
  },
  {
   "cell_type": "code",
   "execution_count": 33,
   "metadata": {
    "collapsed": false
   },
   "outputs": [],
   "source": [
    "poly = PolynomialFeatures(2)"
   ]
  },
  {
   "cell_type": "code",
   "execution_count": 52,
   "metadata": {
    "collapsed": true
   },
   "outputs": [],
   "source": [
    "EX = poly.fit_transform(X)"
   ]
  },
  {
   "cell_type": "code",
   "execution_count": 53,
   "metadata": {
    "collapsed": true
   },
   "outputs": [],
   "source": [
    "### Add interaction terms"
   ]
  },
  {
   "cell_type": "code",
   "execution_count": 489,
   "metadata": {
    "collapsed": true
   },
   "outputs": [],
   "source": [
    "# Feature Selection through Variance Threshold\n",
    "sel = VarianceThreshold(threshold=(.8 * (1 - .8)))\n",
    "X = sel.fit_transform(X)"
   ]
  },
  {
   "cell_type": "code",
   "execution_count": 491,
   "metadata": {
    "collapsed": false
   },
   "outputs": [],
   "source": [
    "las = Lasso().fit(X, y_svo)\n",
    "model = SelectFromModel(las, prefit=True)"
   ]
  },
  {
   "cell_type": "code",
   "execution_count": 492,
   "metadata": {
    "collapsed": false
   },
   "outputs": [],
   "source": [
    "X_new = model.transform(X)"
   ]
  },
  {
   "cell_type": "code",
   "execution_count": 186,
   "metadata": {
    "collapsed": false
   },
   "outputs": [],
   "source": [
    "# Features\n",
    "from sklearn.preprocessing import PolynomialFeatures\n",
    "from sklearn.feature_selection import SelectFromModel\n",
    "from sklearn.feature_selection import VarianceThreshold\n",
    "from sklearn.linear_model import Lasso, LassoLars\n",
    "\n",
    "# Hyper parameter optimization\n",
    "from sklearn.model_selection import GridSearchCV\n",
    "\n",
    "# Regression\n",
    "from sklearn.linear_model import LinearRegression\n",
    "from sklearn.ensemble import RandomForestRegressor\n",
    "from sklearn.ensemble import GradientBoostingRegressor\n",
    "from sklearn.svm import SVR\n",
    "from sklearn.neighbors import KNeighborsRegressor\n",
    "import statsmodels.api as sm\n",
    "\n",
    "# Classifiers\n",
    "from sklearn.linear_model import LogisticRegression\n",
    "from sklearn.naive_bayes import BernoulliNB\n",
    "from sklearn.ensemble import RandomForestClassifier, GradientBoostingClassifier, AdaBoostClassifier, VotingClassifier\n",
    "from sklearn.tree import DecisionTreeClassifier\n",
    "from sklearn.svm import SVC\n",
    "from sklearn.neighbors import KNeighborsClassifier\n",
    "\n",
    "# Metrics\n",
    "from sklearn.metrics import r2_score\n",
    "from sklearn.metrics import mean_squared_error\n",
    "from sklearn.metrics import accuracy_score\n",
    "from sklearn.metrics import classification_report\n",
    "from sklearn.metrics import confusion_matrix\n",
    "from sklearn.metrics import roc_curve, auc\n",
    "from sklearn.cross_validation import cross_val_score\n",
    "from sklearn.model_selection import learning_curve\n",
    "from sklearn.model_selection import ShuffleSplit"
   ]
  },
  {
   "cell_type": "markdown",
   "metadata": {},
   "source": [
    "## Regression"
   ]
  },
  {
   "cell_type": "markdown",
   "metadata": {},
   "source": [
    "#### Scikits"
   ]
  },
  {
   "cell_type": "code",
   "execution_count": 38,
   "metadata": {
    "collapsed": true
   },
   "outputs": [],
   "source": [
    "estimator = LinearRegression()"
   ]
  },
  {
   "cell_type": "code",
   "execution_count": 40,
   "metadata": {
    "collapsed": false
   },
   "outputs": [
    {
     "name": "stdout",
     "output_type": "stream",
     "text": [
      "Score with the entire dataset = -151.53\n"
     ]
    }
   ],
   "source": [
    "# estimator.fit(X, y_svo)\n",
    "score = cross_val_score(estimator, X, y_svo, cv=10, scoring='neg_mean_squared_error').mean()\n",
    "print(\"Score with the entire dataset = %.2f\" % score)"
   ]
  },
  {
   "cell_type": "markdown",
   "metadata": {},
   "source": [
    "#### Statsmodels"
   ]
  },
  {
   "cell_type": "code",
   "execution_count": 320,
   "metadata": {
    "collapsed": false
   },
   "outputs": [],
   "source": [
    "fit1 = sm.OLS(y_svo, X)"
   ]
  },
  {
   "cell_type": "code",
   "execution_count": 321,
   "metadata": {
    "collapsed": false
   },
   "outputs": [],
   "source": [
    "fit1_res = fit1.fit()"
   ]
  },
  {
   "cell_type": "code",
   "execution_count": 322,
   "metadata": {
    "collapsed": false
   },
   "outputs": [],
   "source": [
    "summary = fit1_res.summary()"
   ]
  },
  {
   "cell_type": "code",
   "execution_count": 323,
   "metadata": {
    "collapsed": false,
    "scrolled": false
   },
   "outputs": [
    {
     "data": {
      "text/html": [
       "<table class=\"simpletable\">\n",
       "<caption>OLS Regression Results</caption>\n",
       "<tr>\n",
       "  <th>Dep. Variable:</th>            <td>y</td>        <th>  R-squared:         </th> <td>   0.835</td> \n",
       "</tr>\n",
       "<tr>\n",
       "  <th>Model:</th>                   <td>OLS</td>       <th>  Adj. R-squared:    </th> <td>   0.825</td> \n",
       "</tr>\n",
       "<tr>\n",
       "  <th>Method:</th>             <td>Least Squares</td>  <th>  F-statistic:       </th> <td>   83.47</td> \n",
       "</tr>\n",
       "<tr>\n",
       "  <th>Date:</th>             <td>Sat, 29 Apr 2017</td> <th>  Prob (F-statistic):</th> <td>5.57e-195</td>\n",
       "</tr>\n",
       "<tr>\n",
       "  <th>Time:</th>                 <td>23:44:44</td>     <th>  Log-Likelihood:    </th> <td> -2326.3</td> \n",
       "</tr>\n",
       "<tr>\n",
       "  <th>No. Observations:</th>      <td>   593</td>      <th>  AIC:               </th> <td>   4721.</td> \n",
       "</tr>\n",
       "<tr>\n",
       "  <th>Df Residuals:</th>          <td>   559</td>      <th>  BIC:               </th> <td>   4870.</td> \n",
       "</tr>\n",
       "<tr>\n",
       "  <th>Df Model:</th>              <td>    34</td>      <th>                     </th>     <td> </td>    \n",
       "</tr>\n",
       "<tr>\n",
       "  <th>Covariance Type:</th>      <td>nonrobust</td>    <th>                     </th>     <td> </td>    \n",
       "</tr>\n",
       "</table>\n",
       "<table class=\"simpletable\">\n",
       "<tr>\n",
       "              <td></td>                <th>coef</th>     <th>std err</th>      <th>t</th>      <th>P>|t|</th>  <th>[0.025</th>    <th>0.975]</th>  \n",
       "</tr>\n",
       "<tr>\n",
       "  <th>health_fitness</th>           <td>    0.4476</td> <td>    1.176</td> <td>    0.381</td> <td> 0.704</td> <td>   -1.862</td> <td>    2.757</td>\n",
       "</tr>\n",
       "<tr>\n",
       "  <th>indoor</th>                   <td>    1.8569</td> <td>    1.225</td> <td>    1.516</td> <td> 0.130</td> <td>   -0.549</td> <td>    4.263</td>\n",
       "</tr>\n",
       "<tr>\n",
       "  <th>life_style</th>               <td>   -0.6408</td> <td>    1.217</td> <td>   -0.527</td> <td> 0.599</td> <td>   -3.031</td> <td>    1.750</td>\n",
       "</tr>\n",
       "<tr>\n",
       "  <th>nature</th>                   <td>    3.0638</td> <td>    1.225</td> <td>    2.501</td> <td> 0.013</td> <td>    0.658</td> <td>    5.470</td>\n",
       "</tr>\n",
       "<tr>\n",
       "  <th>outdoor</th>                  <td>   -1.7570</td> <td>    1.239</td> <td>   -1.418</td> <td> 0.157</td> <td>   -4.190</td> <td>    0.676</td>\n",
       "</tr>\n",
       "<tr>\n",
       "  <th>performance_arts</th>         <td>    0.2043</td> <td>    1.157</td> <td>    0.177</td> <td> 0.860</td> <td>   -2.069</td> <td>    2.478</td>\n",
       "</tr>\n",
       "<tr>\n",
       "  <th>sports</th>                   <td>   -0.0583</td> <td>    1.194</td> <td>   -0.049</td> <td> 0.961</td> <td>   -2.403</td> <td>    2.286</td>\n",
       "</tr>\n",
       "<tr>\n",
       "  <th>other</th>                    <td>    0.3517</td> <td>    1.326</td> <td>    0.265</td> <td> 0.791</td> <td>   -2.253</td> <td>    2.956</td>\n",
       "</tr>\n",
       "<tr>\n",
       "  <th>age</th>                      <td>    0.1291</td> <td>    0.038</td> <td>    3.357</td> <td> 0.001</td> <td>    0.054</td> <td>    0.205</td>\n",
       "</tr>\n",
       "<tr>\n",
       "  <th>income</th>                   <td>    0.1594</td> <td>    0.179</td> <td>    0.892</td> <td> 0.373</td> <td>   -0.192</td> <td>    0.510</td>\n",
       "</tr>\n",
       "<tr>\n",
       "  <th>female</th>                   <td>    1.2206</td> <td>    1.223</td> <td>    0.998</td> <td> 0.319</td> <td>   -1.181</td> <td>    3.622</td>\n",
       "</tr>\n",
       "<tr>\n",
       "  <th>other_gender</th>             <td>   -1.3444</td> <td>    9.095</td> <td>   -0.148</td> <td> 0.883</td> <td>  -19.210</td> <td>   16.521</td>\n",
       "</tr>\n",
       "<tr>\n",
       "  <th>education</th>                <td>    0.3482</td> <td>    0.409</td> <td>    0.852</td> <td> 0.395</td> <td>   -0.455</td> <td>    1.151</td>\n",
       "</tr>\n",
       "<tr>\n",
       "  <th>politics</th>                 <td>   -1.4173</td> <td>    0.671</td> <td>   -2.113</td> <td> 0.035</td> <td>   -2.735</td> <td>   -0.100</td>\n",
       "</tr>\n",
       "<tr>\n",
       "  <th>ethnicity_other</th>          <td>    0.3517</td> <td>    1.326</td> <td>    0.265</td> <td> 0.791</td> <td>   -2.253</td> <td>    2.956</td>\n",
       "</tr>\n",
       "<tr>\n",
       "  <th>religiosity</th>              <td>    0.2045</td> <td>    0.420</td> <td>    0.487</td> <td> 0.626</td> <td>   -0.620</td> <td>    1.029</td>\n",
       "</tr>\n",
       "<tr>\n",
       "  <th>trust_development</th>        <td>    0.4354</td> <td>    0.588</td> <td>    0.740</td> <td> 0.460</td> <td>   -0.720</td> <td>    1.591</td>\n",
       "</tr>\n",
       "<tr>\n",
       "  <th>dependence_development</th>   <td>    0.7801</td> <td>    0.536</td> <td>    1.456</td> <td> 0.146</td> <td>   -0.272</td> <td>    1.832</td>\n",
       "</tr>\n",
       "<tr>\n",
       "  <th>relationship_development</th> <td>    1.2549</td> <td>    0.539</td> <td>    2.327</td> <td> 0.020</td> <td>    0.196</td> <td>    2.314</td>\n",
       "</tr>\n",
       "<tr>\n",
       "  <th>rel_pol</th>                  <td>    0.2753</td> <td>    0.291</td> <td>    0.947</td> <td> 0.344</td> <td>   -0.296</td> <td>    0.847</td>\n",
       "</tr>\n",
       "<tr>\n",
       "  <th>durationSeconds</th>          <td>    0.0498</td> <td>    0.014</td> <td>    3.435</td> <td> 0.001</td> <td>    0.021</td> <td>    0.078</td>\n",
       "</tr>\n",
       "<tr>\n",
       "  <th>ev0</th>                      <td>   -0.0095</td> <td>    0.004</td> <td>   -2.553</td> <td> 0.011</td> <td>   -0.017</td> <td>   -0.002</td>\n",
       "</tr>\n",
       "<tr>\n",
       "  <th>ev1</th>                      <td>    0.0137</td> <td>    0.003</td> <td>    4.919</td> <td> 0.000</td> <td>    0.008</td> <td>    0.019</td>\n",
       "</tr>\n",
       "<tr>\n",
       "  <th>ev2</th>                      <td>   -0.0056</td> <td>    0.004</td> <td>   -1.241</td> <td> 0.215</td> <td>   -0.014</td> <td>    0.003</td>\n",
       "</tr>\n",
       "<tr>\n",
       "  <th>ev3</th>                      <td>    0.0123</td> <td>    0.005</td> <td>    2.448</td> <td> 0.015</td> <td>    0.002</td> <td>    0.022</td>\n",
       "</tr>\n",
       "<tr>\n",
       "  <th>ev4</th>                      <td>   -0.0703</td> <td>    0.008</td> <td>   -8.618</td> <td> 0.000</td> <td>   -0.086</td> <td>   -0.054</td>\n",
       "</tr>\n",
       "<tr>\n",
       "  <th>ev5</th>                      <td>    0.0233</td> <td>    0.007</td> <td>    3.570</td> <td> 0.000</td> <td>    0.010</td> <td>    0.036</td>\n",
       "</tr>\n",
       "<tr>\n",
       "  <th>i0</th>                       <td>   -0.9672</td> <td>    0.694</td> <td>   -1.394</td> <td> 0.164</td> <td>   -2.330</td> <td>    0.396</td>\n",
       "</tr>\n",
       "<tr>\n",
       "  <th>i1</th>                       <td>   -1.7778</td> <td>    1.016</td> <td>   -1.749</td> <td> 0.081</td> <td>   -3.774</td> <td>    0.219</td>\n",
       "</tr>\n",
       "<tr>\n",
       "  <th>i2</th>                       <td>   -3.6063</td> <td>    1.968</td> <td>   -1.832</td> <td> 0.067</td> <td>   -7.472</td> <td>    0.259</td>\n",
       "</tr>\n",
       "<tr>\n",
       "  <th>i4</th>                       <td>   -1.9022</td> <td>    3.761</td> <td>   -0.506</td> <td> 0.613</td> <td>   -9.289</td> <td>    5.485</td>\n",
       "</tr>\n",
       "<tr>\n",
       "  <th>region_midwest</th>           <td>    4.4747</td> <td>    1.773</td> <td>    2.524</td> <td> 0.012</td> <td>    0.993</td> <td>    7.956</td>\n",
       "</tr>\n",
       "<tr>\n",
       "  <th>region_northeast</th>         <td>    3.2009</td> <td>    1.785</td> <td>    1.793</td> <td> 0.073</td> <td>   -0.305</td> <td>    6.707</td>\n",
       "</tr>\n",
       "<tr>\n",
       "  <th>region_south</th>             <td>    3.9621</td> <td>    1.585</td> <td>    2.500</td> <td> 0.013</td> <td>    0.849</td> <td>    7.075</td>\n",
       "</tr>\n",
       "<tr>\n",
       "  <th>region_west</th>              <td>    3.1360</td> <td>    1.777</td> <td>    1.765</td> <td> 0.078</td> <td>   -0.355</td> <td>    6.627</td>\n",
       "</tr>\n",
       "</table>\n",
       "<table class=\"simpletable\">\n",
       "<tr>\n",
       "  <th>Omnibus:</th>       <td>11.968</td> <th>  Durbin-Watson:     </th> <td>   2.124</td>\n",
       "</tr>\n",
       "<tr>\n",
       "  <th>Prob(Omnibus):</th> <td> 0.003</td> <th>  Jarque-Bera (JB):  </th> <td>  13.169</td>\n",
       "</tr>\n",
       "<tr>\n",
       "  <th>Skew:</th>          <td>-0.277</td> <th>  Prob(JB):          </th> <td> 0.00138</td>\n",
       "</tr>\n",
       "<tr>\n",
       "  <th>Kurtosis:</th>      <td> 3.476</td> <th>  Cond. No.          </th> <td>1.22e+16</td>\n",
       "</tr>\n",
       "</table>"
      ],
      "text/plain": [
       "<class 'statsmodels.iolib.summary.Summary'>\n",
       "\"\"\"\n",
       "                            OLS Regression Results                            \n",
       "==============================================================================\n",
       "Dep. Variable:                      y   R-squared:                       0.835\n",
       "Model:                            OLS   Adj. R-squared:                  0.825\n",
       "Method:                 Least Squares   F-statistic:                     83.47\n",
       "Date:                Sat, 29 Apr 2017   Prob (F-statistic):          5.57e-195\n",
       "Time:                        23:44:44   Log-Likelihood:                -2326.3\n",
       "No. Observations:                 593   AIC:                             4721.\n",
       "Df Residuals:                     559   BIC:                             4870.\n",
       "Df Model:                          34                                         \n",
       "Covariance Type:            nonrobust                                         \n",
       "============================================================================================\n",
       "                               coef    std err          t      P>|t|      [0.025      0.975]\n",
       "--------------------------------------------------------------------------------------------\n",
       "health_fitness               0.4476      1.176      0.381      0.704      -1.862       2.757\n",
       "indoor                       1.8569      1.225      1.516      0.130      -0.549       4.263\n",
       "life_style                  -0.6408      1.217     -0.527      0.599      -3.031       1.750\n",
       "nature                       3.0638      1.225      2.501      0.013       0.658       5.470\n",
       "outdoor                     -1.7570      1.239     -1.418      0.157      -4.190       0.676\n",
       "performance_arts             0.2043      1.157      0.177      0.860      -2.069       2.478\n",
       "sports                      -0.0583      1.194     -0.049      0.961      -2.403       2.286\n",
       "other                        0.3517      1.326      0.265      0.791      -2.253       2.956\n",
       "age                          0.1291      0.038      3.357      0.001       0.054       0.205\n",
       "income                       0.1594      0.179      0.892      0.373      -0.192       0.510\n",
       "female                       1.2206      1.223      0.998      0.319      -1.181       3.622\n",
       "other_gender                -1.3444      9.095     -0.148      0.883     -19.210      16.521\n",
       "education                    0.3482      0.409      0.852      0.395      -0.455       1.151\n",
       "politics                    -1.4173      0.671     -2.113      0.035      -2.735      -0.100\n",
       "ethnicity_other              0.3517      1.326      0.265      0.791      -2.253       2.956\n",
       "religiosity                  0.2045      0.420      0.487      0.626      -0.620       1.029\n",
       "trust_development            0.4354      0.588      0.740      0.460      -0.720       1.591\n",
       "dependence_development       0.7801      0.536      1.456      0.146      -0.272       1.832\n",
       "relationship_development     1.2549      0.539      2.327      0.020       0.196       2.314\n",
       "rel_pol                      0.2753      0.291      0.947      0.344      -0.296       0.847\n",
       "durationSeconds              0.0498      0.014      3.435      0.001       0.021       0.078\n",
       "ev0                         -0.0095      0.004     -2.553      0.011      -0.017      -0.002\n",
       "ev1                          0.0137      0.003      4.919      0.000       0.008       0.019\n",
       "ev2                         -0.0056      0.004     -1.241      0.215      -0.014       0.003\n",
       "ev3                          0.0123      0.005      2.448      0.015       0.002       0.022\n",
       "ev4                         -0.0703      0.008     -8.618      0.000      -0.086      -0.054\n",
       "ev5                          0.0233      0.007      3.570      0.000       0.010       0.036\n",
       "i0                          -0.9672      0.694     -1.394      0.164      -2.330       0.396\n",
       "i1                          -1.7778      1.016     -1.749      0.081      -3.774       0.219\n",
       "i2                          -3.6063      1.968     -1.832      0.067      -7.472       0.259\n",
       "i4                          -1.9022      3.761     -0.506      0.613      -9.289       5.485\n",
       "region_midwest               4.4747      1.773      2.524      0.012       0.993       7.956\n",
       "region_northeast             3.2009      1.785      1.793      0.073      -0.305       6.707\n",
       "region_south                 3.9621      1.585      2.500      0.013       0.849       7.075\n",
       "region_west                  3.1360      1.777      1.765      0.078      -0.355       6.627\n",
       "==============================================================================\n",
       "Omnibus:                       11.968   Durbin-Watson:                   2.124\n",
       "Prob(Omnibus):                  0.003   Jarque-Bera (JB):               13.169\n",
       "Skew:                          -0.277   Prob(JB):                      0.00138\n",
       "Kurtosis:                       3.476   Cond. No.                     1.22e+16\n",
       "==============================================================================\n",
       "\n",
       "Warnings:\n",
       "[1] Standard Errors assume that the covariance matrix of the errors is correctly specified.\n",
       "[2] The smallest eigenvalue is 7.75e-25. This might indicate that there are\n",
       "strong multicollinearity problems or that the design matrix is singular.\n",
       "\"\"\""
      ]
     },
     "execution_count": 323,
     "metadata": {},
     "output_type": "execute_result"
    }
   ],
   "source": [
    "summary"
   ]
  },
  {
   "cell_type": "code",
   "execution_count": 128,
   "metadata": {
    "collapsed": false
   },
   "outputs": [],
   "source": [
    "def reg_pred_actual(y_svo, y_pred):\n",
    "    plt.figure(figsize=(8,8))\n",
    "    ax = plt.axes()\n",
    "    ax.yaxis.grid(False)\n",
    "    ax.xaxis.grid(False)\n",
    "    plt.xlim([-25, 80])\n",
    "    plt.ylim([-25, 80])\n",
    "    sns.regplot(x=y_svo, y=y_pred)\n",
    "    plt.title(\"Actual vs Predicted SVO score\")\n",
    "    plt.xlabel(\"Actual SVO\")\n",
    "    plt.ylabel(\"Predicted SVO\")\n",
    "    plt.plot([-25, 80], [-25, 80],'--', color='gray', linewidth=1)\n",
    "    plt.axhline(-12.04, color='gray', linewidth=.5)\n",
    "    plt.axhline(22.45, color='gray', linewidth=.5)\n",
    "    plt.axhline(57.15, color='gray', linewidth=.5)\n",
    "    plt.axvline(-12.04, color='gray', linewidth=.5)\n",
    "    plt.axvline(22.45, color='gray', linewidth=.5)\n",
    "    plt.axvline(57.15, color='gray', linewidth=.5)"
   ]
  },
  {
   "cell_type": "code",
   "execution_count": 129,
   "metadata": {
    "collapsed": false
   },
   "outputs": [],
   "source": [
    "y_fit1_pred = fit1_res.predict(X)"
   ]
  },
  {
   "cell_type": "code",
   "execution_count": 130,
   "metadata": {
    "collapsed": false
   },
   "outputs": [],
   "source": [
    "fit1_residuals = y_svo - y_fit1_pred"
   ]
  },
  {
   "cell_type": "code",
   "execution_count": 133,
   "metadata": {
    "collapsed": false
   },
   "outputs": [
    {
     "data": {
      "image/png": "[encoded data removed]",
      "text/plain": [
       "<matplotlib.figure.Figure at 0x1126ecc88>"
      ]
     },
     "metadata": {},
     "output_type": "display_data"
    }
   ],
   "source": [
    "reg_pred_actual(y_svo, y_fit1_pred)"
   ]
  },
  {
   "cell_type": "code",
   "execution_count": 248,
   "metadata": {
    "collapsed": true
   },
   "outputs": [],
   "source": [
    "fit1_labels = pd.Series(y_fit1_pred).apply(angle2cat)"
   ]
  },
  {
   "cell_type": "code",
   "execution_count": 249,
   "metadata": {
    "collapsed": false
   },
   "outputs": [
    {
     "data": {
      "text/plain": [
       "0.76013513513513509"
      ]
     },
     "execution_count": 249,
     "metadata": {},
     "output_type": "execute_result"
    }
   ],
   "source": [
    "accuracy_score(y_type, fit1_labels)"
   ]
  },
  {
   "cell_type": "code",
   "execution_count": 250,
   "metadata": {
    "collapsed": false
   },
   "outputs": [
    {
     "data": {
      "image/png": "[encoded data removed]",
      "text/plain": [
       "<matplotlib.figure.Figure at 0x116bc7c50>"
      ]
     },
     "metadata": {},
     "output_type": "display_data"
    }
   ],
   "source": [
    "x = list(range(0, len(y_fit1_pred)))\n",
    "index_residual_plot(x, fit1_residuals, fit_reg=True)\n"
   ]
  },
  {
   "cell_type": "code",
   "execution_count": 1125,
   "metadata": {
    "collapsed": false
   },
   "outputs": [
    {
     "data": {
      "image/png": "[encoded data removed]",
      "text/plain": [
       "<matplotlib.figure.Figure at 0x11e0a3a58>"
      ]
     },
     "metadata": {},
     "output_type": "display_data"
    }
   ],
   "source": [
    "index_residual_plot(y_fit1_pred, fit1_residuals)"
   ]
  },
  {
   "cell_type": "code",
   "execution_count": 1129,
   "metadata": {
    "collapsed": false
   },
   "outputs": [],
   "source": [
    "# ax = plt.axes()\n",
    "# sm.graphics.influence_plot(fit1_res, ax=ax, criterion=\"cooks\", figsize=(8,6))"
   ]
  },
  {
   "cell_type": "markdown",
   "metadata": {},
   "source": [
    "### Random Forest Regressor"
   ]
  },
  {
   "cell_type": "code",
   "execution_count": 252,
   "metadata": {
    "collapsed": false
   },
   "outputs": [],
   "source": [
    "estimator = RandomForestRegressor(random_state=0, n_estimators=100)"
   ]
  },
  {
   "cell_type": "code",
   "execution_count": 115,
   "metadata": {
    "collapsed": true
   },
   "outputs": [],
   "source": [
    "param_grid = {\"max_depth\": [3, None],\n",
    "              \"max_features\": [1, 3, 15],\n",
    "              \"min_samples_split\": [1, 3, 10],\n",
    "              \"min_samples_leaf\": [1, 3, 10],\n",
    "              \"bootstrap\": [True, False]}"
   ]
  },
  {
   "cell_type": "code",
   "execution_count": 116,
   "metadata": {
    "collapsed": false
   },
   "outputs": [],
   "source": [
    "rf_reg = RandomForestRegressor(n_estimators=100)\n",
    "rf_reg_grid = GridSearchCV(rf_reg, param_grid=param_grid)"
   ]
  },
  {
   "cell_type": "code",
   "execution_count": 225,
   "metadata": {
    "collapsed": false
   },
   "outputs": [
    {
     "ename": "NameError",
     "evalue": "name 'rf_reg_grid' is not defined",
     "output_type": "error",
     "traceback": [
      "\u001b[0;31m---------------------------------------------------------------------------\u001b[0m",
      "\u001b[0;31mNameError\u001b[0m                                 Traceback (most recent call last)",
      "\u001b[0;32m<ipython-input-225-dddee3fdbbfc>\u001b[0m in \u001b[0;36m<module>\u001b[0;34m()\u001b[0m\n\u001b[0;32m----> 1\u001b[0;31m \u001b[0mrf_reg_grid\u001b[0m\u001b[0;34m.\u001b[0m\u001b[0mfit\u001b[0m\u001b[0;34m(\u001b[0m\u001b[0mX_train_res\u001b[0m\u001b[0;34m,\u001b[0m \u001b[0my_train_res\u001b[0m\u001b[0;34m)\u001b[0m\u001b[0;34m\u001b[0m\u001b[0m\n\u001b[0m",
      "\u001b[0;31mNameError\u001b[0m: name 'rf_reg_grid' is not defined"
     ]
    }
   ],
   "source": [
    "rf_reg_grid.fit(X_train_res, y_train_res)"
   ]
  },
  {
   "cell_type": "code",
   "execution_count": 140,
   "metadata": {
    "collapsed": false
   },
   "outputs": [
    {
     "data": {
      "text/plain": [
       "0.024798734072853806"
      ]
     },
     "execution_count": 140,
     "metadata": {},
     "output_type": "execute_result"
    }
   ],
   "source": [
    "rf_reg_grid.best_score_"
   ]
  },
  {
   "cell_type": "code",
   "execution_count": 253,
   "metadata": {
    "collapsed": false
   },
   "outputs": [
    {
     "data": {
      "text/plain": [
       "RandomForestRegressor(bootstrap=True, criterion='mse', max_depth=None,\n",
       "           max_features='auto', max_leaf_nodes=None, min_samples_leaf=1,\n",
       "           min_samples_split=2, min_weight_fraction_leaf=0.0,\n",
       "           n_estimators=100, n_jobs=1, oob_score=False, random_state=0,\n",
       "           verbose=0, warm_start=False)"
      ]
     },
     "execution_count": 253,
     "metadata": {},
     "output_type": "execute_result"
    }
   ],
   "source": [
    "estimator.fit(X_train_res, y_train_res)"
   ]
  },
  {
   "cell_type": "code",
   "execution_count": 254,
   "metadata": {
    "collapsed": false
   },
   "outputs": [
    {
     "name": "stdout",
     "output_type": "stream",
     "text": [
      "Score with the entire dataset = -97.14\n"
     ]
    }
   ],
   "source": [
    "score = cross_val_score(estimator, X, y_svo, cv=10, scoring='mean_squared_error').mean()\n",
    "print(\"Score with the entire dataset = %.2f\" % score)"
   ]
  },
  {
   "cell_type": "code",
   "execution_count": 255,
   "metadata": {
    "collapsed": false
   },
   "outputs": [],
   "source": [
    "y_pred = estimator.predict(X)"
   ]
  },
  {
   "cell_type": "code",
   "execution_count": 256,
   "metadata": {
    "collapsed": false
   },
   "outputs": [
    {
     "data": {
      "text/plain": [
       "0.9231726553374171"
      ]
     },
     "execution_count": 256,
     "metadata": {},
     "output_type": "execute_result"
    }
   ],
   "source": [
    "r2_score(y_svo, y_pred)"
   ]
  },
  {
   "cell_type": "code",
   "execution_count": 257,
   "metadata": {
    "collapsed": false
   },
   "outputs": [
    {
     "data": {
      "text/plain": [
       "13.973677949928327"
      ]
     },
     "execution_count": 257,
     "metadata": {},
     "output_type": "execute_result"
    }
   ],
   "source": [
    "mean_squared_error(y_svo, y_pred)"
   ]
  },
  {
   "cell_type": "code",
   "execution_count": 258,
   "metadata": {
    "collapsed": true
   },
   "outputs": [],
   "source": [
    "rf_labels = pd.Series(y_pred).apply(angle2cat)"
   ]
  },
  {
   "cell_type": "code",
   "execution_count": 259,
   "metadata": {
    "collapsed": false
   },
   "outputs": [],
   "source": [
    "# rf_labels"
   ]
  },
  {
   "cell_type": "code",
   "execution_count": 260,
   "metadata": {
    "collapsed": false
   },
   "outputs": [
    {
     "data": {
      "text/plain": [
       "0.94932432432432434"
      ]
     },
     "execution_count": 260,
     "metadata": {},
     "output_type": "execute_result"
    }
   ],
   "source": [
    "accuracy_score(y_type, rf_labels)"
   ]
  },
  {
   "cell_type": "code",
   "execution_count": 262,
   "metadata": {
    "collapsed": false
   },
   "outputs": [],
   "source": [
    "yt = y_pred + (.085 * (y_pred - y_pred.mean()))**3"
   ]
  },
  {
   "cell_type": "code",
   "execution_count": 263,
   "metadata": {
    "collapsed": false
   },
   "outputs": [
    {
     "data": {
      "image/png": "[encoded data removed]",
      "text/plain": [
       "<matplotlib.figure.Figure at 0x116b47d68>"
      ]
     },
     "metadata": {},
     "output_type": "display_data"
    }
   ],
   "source": [
    "reg_pred_actual(y_svo, y_pred)"
   ]
  },
  {
   "cell_type": "code",
   "execution_count": 264,
   "metadata": {
    "collapsed": false
   },
   "outputs": [
    {
     "data": {
      "text/plain": [
       "array([  5.79516582e-03,   2.09166868e-03,   4.99333195e-03,\n",
       "         4.41856951e-03,   2.82116691e-03,   5.72733747e-03,\n",
       "         5.72545043e-03,   7.91929499e-04,   2.90381354e-02,\n",
       "         2.06399259e-02,   5.32365884e-03,   4.86096812e-04,\n",
       "         1.35730693e-02,   1.45950138e-02,   1.76066381e-02,\n",
       "         2.12925717e-02,   1.17857323e-02,   1.15018157e-02,\n",
       "         1.31311321e-02,   8.19379719e-02,   7.95623558e-02,\n",
       "         1.11765865e-01,   4.29244872e-02,   4.73258114e-02,\n",
       "         3.64501282e-01,   6.49331279e-02,   6.33189840e-03,\n",
       "         3.14525718e-03,   6.11041394e-03,   1.23119902e-04])"
      ]
     },
     "execution_count": 264,
     "metadata": {},
     "output_type": "execute_result"
    }
   ],
   "source": [
    "estimator.feature_importances_"
   ]
  },
  {
   "cell_type": "code",
   "execution_count": 265,
   "metadata": {
    "collapsed": true
   },
   "outputs": [],
   "source": [
    "rf_residuals = y_svo - yt"
   ]
  },
  {
   "cell_type": "code",
   "execution_count": 98,
   "metadata": {
    "collapsed": false
   },
   "outputs": [],
   "source": [
    "def index_residual_plot(index, residual, fit_reg=False):\n",
    "    df = pd.DataFrame({'Index': index, 'Residual': residual})\n",
    "    sns.regplot(x='Index', y='Residual', \n",
    "                data=df, lowess=True, fit_reg=fit_reg,\n",
    "                scatter_kws={'alpha':0.5})\n",
    "    plt.title(\"Residual Plot\")"
   ]
  },
  {
   "cell_type": "code",
   "execution_count": 1142,
   "metadata": {
    "collapsed": false
   },
   "outputs": [
    {
     "data": {
      "image/png": "[encoded data removed]",
      "text/plain": [
       "<matplotlib.figure.Figure at 0x11e080b38>"
      ]
     },
     "metadata": {},
     "output_type": "display_data"
    }
   ],
   "source": [
    "index_residual_plot(x, rf_residuals, fit_reg=True)"
   ]
  },
  {
   "cell_type": "code",
   "execution_count": 1143,
   "metadata": {
    "collapsed": false
   },
   "outputs": [
    {
     "data": {
      "image/png": "[encoded data removed]",
      "text/plain": [
       "<matplotlib.figure.Figure at 0x121e0e048>"
      ]
     },
     "metadata": {},
     "output_type": "display_data"
    }
   ],
   "source": [
    "index_residual_plot(y_pred, rf_residuals, fit_reg=True)"
   ]
  },
  {
   "cell_type": "code",
   "execution_count": 1144,
   "metadata": {
    "collapsed": false
   },
   "outputs": [],
   "source": [
    "imp = pd.Series(estimator.feature_importances_)"
   ]
  },
  {
   "cell_type": "markdown",
   "metadata": {},
   "source": [
    "### Gradient Boosting Regressor"
   ]
  },
  {
   "cell_type": "code",
   "execution_count": 173,
   "metadata": {
    "collapsed": true
   },
   "outputs": [],
   "source": [
    "gb_reg = GradientBoostingRegressor(n_estimators=100)"
   ]
  },
  {
   "cell_type": "code",
   "execution_count": 174,
   "metadata": {
    "collapsed": false
   },
   "outputs": [
    {
     "data": {
      "text/plain": [
       "GradientBoostingRegressor(alpha=0.9, init=None, learning_rate=0.1, loss='ls',\n",
       "             max_depth=3, max_features=None, max_leaf_nodes=None,\n",
       "             min_samples_leaf=1, min_samples_split=2,\n",
       "             min_weight_fraction_leaf=0.0, n_estimators=100,\n",
       "             presort='auto', random_state=None, subsample=1.0, verbose=0,\n",
       "             warm_start=False)"
      ]
     },
     "execution_count": 174,
     "metadata": {},
     "output_type": "execute_result"
    }
   ],
   "source": [
    "gb_reg.fit(X, y_svo)"
   ]
  },
  {
   "cell_type": "code",
   "execution_count": 175,
   "metadata": {
    "collapsed": false
   },
   "outputs": [],
   "source": [
    "y_gb_pred = gb_reg.predict(X)"
   ]
  },
  {
   "cell_type": "code",
   "execution_count": 176,
   "metadata": {
    "collapsed": false
   },
   "outputs": [
    {
     "data": {
      "text/plain": [
       "0.4530684977840499"
      ]
     },
     "execution_count": 176,
     "metadata": {},
     "output_type": "execute_result"
    }
   ],
   "source": [
    "r2_score(y_svo, y_gb_pred)"
   ]
  },
  {
   "cell_type": "code",
   "execution_count": 177,
   "metadata": {
    "collapsed": false
   },
   "outputs": [
    {
     "data": {
      "image/png": "[encoded data removed]",
      "text/plain": [
       "<matplotlib.figure.Figure at 0x116d69d68>"
      ]
     },
     "metadata": {},
     "output_type": "display_data"
    }
   ],
   "source": [
    "reg_pred_actual(y_svo, y_gb_pred)"
   ]
  },
  {
   "cell_type": "code",
   "execution_count": 178,
   "metadata": {
    "collapsed": true
   },
   "outputs": [],
   "source": [
    "gb_residuals = y_svo - y_gb_pred"
   ]
  },
  {
   "cell_type": "code",
   "execution_count": 179,
   "metadata": {
    "collapsed": false
   },
   "outputs": [
    {
     "data": {
      "image/png": "[encoded data removed]",
      "text/plain": [
       "<matplotlib.figure.Figure at 0x116d78940>"
      ]
     },
     "metadata": {},
     "output_type": "display_data"
    }
   ],
   "source": [
    "index_residual_plot(x, gb_residuals, fit_reg=True)"
   ]
  },
  {
   "cell_type": "code",
   "execution_count": 1153,
   "metadata": {
    "collapsed": false
   },
   "outputs": [
    {
     "data": {
      "image/png": "[encoded data removed]",
      "text/plain": [
       "<matplotlib.figure.Figure at 0x12aeaa128>"
      ]
     },
     "metadata": {},
     "output_type": "display_data"
    }
   ],
   "source": [
    "index_residual_plot(y_gb_pred, gb_residuals)"
   ]
  },
  {
   "cell_type": "markdown",
   "metadata": {},
   "source": [
    "### Support Vector Regressor"
   ]
  },
  {
   "cell_type": "code",
   "execution_count": 1154,
   "metadata": {
    "collapsed": true
   },
   "outputs": [],
   "source": []
  },
  {
   "cell_type": "code",
   "execution_count": 1155,
   "metadata": {
    "collapsed": true
   },
   "outputs": [],
   "source": [
    "svr_reg = SVR(C=1.0, cache_size=200, coef0=0.0, degree=3, epsilon=0.2, gamma='auto',\n",
    "    kernel='rbf', max_iter=-1, shrinking=True, tol=0.001, verbose=False)"
   ]
  },
  {
   "cell_type": "code",
   "execution_count": 1156,
   "metadata": {
    "collapsed": false
   },
   "outputs": [
    {
     "data": {
      "text/plain": [
       "SVR(C=1.0, cache_size=200, coef0=0.0, degree=3, epsilon=0.2, gamma='auto',\n",
       "  kernel='rbf', max_iter=-1, shrinking=True, tol=0.001, verbose=False)"
      ]
     },
     "execution_count": 1156,
     "metadata": {},
     "output_type": "execute_result"
    }
   ],
   "source": [
    "svr_reg.fit(X, y_svo)"
   ]
  },
  {
   "cell_type": "code",
   "execution_count": 1157,
   "metadata": {
    "collapsed": true
   },
   "outputs": [],
   "source": [
    "y_svr_pred = svr_reg.predict(X)"
   ]
  },
  {
   "cell_type": "code",
   "execution_count": 1158,
   "metadata": {
    "collapsed": false
   },
   "outputs": [
    {
     "data": {
      "image/png": "[encoded data removed]",
      "text/plain": [
       "<matplotlib.figure.Figure at 0x12adceb00>"
      ]
     },
     "metadata": {},
     "output_type": "display_data"
    }
   ],
   "source": [
    "reg_pred_actual(y_svo, y_svr_pred)"
   ]
  },
  {
   "cell_type": "code",
   "execution_count": 1159,
   "metadata": {
    "collapsed": true
   },
   "outputs": [],
   "source": [
    "svr_residuals = y_svo - y_svr_pred"
   ]
  },
  {
   "cell_type": "code",
   "execution_count": 1160,
   "metadata": {
    "collapsed": false
   },
   "outputs": [
    {
     "data": {
      "image/png": "[encoded data removed]",
      "text/plain": [
       "<matplotlib.figure.Figure at 0x12ade8470>"
      ]
     },
     "metadata": {},
     "output_type": "display_data"
    }
   ],
   "source": [
    "index_residual_plot(x, svr_residuals)"
   ]
  },
  {
   "cell_type": "code",
   "execution_count": 1161,
   "metadata": {
    "collapsed": false
   },
   "outputs": [
    {
     "data": {
      "text/plain": [
       "array(['prosocial', 'individualistic', 'altruistic', 'competitive'], dtype=object)"
      ]
     },
     "execution_count": 1161,
     "metadata": {},
     "output_type": "execute_result"
    }
   ],
   "source": [
    "svo.type.unique()"
   ]
  },
  {
   "cell_type": "code",
   "execution_count": 1162,
   "metadata": {
    "collapsed": false
   },
   "outputs": [
    {
     "data": {
      "text/plain": [
       "array(['prosocial', 'individualistic', 'altruistic', 'competitive'], dtype=object)"
      ]
     },
     "execution_count": 1162,
     "metadata": {},
     "output_type": "execute_result"
    }
   ],
   "source": [
    "pd.factorize(tdf.type.as_matrix())[1]"
   ]
  },
  {
   "cell_type": "code",
   "execution_count": 296,
   "metadata": {
    "collapsed": false
   },
   "outputs": [],
   "source": [
    "def angle2cat(SVO_angles):\n",
    "    if SVO_angles >= 57.15:\n",
    "        return 2 #\"altruistic\"\n",
    "    elif SVO_angles < 57.15 and SVO_angles >= 22.45:\n",
    "        return 0 #\"prosocial\"\n",
    "    elif SVO_angles < 22.45 and SVO_angles >= -12.04:\n",
    "        return 1 #\"individualistic\"\n",
    "    elif SVO_angles < -12.04:\n",
    "        return 3 #\"competitive\""
   ]
  },
  {
   "cell_type": "code",
   "execution_count": 91,
   "metadata": {
    "collapsed": false
   },
   "outputs": [],
   "source": [
    "labels = pd.Series(y_pred).apply(angle2cat)\n",
    "accuracy_score(y_type, labels)"
   ]
  },
  {
   "cell_type": "markdown",
   "metadata": {},
   "source": [
    "### KNN Regressor"
   ]
  },
  {
   "cell_type": "code",
   "execution_count": 267,
   "metadata": {
    "collapsed": true
   },
   "outputs": [],
   "source": [
    "knn_reg = KNeighborsRegressor()"
   ]
  },
  {
   "cell_type": "code",
   "execution_count": 268,
   "metadata": {
    "collapsed": false
   },
   "outputs": [
    {
     "data": {
      "text/plain": [
       "KNeighborsRegressor(algorithm='auto', leaf_size=30, metric='minkowski',\n",
       "          metric_params=None, n_jobs=1, n_neighbors=5, p=2,\n",
       "          weights='uniform')"
      ]
     },
     "execution_count": 268,
     "metadata": {},
     "output_type": "execute_result"
    }
   ],
   "source": [
    "knn_reg.fit(X, y_svo)"
   ]
  },
  {
   "cell_type": "code",
   "execution_count": 269,
   "metadata": {
    "collapsed": true
   },
   "outputs": [],
   "source": [
    "y_knn_pred = knn_reg.predict(X)"
   ]
  },
  {
   "cell_type": "code",
   "execution_count": 270,
   "metadata": {
    "collapsed": false
   },
   "outputs": [
    {
     "data": {
      "text/plain": [
       "0.53186431187796779"
      ]
     },
     "execution_count": 270,
     "metadata": {},
     "output_type": "execute_result"
    }
   ],
   "source": [
    "r2_score(y_svo, y_knn_pred)"
   ]
  },
  {
   "cell_type": "code",
   "execution_count": 271,
   "metadata": {
    "collapsed": false
   },
   "outputs": [
    {
     "data": {
      "text/plain": [
       "0.83614864864864868"
      ]
     },
     "execution_count": 271,
     "metadata": {},
     "output_type": "execute_result"
    }
   ],
   "source": [
    "labels = pd.Series(y_knn_pred).apply(angle2cat)\n",
    "accuracy_score(y_type, labels)"
   ]
  },
  {
   "cell_type": "code",
   "execution_count": 181,
   "metadata": {
    "collapsed": false
   },
   "outputs": [
    {
     "data": {
      "image/png": "[encoded data removed]",
      "text/plain": [
       "<matplotlib.figure.Figure at 0x116b592e8>"
      ]
     },
     "metadata": {},
     "output_type": "display_data"
    }
   ],
   "source": [
    "reg_pred_actual(y_svo, y_knn_pred)"
   ]
  },
  {
   "cell_type": "markdown",
   "metadata": {},
   "source": [
    "# Classification"
   ]
  },
  {
   "cell_type": "markdown",
   "metadata": {},
   "source": [
    "### Logistic Regression"
   ]
  },
  {
   "cell_type": "code",
   "execution_count": 174,
   "metadata": {
    "collapsed": true
   },
   "outputs": [],
   "source": [
    "lr_clf = LogisticRegression()"
   ]
  },
  {
   "cell_type": "code",
   "execution_count": 212,
   "metadata": {
    "collapsed": false
   },
   "outputs": [
    {
     "data": {
      "text/plain": [
       "LogisticRegression(C=1.0, class_weight=None, dual=False, fit_intercept=True,\n",
       "          intercept_scaling=1, max_iter=100, multi_class='ovr', n_jobs=1,\n",
       "          penalty='l2', random_state=None, solver='liblinear', tol=0.0001,\n",
       "          verbose=0, warm_start=False)"
      ]
     },
     "execution_count": 212,
     "metadata": {},
     "output_type": "execute_result"
    }
   ],
   "source": [
    "lr_clf.fit(X_train_res, y_train_res)"
   ]
  },
  {
   "cell_type": "code",
   "execution_count": 214,
   "metadata": {
    "collapsed": false
   },
   "outputs": [],
   "source": [
    "y_lr_preds = lr_clf.predict(X_test)"
   ]
  },
  {
   "cell_type": "code",
   "execution_count": 179,
   "metadata": {
    "collapsed": false
   },
   "outputs": [
    {
     "name": "stdout",
     "output_type": "stream",
     "text": [
      "             precision    recall  f1-score   support\n",
      "\n",
      "        0.0       0.19      0.50      0.27        16\n",
      "        1.0       0.92      0.74      0.82       133\n",
      "\n",
      "avg / total       0.85      0.71      0.76       149\n",
      "\n"
     ]
    }
   ],
   "source": [
    "cr = classification_report(y_lr_preds, y_test)\n",
    "print(cr)"
   ]
  },
  {
   "cell_type": "code",
   "execution_count": 215,
   "metadata": {
    "collapsed": false
   },
   "outputs": [
    {
     "name": "stdout",
     "output_type": "stream",
     "text": [
      "             precision    recall  f1-score   support\n",
      "\n",
      "        0.0       0.65      0.65      0.65        43\n",
      "        1.0       0.86      0.86      0.86       106\n",
      "\n",
      "avg / total       0.80      0.80      0.80       149\n",
      "\n"
     ]
    }
   ],
   "source": [
    "cr = classification_report(y_lr_preds, y_test)\n",
    "print(cr)"
   ]
  },
  {
   "cell_type": "markdown",
   "metadata": {},
   "source": [
    "### Bernoulli Naive Bayes"
   ]
  },
  {
   "cell_type": "code",
   "execution_count": 188,
   "metadata": {
    "collapsed": true
   },
   "outputs": [],
   "source": [
    "nb_clf = BernoulliNB()"
   ]
  },
  {
   "cell_type": "code",
   "execution_count": 216,
   "metadata": {
    "collapsed": false
   },
   "outputs": [
    {
     "data": {
      "text/plain": [
       "BernoulliNB(alpha=1.0, binarize=0.0, class_prior=None, fit_prior=True)"
      ]
     },
     "execution_count": 216,
     "metadata": {},
     "output_type": "execute_result"
    }
   ],
   "source": [
    "nb_clf.fit(X_train_res, y_train_res)"
   ]
  },
  {
   "cell_type": "code",
   "execution_count": 217,
   "metadata": {
    "collapsed": true
   },
   "outputs": [],
   "source": [
    "y_nb_preds = nb_clf.predict(X_test)"
   ]
  },
  {
   "cell_type": "code",
   "execution_count": 191,
   "metadata": {
    "collapsed": false
   },
   "outputs": [
    {
     "name": "stdout",
     "output_type": "stream",
     "text": [
      "             precision    recall  f1-score   support\n",
      "\n",
      "        0.0       0.33      0.42      0.37        33\n",
      "        1.0       0.82      0.75      0.78       116\n",
      "\n",
      "avg / total       0.71      0.68      0.69       149\n",
      "\n"
     ]
    }
   ],
   "source": [
    "cr = classification_report(y_nb_preds, y_test)\n",
    "print(cr)"
   ]
  },
  {
   "cell_type": "code",
   "execution_count": 218,
   "metadata": {
    "collapsed": false
   },
   "outputs": [
    {
     "name": "stdout",
     "output_type": "stream",
     "text": [
      "             precision    recall  f1-score   support\n",
      "\n",
      "        0.0       0.63      0.48      0.55        56\n",
      "        1.0       0.73      0.83      0.77        93\n",
      "\n",
      "avg / total       0.69      0.70      0.69       149\n",
      "\n"
     ]
    }
   ],
   "source": [
    "cr = classification_report(y_nb_preds, y_test)\n",
    "print(cr)"
   ]
  },
  {
   "cell_type": "markdown",
   "metadata": {},
   "source": [
    "### Ensemble Classifiers"
   ]
  },
  {
   "cell_type": "code",
   "execution_count": 105,
   "metadata": {
    "collapsed": true
   },
   "outputs": [],
   "source": [
    "param_grid = {\"max_depth\": [3, None],\n",
    "              \"max_features\": [1, 3, 15],\n",
    "              \"min_samples_split\": [1, 3, 10],\n",
    "              \"min_samples_leaf\": [1, 3, 10],\n",
    "              \"bootstrap\": [True, False],\n",
    "              \"criterion\": [\"gini\", \"entropy\"]}"
   ]
  },
  {
   "cell_type": "code",
   "execution_count": 324,
   "metadata": {
    "collapsed": false
   },
   "outputs": [],
   "source": [
    "rf_clf = RandomForestClassifier(n_estimators=300)\n",
    "gb_clf = GradientBoostingClassifier(n_estimators=300)\n",
    "ab_clf = AdaBoostClassifier(DecisionTreeClassifier(max_depth=6),\n",
    "                             n_estimators=300)"
   ]
  },
  {
   "cell_type": "code",
   "execution_count": 63,
   "metadata": {
    "collapsed": false
   },
   "outputs": [],
   "source": [
    "rf_grid = GridSearchCV(rf_clf, param_grid=param_grid)\n",
    "gb_grid = GridSearchCV(rf_clf, param_grid=param_grid)"
   ]
  },
  {
   "cell_type": "code",
   "execution_count": 145,
   "metadata": {
    "collapsed": true
   },
   "outputs": [],
   "source": [
    "param_grid = {\"base_estimator__criterion\" : [\"gini\", \"entropy\"],\n",
    "              \"base_estimator__splitter\" :   [\"best\", \"random\"],\n",
    "              \"n_estimators\": [50, 150, 300]\n",
    "             }"
   ]
  },
  {
   "cell_type": "code",
   "execution_count": 146,
   "metadata": {
    "collapsed": true
   },
   "outputs": [],
   "source": [
    "ab_grid = GridSearchCV(ab_clf, param_grid=param_grid)"
   ]
  },
  {
   "cell_type": "code",
   "execution_count": 123,
   "metadata": {
    "collapsed": false
   },
   "outputs": [],
   "source": [
    "# rf_grid.fit(X_train, y_train)\n",
    "# rf_grid.best_params_"
   ]
  },
  {
   "cell_type": "code",
   "execution_count": 125,
   "metadata": {
    "collapsed": false
   },
   "outputs": [],
   "source": [
    "# gb_grid.fit(X_train, y_train)\n",
    "# gb_grid.best_params_"
   ]
  },
  {
   "cell_type": "code",
   "execution_count": 124,
   "metadata": {
    "collapsed": false
   },
   "outputs": [],
   "source": [
    "# ab_grid.fit(X_train, y_train)\n",
    "# ab_grid.best_estimator_"
   ]
  },
  {
   "cell_type": "code",
   "execution_count": 127,
   "metadata": {
    "collapsed": false
   },
   "outputs": [
    {
     "name": "stdout",
     "output_type": "stream",
     "text": [
      "Score with the entire dataset = 0.84\n"
     ]
    }
   ],
   "source": [
    "score = cross_val_score(rf_clf, X, y_ps, cv=10).mean()\n",
    "print(\"Score with the entire dataset = %.2f\" % score)"
   ]
  },
  {
   "cell_type": "code",
   "execution_count": 329,
   "metadata": {
    "collapsed": false
   },
   "outputs": [],
   "source": [
    "rf_clf.fit(X_train_res, y_train_res)\n",
    "gb_clf.fit(X_train_res, y_train_res)\n",
    "ab_clf.fit(X_train_res, y_train_res);"
   ]
  },
  {
   "cell_type": "code",
   "execution_count": 326,
   "metadata": {
    "collapsed": false
   },
   "outputs": [],
   "source": [
    "rf_clf.fit(X_train, y_train)\n",
    "gb_clf.fit(X_train, y_train)\n",
    "ab_clf.fit(X_train, y_train);"
   ]
  },
  {
   "cell_type": "code",
   "execution_count": 330,
   "metadata": {
    "collapsed": false
   },
   "outputs": [],
   "source": [
    "y_pred = rf_clf.predict(X_test)"
   ]
  },
  {
   "cell_type": "code",
   "execution_count": 331,
   "metadata": {
    "collapsed": false
   },
   "outputs": [
    {
     "name": "stdout",
     "output_type": "stream",
     "text": [
      "             precision    recall  f1-score   support\n",
      "\n",
      "  prosocial       0.67      0.92      0.77        39\n",
      "    proself       0.97      0.84      0.90       110\n",
      "\n",
      "avg / total       0.89      0.86      0.87       149\n",
      "\n"
     ]
    }
   ],
   "source": [
    "cr = classification_report(y_test, y_pred, target_names=[\"prosocial\", \"proself\"])\n",
    "print(cr)"
   ]
  },
  {
   "cell_type": "code",
   "execution_count": 132,
   "metadata": {
    "collapsed": false
   },
   "outputs": [],
   "source": [
    "# accuracy_score(y_test, y_pred)"
   ]
  },
  {
   "cell_type": "code",
   "execution_count": 133,
   "metadata": {
    "collapsed": false
   },
   "outputs": [],
   "source": [
    "imp = pd.Series(rf_clf.feature_importances_)"
   ]
  },
  {
   "cell_type": "code",
   "execution_count": 150,
   "metadata": {
    "collapsed": false
   },
   "outputs": [],
   "source": [
    "# feats = pd.DataFrame({'col': target_cols, 'imps': imp})"
   ]
  },
  {
   "cell_type": "code",
   "execution_count": 149,
   "metadata": {
    "collapsed": false
   },
   "outputs": [],
   "source": [
    "# feats.sort_values('imps', ascending=False).plot(\n",
    "#     kind='bar', x=feats.sort_values('imps', ascending=False).col, figsize=(18,4))"
   ]
  },
  {
   "cell_type": "markdown",
   "metadata": {},
   "source": [
    "### Support Vector Machine"
   ]
  },
  {
   "cell_type": "code",
   "execution_count": 226,
   "metadata": {
    "collapsed": false
   },
   "outputs": [],
   "source": [
    "svc_clf = SVC(C=10, kernel='linear', probability=True)"
   ]
  },
  {
   "cell_type": "code",
   "execution_count": 227,
   "metadata": {
    "collapsed": true
   },
   "outputs": [],
   "source": [
    "param_grid = [\n",
    "  {'C': [1, 10, 100, 1000], 'kernel': ['linear']},\n",
    "  {'C': [1, 10, 100, 1000], 'gamma': [0.001, 0.0001], 'kernel': ['rbf']},\n",
    "]"
   ]
  },
  {
   "cell_type": "code",
   "execution_count": 228,
   "metadata": {
    "collapsed": false
   },
   "outputs": [],
   "source": [
    "# svc_grid = GridSearchCV(svc_clf, param_grid)"
   ]
  },
  {
   "cell_type": "code",
   "execution_count": 229,
   "metadata": {
    "collapsed": false
   },
   "outputs": [
    {
     "data": {
      "text/plain": [
       "SVC(C=10, cache_size=200, class_weight=None, coef0=0.0,\n",
       "  decision_function_shape=None, degree=3, gamma='auto', kernel='linear',\n",
       "  max_iter=-1, probability=True, random_state=None, shrinking=True,\n",
       "  tol=0.001, verbose=False)"
      ]
     },
     "execution_count": 229,
     "metadata": {},
     "output_type": "execute_result"
    }
   ],
   "source": [
    "svc_clf.fit(X_train, y_train)"
   ]
  },
  {
   "cell_type": "code",
   "execution_count": 87,
   "metadata": {
    "collapsed": false
   },
   "outputs": [],
   "source": [
    "y_svc_pred = svc_clf.predict(X_test)"
   ]
  },
  {
   "cell_type": "code",
   "execution_count": 177,
   "metadata": {
    "collapsed": false
   },
   "outputs": [],
   "source": [
    "# score = cross_val_score(clf.best_estimator_, X, y_type, cv=10).mean()\n",
    "# print(\"Score with the entire dataset = %.2f\" % score)"
   ]
  },
  {
   "cell_type": "markdown",
   "metadata": {},
   "source": [
    "### KNN"
   ]
  },
  {
   "cell_type": "code",
   "execution_count": 155,
   "metadata": {
    "collapsed": false
   },
   "outputs": [],
   "source": [
    "knn_clf = KNeighborsClassifier()"
   ]
  },
  {
   "cell_type": "code",
   "execution_count": 156,
   "metadata": {
    "collapsed": false
   },
   "outputs": [],
   "source": [
    "param_grid = [{\n",
    "    'weights': ['uniform', 'distance'], \n",
    "    'n_neighbors': [5, 10, 20, 30, 40, 50, 60, 70, 80, 90, 100],\n",
    "    'metric': ['euclidean', 'cityblock']\n",
    "}]"
   ]
  },
  {
   "cell_type": "code",
   "execution_count": 162,
   "metadata": {
    "collapsed": false
   },
   "outputs": [],
   "source": [
    "knn_grid = GridSearchCV(knn_clf, param_grid)"
   ]
  },
  {
   "cell_type": "code",
   "execution_count": 164,
   "metadata": {
    "collapsed": false
   },
   "outputs": [
    {
     "data": {
      "text/plain": [
       "GridSearchCV(cv=None, error_score='raise',\n",
       "       estimator=KNeighborsClassifier(algorithm='auto', leaf_size=30, metric='minkowski',\n",
       "           metric_params=None, n_jobs=1, n_neighbors=5, p=2,\n",
       "           weights='uniform'),\n",
       "       fit_params={}, iid=True, n_jobs=1,\n",
       "       param_grid=[{'metric': ['euclidean', 'cityblock'], 'weights': ['uniform', 'distance'], 'n_neighbors': [5, 10, 20, 30, 40, 50, 60, 70, 80, 90, 100]}],\n",
       "       pre_dispatch='2*n_jobs', refit=True, return_train_score=True,\n",
       "       scoring=None, verbose=0)"
      ]
     },
     "execution_count": 164,
     "metadata": {},
     "output_type": "execute_result"
    }
   ],
   "source": [
    "knn_grid.fit(X_train, y_train);"
   ]
  },
  {
   "cell_type": "code",
   "execution_count": 159,
   "metadata": {
    "collapsed": false
   },
   "outputs": [
    {
     "data": {
      "text/plain": [
       "KNeighborsClassifier(algorithm='auto', leaf_size=30, metric='minkowski',\n",
       "           metric_params=None, n_jobs=1, n_neighbors=5, p=2,\n",
       "           weights='uniform')"
      ]
     },
     "execution_count": 159,
     "metadata": {},
     "output_type": "execute_result"
    }
   ],
   "source": [
    "knn_clf.fit(X_train, y_train)"
   ]
  },
  {
   "cell_type": "code",
   "execution_count": 160,
   "metadata": {
    "collapsed": false
   },
   "outputs": [
    {
     "name": "stdout",
     "output_type": "stream",
     "text": [
      "Score with the entire dataset = 0.81\n"
     ]
    }
   ],
   "source": [
    "score = cross_val_score(knn_clf, X, y_type, cv=10).mean()\n",
    "print(\"Score with the entire dataset = %.2f\" % score)"
   ]
  },
  {
   "cell_type": "code",
   "execution_count": 165,
   "metadata": {
    "collapsed": false
   },
   "outputs": [],
   "source": [
    "y_knn_pred = knn_grid.best_estimator_.predict(X_test)"
   ]
  },
  {
   "cell_type": "code",
   "execution_count": 166,
   "metadata": {
    "collapsed": false
   },
   "outputs": [
    {
     "data": {
      "text/plain": [
       "0.77181208053691275"
      ]
     },
     "execution_count": 166,
     "metadata": {},
     "output_type": "execute_result"
    }
   ],
   "source": [
    "accuracy_score(y_test, y_knn_pred)"
   ]
  },
  {
   "cell_type": "markdown",
   "metadata": {},
   "source": [
    "### Voting Classifier"
   ]
  },
  {
   "cell_type": "code",
   "execution_count": 555,
   "metadata": {
    "collapsed": false
   },
   "outputs": [],
   "source": [
    "vote_clf = VotingClassifier(\n",
    "    estimators=[\n",
    "        ('rf', rf_grid.best_estimator_), \n",
    "        ('gb', gb_grid.best_estimator_), \n",
    "        ('knn', knn_grid.best_estimator_)\n",
    "    ], voting='soft', weights=[2, 5, 1])"
   ]
  },
  {
   "cell_type": "code",
   "execution_count": 556,
   "metadata": {
    "collapsed": false
   },
   "outputs": [
    {
     "name": "stdout",
     "output_type": "stream",
     "text": [
      "Score with the entire dataset = 0.82\n"
     ]
    }
   ],
   "source": [
    "score = cross_val_score(vote_clf, X, y_type, cv=3).mean()\n",
    "print(\"Score with the entire dataset = %.2f\" % score)"
   ]
  },
  {
   "cell_type": "markdown",
   "metadata": {},
   "source": [
    "### Autolearning Classifier"
   ]
  },
  {
   "cell_type": "code",
   "execution_count": 470,
   "metadata": {
    "collapsed": false
   },
   "outputs": [],
   "source": [
    "# import autosklearn.classification"
   ]
  },
  {
   "cell_type": "markdown",
   "metadata": {},
   "source": [
    "### Diagnostics and Model Checking"
   ]
  },
  {
   "cell_type": "code",
   "execution_count": 59,
   "metadata": {
    "collapsed": true
   },
   "outputs": [],
   "source": [
    "## See how the model performs with more data"
   ]
  },
  {
   "cell_type": "code",
   "execution_count": 61,
   "metadata": {
    "collapsed": false
   },
   "outputs": [],
   "source": [
    "# classification_report(y_test, y_pred, target_names=f[1])\n",
    "# confusion_matrix(y_test, y_pred)"
   ]
  },
  {
   "cell_type": "code",
   "execution_count": 122,
   "metadata": {
    "collapsed": false
   },
   "outputs": [],
   "source": [
    "adf = pd.DataFrame({'train': y_test, 'test': y_pred})"
   ]
  },
  {
   "cell_type": "code",
   "execution_count": 125,
   "metadata": {
    "collapsed": false
   },
   "outputs": [],
   "source": [
    "adf['loss'] = adf.apply(lambda r: 1 if r['test'] == r['train'] else 0, axis=1)"
   ]
  },
  {
   "cell_type": "code",
   "execution_count": 138,
   "metadata": {
    "collapsed": true
   },
   "outputs": [],
   "source": [
    "f = pd.factorize(tdf.type.as_matrix())"
   ]
  },
  {
   "cell_type": "code",
   "execution_count": 150,
   "metadata": {
    "collapsed": false
   },
   "outputs": [],
   "source": [
    "# adf.replace({\n",
    "#     0: 'individualistic',\n",
    "#     1: 'prosocial',\n",
    "#     2: 'altruistic',\n",
    "#     3: 'competitive'\n",
    "# })"
   ]
  },
  {
   "cell_type": "markdown",
   "metadata": {},
   "source": [
    "### Learning Curve"
   ]
  },
  {
   "cell_type": "code",
   "execution_count": 170,
   "metadata": {
    "collapsed": true
   },
   "outputs": [],
   "source": [
    "def plot_learning_curve(estimator, title, X, y, ylim=None, cv=None,\n",
    "                        n_jobs=1, train_sizes=np.linspace(.1, 1.0, 5)):\n",
    "    plt.figure()\n",
    "    plt.title(title)\n",
    "    if ylim is not None:\n",
    "        plt.ylim(*ylim)\n",
    "    plt.xlabel(\"Training examples\")\n",
    "    plt.ylabel(\"Score\")\n",
    "    train_sizes, train_scores, test_scores = learning_curve(\n",
    "        estimator, X, y, cv=cv, n_jobs=n_jobs, train_sizes=train_sizes)\n",
    "    train_scores_mean = np.mean(train_scores, axis=1)\n",
    "    train_scores_std = np.std(train_scores, axis=1)\n",
    "    test_scores_mean = np.mean(test_scores, axis=1)\n",
    "    test_scores_std = np.std(test_scores, axis=1)\n",
    "    plt.grid()\n",
    "\n",
    "    plt.fill_between(train_sizes, train_scores_mean - train_scores_std,\n",
    "                     train_scores_mean + train_scores_std, alpha=0.1,\n",
    "                     color=\"r\")\n",
    "    plt.fill_between(train_sizes, test_scores_mean - test_scores_std,\n",
    "                     test_scores_mean + test_scores_std, alpha=0.1, color=\"g\")\n",
    "    plt.plot(train_sizes, train_scores_mean, 'o-', color=\"r\",\n",
    "             label=\"Training score\")\n",
    "    plt.plot(train_sizes, test_scores_mean, 'o-', color=\"g\",\n",
    "             label=\"Cross-validation score\")\n",
    "\n",
    "    plt.legend(loc=\"best\")\n",
    "    return plt"
   ]
  },
  {
   "cell_type": "code",
   "execution_count": 219,
   "metadata": {
    "collapsed": false
   },
   "outputs": [
    {
     "data": {
      "text/plain": [
       "<module 'matplotlib.pyplot' from '/Users/pdarche/miniconda3/lib/python3.5/site-packages/matplotlib/pyplot.py'>"
      ]
     },
     "execution_count": 219,
     "metadata": {},
     "output_type": "execute_result"
    },
    {
     "data": {
      "image/png": "[encoded data removed]",
      "text/plain": [
       "<matplotlib.figure.Figure at 0x110c14b70>"
      ]
     },
     "metadata": {},
     "output_type": "display_data"
    }
   ],
   "source": [
    "plot_learning_curve(lr_clf, \"Logistic Regresion Learning Curve\", X, y_ps)"
   ]
  },
  {
   "cell_type": "code",
   "execution_count": 220,
   "metadata": {
    "collapsed": false
   },
   "outputs": [
    {
     "data": {
      "text/plain": [
       "<module 'matplotlib.pyplot' from '/Users/pdarche/miniconda3/lib/python3.5/site-packages/matplotlib/pyplot.py'>"
      ]
     },
     "execution_count": 220,
     "metadata": {},
     "output_type": "execute_result"
    },
    {
     "data": {
      "image/png": "[encoded data removed]",
      "text/plain": [
       "<matplotlib.figure.Figure at 0x110c14710>"
      ]
     },
     "metadata": {},
     "output_type": "display_data"
    }
   ],
   "source": [
    "plot_learning_curve(nb_clf, \"Naive Bayes Learning Curve\", X, y_ps)"
   ]
  },
  {
   "cell_type": "code",
   "execution_count": 209,
   "metadata": {
    "collapsed": false
   },
   "outputs": [
    {
     "data": {
      "text/plain": [
       "<module 'matplotlib.pyplot' from '/Users/pdarche/miniconda3/lib/python3.5/site-packages/matplotlib/pyplot.py'>"
      ]
     },
     "execution_count": 209,
     "metadata": {},
     "output_type": "execute_result"
    },
    {
     "data": {
      "image/png": "[encoded data removed]",
      "text/plain": [
       "<matplotlib.figure.Figure at 0x11017cfd0>"
      ]
     },
     "metadata": {},
     "output_type": "display_data"
    }
   ],
   "source": [
    "plot_learning_curve(knn_clf, \"KNN Regresion Learning Curve\", X, y_ps)"
   ]
  },
  {
   "cell_type": "code",
   "execution_count": 210,
   "metadata": {
    "collapsed": false
   },
   "outputs": [
    {
     "data": {
      "text/plain": [
       "<module 'matplotlib.pyplot' from '/Users/pdarche/miniconda3/lib/python3.5/site-packages/matplotlib/pyplot.py'>"
      ]
     },
     "execution_count": 210,
     "metadata": {},
     "output_type": "execute_result"
    },
    {
     "data": {
      "image/png": "[encoded data removed]",
      "text/plain": [
       "<matplotlib.figure.Figure at 0x110b08358>"
      ]
     },
     "metadata": {},
     "output_type": "display_data"
    }
   ],
   "source": [
    "plot_learning_curve(gb_clf, \"Gradient Boosting Regresion Learning Curve\", X, y_ps)"
   ]
  },
  {
   "cell_type": "code",
   "execution_count": 211,
   "metadata": {
    "collapsed": false
   },
   "outputs": [
    {
     "data": {
      "text/plain": [
       "<module 'matplotlib.pyplot' from '/Users/pdarche/miniconda3/lib/python3.5/site-packages/matplotlib/pyplot.py'>"
      ]
     },
     "execution_count": 211,
     "metadata": {},
     "output_type": "execute_result"
    },
    {
     "data": {
      "image/png": "[encoded data removed]",
      "text/plain": [
       "<matplotlib.figure.Figure at 0x110c3e1d0>"
      ]
     },
     "metadata": {},
     "output_type": "display_data"
    }
   ],
   "source": [
    "plot_learning_curve(gb_clf, \"Random Forest Regresion Learning Curve\", X, y_ps)"
   ]
  },
  {
   "cell_type": "code",
   "execution_count": 332,
   "metadata": {
    "collapsed": false
   },
   "outputs": [],
   "source": [
    "# plot_learning_curve(svc_clf, \"SVC Learning Curve\", X, y_ps)"
   ]
  },
  {
   "cell_type": "markdown",
   "metadata": {},
   "source": [
    "### ROC curve"
   ]
  },
  {
   "cell_type": "code",
   "execution_count": 683,
   "metadata": {
    "collapsed": false
   },
   "outputs": [],
   "source": [
    "# Undersampler\n",
    "# us = RandomUnderSampler(ratio=.5)\n",
    "us = RepeatedEditedNearestNeighbours(size_ngh=2)"
   ]
  },
  {
   "cell_type": "code",
   "execution_count": 684,
   "metadata": {
    "collapsed": true
   },
   "outputs": [],
   "source": [
    "X_train, X_test, y_train, y_test = train_test_split(X, y_ps, test_size=.25)"
   ]
  },
  {
   "cell_type": "code",
   "execution_count": 685,
   "metadata": {
    "collapsed": true
   },
   "outputs": [],
   "source": [
    "X_train_res, y_train_res = us.fit_sample(X_train, y_train)"
   ]
  },
  {
   "cell_type": "code",
   "execution_count": 686,
   "metadata": {
    "collapsed": true
   },
   "outputs": [],
   "source": [
    "rf_clf.fit(X_train_res, y_train_res)\n",
    "gb_clf.fit(X_train_res, y_train_res)\n",
    "ab_clf.fit(X_train_res, y_train_res)\n",
    "lr_clf.fit(X_train_res, y_train_res)\n",
    "nb_clf.fit(X_train_res, y_train_res)\n",
    "knn_clf.fit(X_train_res, y_train_res);"
   ]
  },
  {
   "cell_type": "code",
   "execution_count": 687,
   "metadata": {
    "collapsed": true
   },
   "outputs": [],
   "source": [
    "# rf_clf.fit(X_train, y_train)\n",
    "# gb_clf.fit(X_train, y_train)\n",
    "# ab_clf.fit(X_train, y_train)\n",
    "# lr_clf.fit(X_train, y_train)\n",
    "# nb_clf.fit(X_train, y_train)\n",
    "# knn_clf.fit(X_train, y_train);"
   ]
  },
  {
   "cell_type": "code",
   "execution_count": 688,
   "metadata": {
    "collapsed": false
   },
   "outputs": [],
   "source": [
    "probs = gb_clf.predict_proba(X_test)\n",
    "preds = probs[:,1]"
   ]
  },
  {
   "cell_type": "code",
   "execution_count": 689,
   "metadata": {
    "collapsed": false
   },
   "outputs": [],
   "source": [
    "probs2 = lr_clf.predict_proba(X_test)\n",
    "preds2 = probs2[:,1]"
   ]
  },
  {
   "cell_type": "code",
   "execution_count": 690,
   "metadata": {
    "collapsed": false
   },
   "outputs": [],
   "source": [
    "probs3 = knn_clf.predict_proba(X_test)\n",
    "preds3 = probs3[:,1]"
   ]
  },
  {
   "cell_type": "code",
   "execution_count": 691,
   "metadata": {
    "collapsed": true
   },
   "outputs": [],
   "source": [
    "probs4 = rf_clf.predict_proba(X_test)\n",
    "preds4 = probs4[:,1]"
   ]
  },
  {
   "cell_type": "code",
   "execution_count": 692,
   "metadata": {
    "collapsed": false
   },
   "outputs": [],
   "source": [
    "probs5 = nb_clf.predict_proba(X_test)\n",
    "preds5 = probs5[:,1]"
   ]
  },
  {
   "cell_type": "code",
   "execution_count": 693,
   "metadata": {
    "collapsed": false
   },
   "outputs": [],
   "source": [
    "# probs6 = svc_clf.predict_proba(X_test)\n",
    "# preds6 = probs6[:,1]"
   ]
  },
  {
   "cell_type": "code",
   "execution_count": 694,
   "metadata": {
    "collapsed": false,
    "scrolled": true
   },
   "outputs": [
    {
     "data": {
      "text/plain": [
       "<matplotlib.text.Text at 0x117840898>"
      ]
     },
     "execution_count": 694,
     "metadata": {},
     "output_type": "execute_result"
    },
    {
     "data": {
      "image/png": "[encoded data removed]",
      "text/plain": [
       "<matplotlib.figure.Figure at 0x114fbf080>"
      ]
     },
     "metadata": {},
     "output_type": "display_data"
    }
   ],
   "source": [
    "fpr, tpr, threshold = roc_curve(y_test, preds)\n",
    "roc_auc = auc(fpr, tpr)\n",
    "\n",
    "fpr2, tpr2, threshold = roc_curve(y_test, preds2)\n",
    "roc_auc2 = auc(fpr2, tpr2)\n",
    "\n",
    "fpr3, tpr3, threshold = roc_curve(y_test, preds3)\n",
    "roc_auc3 = auc(fpr3, tpr3)\n",
    "\n",
    "fpr4, tpr4, threshold = roc_curve(y_test, preds4)\n",
    "roc_auc4 = auc(fpr4, tpr4)\n",
    "\n",
    "fpr5, tpr5, threshold = roc_curve(y_test, preds5)\n",
    "roc_auc5 = auc(fpr5, tpr5)\n",
    "\n",
    "# fpr6, tpr6, threshold = roc_curve(y_test, preds6)\n",
    "# roc_auc6 = auc(fpr6, tpr6)\n",
    "\n",
    "plt.title('Receiver Operating Characteristic')\n",
    "plt.plot(fpr, tpr, 'b', label = 'GB AUC = %0.2f' % roc_auc)\n",
    "plt.plot(fpr2, tpr2, 'g', label = 'LR AUC = %0.2f' % roc_auc2)\n",
    "plt.plot(fpr3, tpr3, 'y', label = 'KNN AUC = %0.2f' % roc_auc3)\n",
    "plt.plot(fpr4, tpr4, 'orange', label = 'RF AUC = %0.2f' % roc_auc4)\n",
    "plt.plot(fpr5, tpr5, 'red', label = 'NB AUC = %0.2f' % roc_auc5)\n",
    "plt.plot(fpr6, tpr6, 'purple', label = 'SVC AUC = %0.2f' % roc_auc6)\n",
    "plt.legend(loc = 'lower right')\n",
    "plt.plot([0, 1], [0, 1],'--', color='gray', linewidth=1)\n",
    "plt.xlim([0, 1])\n",
    "plt.ylim([0, 1])\n",
    "plt.ylabel('True Positive Rate')\n",
    "plt.xlabel('False Positive Rate')\n",
    "#plt.show()\n",
    "#plt.savefig(\"../img/roc.png\")"
   ]
  },
  {
   "cell_type": "code",
   "execution_count": 695,
   "metadata": {
    "collapsed": false
   },
   "outputs": [],
   "source": [
    "# probs = pd.Series(preds).apply(np.max)\n",
    "# adf['prob'] = probs\n",
    "# adf[adf.loss==0]"
   ]
  },
  {
   "cell_type": "markdown",
   "metadata": {
    "collapsed": true
   },
   "source": [
    "### Identifying misclassified points"
   ]
  },
  {
   "cell_type": "code",
   "execution_count": 449,
   "metadata": {
    "collapsed": false
   },
   "outputs": [],
   "source": [
    "# Classifiers\n",
    "rf_clf = RandomForestClassifier(n_estimators=300)\n",
    "gb_clf = GradientBoostingClassifier(n_estimators=300)\n",
    "svc_clf = SVC(C=10, kernel='linear')\n",
    "knn_clf = KNeighborsClassifier(n_neighbors=5)"
   ]
  },
  {
   "cell_type": "code",
   "execution_count": 450,
   "metadata": {
    "collapsed": false
   },
   "outputs": [],
   "source": [
    "clf = rf_clf"
   ]
  },
  {
   "cell_type": "code",
   "execution_count": 550,
   "metadata": {
    "collapsed": false
   },
   "outputs": [],
   "source": [
    "min_count = 0\n",
    "runs = []\n",
    "rdf = None\n",
    "## train a classifier on anew training and testing set\n",
    "while min_count <= 30:\n",
    "    # Create placeholder vector\n",
    "    run = np.full((1,X.shape[0],), np.nan)\n",
    "    X_train, X_test, y_train, y_test = train_test_split(X, y_ps, test_size=.25)\n",
    "    # test on the entire data set\n",
    "    clf.fit(X_train, y_train)\n",
    "    # make predictions with the classifier\n",
    "    y_pred = clf.predict(X_test)\n",
    "    # check if they're correct or incorrect\n",
    "    misclassified = ~np.equal(y_pred, y_test)\n",
    "    min_count += 1\n",
    "    # for each data point in the test set, if it's misclassified set the it's it's datapoint \n",
    "    # misclassified\n",
    "    for dix, vix in enumerate(X_test.index):\n",
    "        run[0][vix] = 1 if misclassified.iloc[dix] else 0\n",
    "    runs.append(run[0])\n",
    "    rdf = pd.DataFrame(runs)\n",
    "    min_count = np.min(rdf.count())"
   ]
  },
  {
   "cell_type": "code",
   "execution_count": 551,
   "metadata": {
    "collapsed": false
   },
   "outputs": [],
   "source": [
    "hard_cases = rdf.mean()[rdf.mean() > .75].index\n",
    "easy_cases = rdf.mean()[rdf.mean() == 0].index"
   ]
  },
  {
   "cell_type": "code",
   "execution_count": 552,
   "metadata": {
    "collapsed": true
   },
   "outputs": [],
   "source": [
    "svo.loc[hard_cases, 'case'] = 'hard'\n",
    "svo.loc[easy_cases, 'case'] = 'easy'"
   ]
  },
  {
   "cell_type": "code",
   "execution_count": 567,
   "metadata": {
    "collapsed": true
   },
   "outputs": [],
   "source": [
    "# Style settings\n",
    "sns.set_style('whitegrid')\n",
    "\n",
    "def remove_gridlines(ax):\n",
    "    ax.yaxis.grid(False)\n",
    "    ax.xaxis.grid(False)\n",
    "    \n",
    "def modify_gridlines(ax):\n",
    "    for line in ax.get_ygridlines():\n",
    "        line.set_linestyle(':')\n",
    "\n",
    "    for line in ax.get_xgridlines():\n",
    "        line.set_linestyle(':')"
   ]
  },
  {
   "cell_type": "code",
   "execution_count": 568,
   "metadata": {
    "collapsed": false
   },
   "outputs": [
    {
     "data": {
      "image/png": "[encoded data removed]",
      "text/plain": [
       "<matplotlib.figure.Figure at 0x11143a630>"
      ]
     },
     "metadata": {},
     "output_type": "display_data"
    }
   ],
   "source": [
    "# Distribution of incorrect classifications\n",
    "rdf.mean().hist(bins=30)\n",
    "plt.title(\"Data Point Misclassification Rate\")\n",
    "plt.xlabel(\"Misclassification Rates\")\n",
    "plt.ylabel(\"Count\")\n",
    "plt.savefig(\"../img/misclassification_rate.png\")"
   ]
  },
  {
   "cell_type": "code",
   "execution_count": 569,
   "metadata": {
    "collapsed": false
   },
   "outputs": [
    {
     "data": {
      "image/png": "[encoded data removed]",
      "text/plain": [
       "<matplotlib.figure.Figure at 0x11c98b0f0>"
      ]
     },
     "metadata": {},
     "output_type": "display_data"
    }
   ],
   "source": [
    "hard = svo.ix[hard_cases].svo.hist(bins=30)"
   ]
  },
  {
   "cell_type": "code",
   "execution_count": 570,
   "metadata": {
    "collapsed": true
   },
   "outputs": [],
   "source": [
    "from sklearn.manifold import MDS\n",
    "from sklearn.decomposition import PCA\n",
    "from sklearn.manifold import TSNE\n",
    "from sklearn import preprocessing\n",
    "min_max_scaler = preprocessing.MinMaxScaler()"
   ]
  },
  {
   "cell_type": "code",
   "execution_count": 711,
   "metadata": {
    "collapsed": true
   },
   "outputs": [],
   "source": [
    "cdf = svo.loc[:, ['case'] + target_cols]"
   ]
  },
  {
   "cell_type": "code",
   "execution_count": 736,
   "metadata": {
    "collapsed": false
   },
   "outputs": [],
   "source": [
    "X_clust = cdf.ix[cdf.case.notnull(), 1:]\n",
    "y_clust = cdf.ix[cdf.case.notnull(), 'case']"
   ]
  },
  {
   "cell_type": "code",
   "execution_count": 737,
   "metadata": {
    "collapsed": false
   },
   "outputs": [],
   "source": [
    "X_clust, y_clust = us.fit_sample(X_clust, y_clust)"
   ]
  },
  {
   "cell_type": "code",
   "execution_count": 738,
   "metadata": {
    "collapsed": false
   },
   "outputs": [],
   "source": [
    "X_clust_scaled = min_max_scaler.fit_transform(X_clust)"
   ]
  },
  {
   "cell_type": "code",
   "execution_count": 739,
   "metadata": {
    "collapsed": true
   },
   "outputs": [],
   "source": [
    "mds = MDS(2, max_iter=100, n_init=1)\n",
    "tsne = TSNE(n_components=2, perplexity=50)\n",
    "pca = PCA(n_components=2)"
   ]
  },
  {
   "cell_type": "code",
   "execution_count": 740,
   "metadata": {
    "collapsed": false
   },
   "outputs": [],
   "source": [
    "clust = pca\n",
    "X_mds = clust.fit_transform(X_clust_scaled)"
   ]
  },
  {
   "cell_type": "code",
   "execution_count": 741,
   "metadata": {
    "collapsed": false
   },
   "outputs": [],
   "source": [
    "mdf = pd.DataFrame({\n",
    "    'x': X_mds.transpose()[0], \n",
    "    'y': X_mds.transpose()[1], \n",
    "    'case': y_clust #cdf[cdf.case.notnull()].case\n",
    "})"
   ]
  },
  {
   "cell_type": "code",
   "execution_count": 742,
   "metadata": {
    "collapsed": false
   },
   "outputs": [
    {
     "data": {
      "text/plain": [
       "<seaborn.axisgrid.FacetGrid at 0x117280c18>"
      ]
     },
     "execution_count": 742,
     "metadata": {},
     "output_type": "execute_result"
    },
    {
     "data": {
      "text/plain": [
       "<matplotlib.figure.Figure at 0x117824eb8>"
      ]
     },
     "metadata": {},
     "output_type": "display_data"
    },
    {
     "data": {
      "image/png": "[encoded data removed]",
      "text/plain": [
       "<matplotlib.figure.Figure at 0x117280320>"
      ]
     },
     "metadata": {},
     "output_type": "display_data"
    }
   ],
   "source": [
    "plt.figure(figsize=(12, 12))\n",
    "sns.lmplot(x='x', y='y', hue='case',\n",
    "           fit_reg=False, data=mdf, scatter_kws={'alpha':0.8})"
   ]
  },
  {
   "cell_type": "code",
   "execution_count": 790,
   "metadata": {
    "collapsed": false
   },
   "outputs": [
    {
     "data": {
      "text/plain": [
       "<matplotlib.axes._subplots.AxesSubplot at 0x120e41128>"
      ]
     },
     "execution_count": 790,
     "metadata": {},
     "output_type": "execute_result"
    },
    {
     "data": {
      "image/png": "[encoded data removed]",
      "text/plain": [
       "<matplotlib.figure.Figure at 0x120e78908>"
      ]
     },
     "metadata": {},
     "output_type": "display_data"
    }
   ],
   "source": [
    "sns.boxplot(x='politics', y='svo', data=svo, hue='case')"
   ]
  },
  {
   "cell_type": "code",
   "execution_count": 795,
   "metadata": {
    "collapsed": false
   },
   "outputs": [
    {
     "data": {
      "text/plain": [
       "<matplotlib.axes._subplots.AxesSubplot at 0x121b6d898>"
      ]
     },
     "execution_count": 795,
     "metadata": {},
     "output_type": "execute_result"
    },
    {
     "data": {
      "image/png": "[encoded data removed]",
      "text/plain": [
       "<matplotlib.figure.Figure at 0x1217eeda0>"
      ]
     },
     "metadata": {},
     "output_type": "display_data"
    }
   ],
   "source": [
    "sns.boxplot(x='income', y='svo', data=svo, hue='case')"
   ]
  },
  {
   "cell_type": "code",
   "execution_count": 796,
   "metadata": {
    "collapsed": false
   },
   "outputs": [
    {
     "data": {
      "text/plain": [
       "<matplotlib.axes._subplots.AxesSubplot at 0x121e99f98>"
      ]
     },
     "execution_count": 796,
     "metadata": {},
     "output_type": "execute_result"
    },
    {
     "data": {
      "image/png": "[encoded data removed]",
      "text/plain": [
       "<matplotlib.figure.Figure at 0x121ea9048>"
      ]
     },
     "metadata": {},
     "output_type": "display_data"
    }
   ],
   "source": [
    "sns.boxplot(x='religiosity', y='svo', data=svo, hue='case')"
   ]
  },
  {
   "cell_type": "code",
   "execution_count": 797,
   "metadata": {
    "collapsed": false
   },
   "outputs": [
    {
     "data": {
      "text/plain": [
       "<matplotlib.axes._subplots.AxesSubplot at 0x121ea9470>"
      ]
     },
     "execution_count": 797,
     "metadata": {},
     "output_type": "execute_result"
    },
    {
     "data": {
      "image/png": "[encoded data removed]",
      "text/plain": [
       "<matplotlib.figure.Figure at 0x1213f5898>"
      ]
     },
     "metadata": {},
     "output_type": "display_data"
    }
   ],
   "source": [
    "sns.boxplot(x='politics', y='svo', data=svo, hue='case')"
   ]
  },
  {
   "cell_type": "code",
   "execution_count": 808,
   "metadata": {
    "collapsed": false
   },
   "outputs": [
    {
     "data": {
      "text/plain": [
       "<matplotlib.axes._subplots.AxesSubplot at 0x1227dc940>"
      ]
     },
     "execution_count": 808,
     "metadata": {},
     "output_type": "execute_result"
    },
    {
     "data": {
      "image/png": "[encoded data removed]",
      "text/plain": [
       "<matplotlib.figure.Figure at 0x122686438>"
      ]
     },
     "metadata": {},
     "output_type": "display_data"
    }
   ],
   "source": [
    "sns.distplot(np.log(svo[svo.ev2 > 0].ev2))"
   ]
  },
  {
   "cell_type": "code",
   "execution_count": 809,
   "metadata": {
    "collapsed": false
   },
   "outputs": [],
   "source": [
    "# sns.distplot(np.log(svo[svo.case=='easy'].ev4))\n",
    "# sns.distplot(np.log(svo[svo.case=='hard'].ev4))"
   ]
  },
  {
   "cell_type": "code",
   "execution_count": 592,
   "metadata": {
    "collapsed": false
   },
   "outputs": [],
   "source": [
    "### Check if the hard cases are in the bad values\n",
    "# hdf = svo.loc[svo.case=='hard', :]"
   ]
  },
  {
   "cell_type": "markdown",
   "metadata": {},
   "source": [
    "### Classifying Hard Cases"
   ]
  },
  {
   "cell_type": "code",
   "execution_count": 770,
   "metadata": {
    "collapsed": false
   },
   "outputs": [],
   "source": [
    "gb_hard_clf = GradientBoostingClassifier(n_estimators=300)\n",
    "rf_hard_clf = RandomForestClassifier(n_estimators=300)\n",
    "svc_hard_clf = SVC(C=10, kernel='linear', probability=False)\n",
    "knn_hard_clf = KNeighborsClassifier(n_neighbors=6)\n",
    "lr_hard_clf = LogisticRegression()"
   ]
  },
  {
   "cell_type": "code",
   "execution_count": 771,
   "metadata": {
    "collapsed": true
   },
   "outputs": [],
   "source": [
    "# y_case = pd.factorize(svo.prosocial)[0]"
   ]
  },
  {
   "cell_type": "code",
   "execution_count": 772,
   "metadata": {
    "collapsed": true
   },
   "outputs": [],
   "source": [
    "# Undersampler\n",
    "# us = RandomUnderSampler(ratio=.5)\n",
    "us = RepeatedEditedNearestNeighbours(size_ngh=2)"
   ]
  },
  {
   "cell_type": "code",
   "execution_count": 773,
   "metadata": {
    "collapsed": false
   },
   "outputs": [],
   "source": [
    "hdf = svo[svo.case == 'hard']"
   ]
  },
  {
   "cell_type": "code",
   "execution_count": 774,
   "metadata": {
    "collapsed": false
   },
   "outputs": [],
   "source": [
    "X_train_c, X_test_c, y_train_c, y_test_c = train_test_split(hdf[target_cols], hdf.prosocial, test_size=.25)"
   ]
  },
  {
   "cell_type": "code",
   "execution_count": 775,
   "metadata": {
    "collapsed": false
   },
   "outputs": [],
   "source": [
    "X_train_res_c, y_train_res_c = us.fit_sample(X_train_c, y_train_c)"
   ]
  },
  {
   "cell_type": "code",
   "execution_count": 776,
   "metadata": {
    "collapsed": false
   },
   "outputs": [
    {
     "name": "stdout",
     "output_type": "stream",
     "text": [
      "Gradient Boosting Score = 0.79\n",
      "Random Forest Score = 0.79\n",
      "KNN Score = 0.84\n",
      "Logistic Regression Score = 0.87\n",
      "SVC Score = 0.76\n"
     ]
    }
   ],
   "source": [
    "score = cross_val_score(gb_hard_clf, X_train_res_c, y_train_res_c, cv=3).mean()\n",
    "print(\"Gradient Boosting Score = %.2f\" % score)\n",
    "score = cross_val_score(rf_hard_clf, X_train_res_c, y_train_res_c, cv=3).mean()\n",
    "print(\"Random Forest Score = %.2f\" % score)\n",
    "score = cross_val_score(knn_hard_clf, X_train_res_c, y_train_res_c, cv=3).mean()\n",
    "print(\"KNN Score = %.2f\" % score)\n",
    "score = cross_val_score(lr_hard_clf, X_train_res_c, y_train_res_c, cv=3).mean()\n",
    "print(\"Logistic Regression Score = %.2f\" % score)\n",
    "score = cross_val_score(svc_hard_clf, X_train_res_c, y_train_res_c, cv=3).mean()\n",
    "print(\"SVC Score = %.2f\" % score)"
   ]
  },
  {
   "cell_type": "code",
   "execution_count": 783,
   "metadata": {
    "collapsed": false
   },
   "outputs": [
    {
     "data": {
      "text/plain": [
       "LogisticRegression(C=1.0, class_weight=None, dual=False, fit_intercept=True,\n",
       "          intercept_scaling=1, max_iter=100, multi_class='ovr', n_jobs=1,\n",
       "          penalty='l2', random_state=None, solver='liblinear', tol=0.0001,\n",
       "          verbose=0, warm_start=False)"
      ]
     },
     "execution_count": 783,
     "metadata": {},
     "output_type": "execute_result"
    }
   ],
   "source": [
    "lr_clf.fit(X_train_c, y_train_c)"
   ]
  },
  {
   "cell_type": "code",
   "execution_count": 780,
   "metadata": {
    "collapsed": false
   },
   "outputs": [],
   "source": [
    "y_lr_hard_pred = lr_clf.predict(X_test_c)"
   ]
  },
  {
   "cell_type": "code",
   "execution_count": 784,
   "metadata": {
    "collapsed": true
   },
   "outputs": [],
   "source": [
    "y_lr_hard_pred_full = lr_clf.predict(X_test_c)"
   ]
  },
  {
   "cell_type": "code",
   "execution_count": 782,
   "metadata": {
    "collapsed": false
   },
   "outputs": [
    {
     "name": "stdout",
     "output_type": "stream",
     "text": [
      "             precision    recall  f1-score   support\n",
      "\n",
      "        0.0       0.40      0.67      0.50         6\n",
      "        1.0       0.82      0.60      0.69        15\n",
      "\n",
      "avg / total       0.70      0.62      0.64        21\n",
      "\n"
     ]
    }
   ],
   "source": [
    "cr = classification_report(y_test_c, y_lr_hard_pred)\n",
    "print(cr)"
   ]
  },
  {
   "cell_type": "code",
   "execution_count": 785,
   "metadata": {
    "collapsed": false
   },
   "outputs": [
    {
     "name": "stdout",
     "output_type": "stream",
     "text": [
      "             precision    recall  f1-score   support\n",
      "\n",
      "        0.0       0.50      0.67      0.57         6\n",
      "        1.0       0.85      0.73      0.79        15\n",
      "\n",
      "avg / total       0.75      0.71      0.72        21\n",
      "\n"
     ]
    }
   ],
   "source": [
    "cr = classification_report(y_test_c, y_lr_hard_pred_full)\n",
    "print(cr)"
   ]
  },
  {
   "cell_type": "code",
   "execution_count": 777,
   "metadata": {
    "collapsed": false
   },
   "outputs": [
    {
     "name": "stdout",
     "output_type": "stream",
     "text": [
      "Gradient Boosting Score = 0.71\n",
      "Random Forest Score = 0.70\n",
      "KNN Score = 0.65\n",
      "Logistic Regression Score = 0.73\n"
     ]
    }
   ],
   "source": [
    "score = cross_val_score(gb_hard_clf, X_train_c, y_train_c, cv=3).mean()\n",
    "print(\"Gradient Boosting Score = %.2f\" % score)\n",
    "score = cross_val_score(rf_hard_clf, X_train_c, y_train_c, cv=3).mean()\n",
    "print(\"Random Forest Score = %.2f\" % score)\n",
    "score = cross_val_score(knn_hard_clf, X_train_c, y_train_c, cv=3).mean()\n",
    "print(\"KNN Score = %.2f\" % score)\n",
    "score = cross_val_score(lr_hard_clf, X_train_c, y_train_c, cv=3).mean()\n",
    "print(\"Logistic Regression Score = %.2f\" % score)"
   ]
  },
  {
   "cell_type": "code",
   "execution_count": 758,
   "metadata": {
    "collapsed": false
   },
   "outputs": [],
   "source": [
    "# case_pred = svc_hard_clf.predict(X_test_c)"
   ]
  },
  {
   "cell_type": "code",
   "execution_count": 759,
   "metadata": {
    "collapsed": false
   },
   "outputs": [],
   "source": [
    "# confusion_matrix(case_pred, y_test_c)"
   ]
  },
  {
   "cell_type": "code",
   "execution_count": null,
   "metadata": {
    "collapsed": false
   },
   "outputs": [],
   "source": [
    "# score = cross_val_score(gb_hard_clf, svo[target_cols], y_case, cv=3).mean()\n",
    "# print(\"Score with the entire dataset = %.2f\" % score)"
   ]
  },
  {
   "cell_type": "code",
   "execution_count": null,
   "metadata": {
    "collapsed": false
   },
   "outputs": [],
   "source": [
    "# np.argmax(gb_hard_clf.feature_importances_)"
   ]
  },
  {
   "cell_type": "markdown",
   "metadata": {},
   "source": [
    "target_cols[16]"
   ]
  },
  {
   "cell_type": "code",
   "execution_count": 696,
   "metadata": {
    "collapsed": false
   },
   "outputs": [
    {
     "data": {
      "text/plain": [
       "<matplotlib.axes._subplots.AxesSubplot at 0x11785ef98>"
      ]
     },
     "execution_count": 696,
     "metadata": {},
     "output_type": "execute_result"
    },
    {
     "data": {
      "image/png": "[encoded data removed]",
      "text/plain": [
       "<matplotlib.figure.Figure at 0x114668b38>"
      ]
     },
     "metadata": {},
     "output_type": "display_data"
    }
   ],
   "source": [
    "# sns.set(style=\"ticks\", color_codes=True)\n",
    "# g = sns.FacetGrid(svo[svo.notnull()], col=\"case\")\n",
    "# g = g.map(plt.hist, \"svo\", bins=30)\n",
    "sns.distplot(svo[svo.case=='hard'].svo, bins=30)\n",
    "sns.distplot(svo[svo.case=='easy'].svo, bins=30)"
   ]
  },
  {
   "cell_type": "code",
   "execution_count": 344,
   "metadata": {
    "collapsed": false
   },
   "outputs": [],
   "source": [
    "# sns.lmplot(x='ev4', y='svo', data=svo, hue='case')"
   ]
  },
  {
   "cell_type": "code",
   "execution_count": 302,
   "metadata": {
    "collapsed": true
   },
   "outputs": [],
   "source": [
    "# X = cluster_df.ix[:, 1:].as_matrix()\n",
    "# X_scaled = min_max_scaler.fit_transform(X)"
   ]
  },
  {
   "cell_type": "code",
   "execution_count": 174,
   "metadata": {
    "collapsed": false
   },
   "outputs": [],
   "source": [
    "# np.in1d(y_pred, y_test)"
   ]
  },
  {
   "cell_type": "code",
   "execution_count": 564,
   "metadata": {
    "collapsed": true
   },
   "outputs": [],
   "source": [
    "rf_clf = RandomForestClassifier(n_estimators=300)\n",
    "gb_clf = GradientBoostingClassifier(n_estimators=300)\n",
    "svc_clf = SVC(C=10, kernel='linear')\n",
    "knn_clf = KNeighborsClassifier(n_neighbors=5)"
   ]
  },
  {
   "cell_type": "markdown",
   "metadata": {},
   "source": [
    "### Reviewing classification probabilities"
   ]
  }
 ],
 "metadata": {
  "anaconda-cloud": {},
  "kernelspec": {
   "display_name": "Python [conda root]",
   "language": "python",
   "name": "conda-root-py"
  },
  "language_info": {
   "codemirror_mode": {
    "name": "ipython",
    "version": 3
   },
   "file_extension": ".py",
   "mimetype": "text/x-python",
   "name": "python",
   "nbconvert_exporter": "python",
   "pygments_lexer": "ipython3",
   "version": "3.5.2"
  }
 },
 "nbformat": 4,
 "nbformat_minor": 1
}
