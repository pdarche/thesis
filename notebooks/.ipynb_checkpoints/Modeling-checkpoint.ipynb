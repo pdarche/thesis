{
 "cells": [
  {
   "cell_type": "code",
   "execution_count": 1,
   "metadata": {
    "collapsed": true
   },
   "outputs": [],
   "source": [
    "import statsmodels.api as sm\n",
    "\n",
    "import pandas as pd\n",
    "import numpy as np\n",
    "import seaborn as sns\n",
    "\n",
    "import warnings"
   ]
  },
  {
   "cell_type": "code",
   "execution_count": 2,
   "metadata": {
    "collapsed": false
   },
   "outputs": [],
   "source": [
    "warnings.filterwarnings('ignore')"
   ]
  },
  {
   "cell_type": "code",
   "execution_count": 3,
   "metadata": {
    "collapsed": false
   },
   "outputs": [
    {
     "name": "stdout",
     "output_type": "stream",
     "text": [
      "Populating the interactive namespace from numpy and matplotlib\n"
     ]
    }
   ],
   "source": [
    "%pylab inline"
   ]
  },
  {
   "cell_type": "markdown",
   "metadata": {},
   "source": [
    "### Todos\n",
    " - Feature creation \n",
    "  - [x] add polynomial features\n",
    "  - [ ] apply more transformations to the variables (log, etc.)\n",
    "  - [ ] Do some dimensionality reduction / cluster to\n",
    " - Hyperparameter tuning\n",
    "  - [ ] Grid search for all classifiers and meta classfiers\n",
    " - Model stacking / Pipelining / Ensembling\n",
    "  - [ ] Review Kaggle posts / [approaches to model stacking](http://blog.kaggle.com/2016/12/27/a-kagglers-guide-to-model-stacking-in-practice/) \n",
    "  - [ ] Review Kaggle posts / approaches to multi-model voting\n",
    " - Model Diagnostics\n",
    "  - [ ] run logistic regression (or another classifier) to get class probabilities.  Identify the data points that are getting low probabilities\n",
    "  - [ ] create a pipeline for identifying the miss-classified datapoints and investigate the features that may be causing issues\n",
    "  - [ ] See this [kaggle post](https://www.kaggle.com/ngutten/otto-group-product-classification-challenge/visualizing-mistakes/code)"
   ]
  },
  {
   "cell_type": "code",
   "execution_count": 10,
   "metadata": {
    "collapsed": false
   },
   "outputs": [],
   "source": [
    "df = pd.read_csv('../data/clean/surveys.csv')"
   ]
  },
  {
   "cell_type": "code",
   "execution_count": 108,
   "metadata": {
    "collapsed": false
   },
   "outputs": [],
   "source": [
    "svo = df.loc[\n",
    "    (df.svo.notnull()) & \n",
    "    (df.income!= 'Prefer not to answer') & \n",
    "    (df.ip != '104.200.153.94') &\n",
    "    (df.age != 1234) & \n",
    "    (df.indoor.notnull())\n",
    ", :]\n",
    "svo.loc[:, 'income'] = svo.loc[:, 'income'].astype(int)\n",
    "svo.loc[:, event_cols] = svo.loc[:, event_cols].fillna(0)\n",
    "svo.reset_index(drop=True, inplace=True)"
   ]
  },
  {
   "cell_type": "markdown",
   "metadata": {},
   "source": [
    "### Features"
   ]
  },
  {
   "cell_type": "code",
   "execution_count": 109,
   "metadata": {
    "collapsed": true
   },
   "outputs": [],
   "source": [
    "event_cols = [\n",
    "    'ev0', 'ev1', 'ev2',\n",
    "    'ev3', 'ev4', 'ev5',\n",
    "    'i0', 'i1', 'i2', 'i4'\n",
    "]"
   ]
  },
  {
   "cell_type": "code",
   "execution_count": 110,
   "metadata": {
    "collapsed": true
   },
   "outputs": [],
   "source": [
    "interest_cols = [\n",
    "    'health_fitness', 'indoor',\n",
    "    'life_style', 'nature', 'outdoor',\n",
    "    'performance_arts', 'sports', 'other'\n",
    "]"
   ]
  },
  {
   "cell_type": "code",
   "execution_count": 111,
   "metadata": {
    "collapsed": true
   },
   "outputs": [],
   "source": [
    "demo_cols = [\n",
    "    'age', 'income', \n",
    "    'education', 'politics',\n",
    "    'religiosity', 'trust_development',\n",
    "    'relationship_development',\n",
    "    'dependence_development',\n",
    "]"
   ]
  },
  {
   "cell_type": "code",
   "execution_count": 112,
   "metadata": {
    "collapsed": true
   },
   "outputs": [],
   "source": [
    "meta_cols = [\n",
    "    'durationSeconds'\n",
    "]"
   ]
  },
  {
   "cell_type": "code",
   "execution_count": 113,
   "metadata": {
    "collapsed": true
   },
   "outputs": [],
   "source": [
    "target_cols = interest_cols + demo_cols + meta_cols + event_cols"
   ]
  },
  {
   "cell_type": "code",
   "execution_count": 114,
   "metadata": {
    "collapsed": false
   },
   "outputs": [],
   "source": [
    "sdf = svo.loc[:, ['svo'] + target_cols].dropna(axis=1, how='all')\n",
    "tdf = svo.loc[:, ['type'] + target_cols].dropna(axis=1, how='all')"
   ]
  },
  {
   "cell_type": "code",
   "execution_count": 115,
   "metadata": {
    "collapsed": true
   },
   "outputs": [],
   "source": [
    "from sklearn.cross_validation import train_test_split\n",
    "from sklearn.preprocessing import minmax_scale"
   ]
  },
  {
   "cell_type": "code",
   "execution_count": 116,
   "metadata": {
    "collapsed": true
   },
   "outputs": [],
   "source": [
    "X = sdf.ix[:, 1:]"
   ]
  },
  {
   "cell_type": "code",
   "execution_count": 117,
   "metadata": {
    "collapsed": false
   },
   "outputs": [],
   "source": [
    "X_scaled = minmax_scale(X)"
   ]
  },
  {
   "cell_type": "code",
   "execution_count": 118,
   "metadata": {
    "collapsed": false
   },
   "outputs": [],
   "source": [
    "y_svo = sdf.svo.as_matrix()\n",
    "y_type = pd.factorize(tdf.type.as_matrix())[0]"
   ]
  },
  {
   "cell_type": "code",
   "execution_count": 119,
   "metadata": {
    "collapsed": false
   },
   "outputs": [],
   "source": [
    "X_train, X_test, y_train, y_test = train_test_split(X, y_type, test_size=.25)"
   ]
  },
  {
   "cell_type": "markdown",
   "metadata": {},
   "source": [
    "### Feature Engineering"
   ]
  },
  {
   "cell_type": "code",
   "execution_count": 20,
   "metadata": {
    "collapsed": false
   },
   "outputs": [],
   "source": [
    "from sklearn.preprocessing import PolynomialFeatures"
   ]
  },
  {
   "cell_type": "code",
   "execution_count": 21,
   "metadata": {
    "collapsed": false
   },
   "outputs": [],
   "source": [
    "poly = PolynomialFeatures(2)"
   ]
  },
  {
   "cell_type": "code",
   "execution_count": 22,
   "metadata": {
    "collapsed": true
   },
   "outputs": [],
   "source": [
    "EX = poly.fit_transform(X)"
   ]
  },
  {
   "cell_type": "markdown",
   "metadata": {},
   "source": [
    "### OLS"
   ]
  },
  {
   "cell_type": "code",
   "execution_count": 23,
   "metadata": {
    "collapsed": true
   },
   "outputs": [],
   "source": [
    "# Y = list(svo.svo)"
   ]
  },
  {
   "cell_type": "code",
   "execution_count": 24,
   "metadata": {
    "collapsed": false
   },
   "outputs": [],
   "source": [
    "# X = list(svo.trust_development)"
   ]
  },
  {
   "cell_type": "markdown",
   "metadata": {},
   "source": [
    "#### Scikits"
   ]
  },
  {
   "cell_type": "code",
   "execution_count": 30,
   "metadata": {
    "collapsed": true
   },
   "outputs": [],
   "source": [
    "from sklearn.cross_validation import cross_val_score\n",
    "from sklearn.metrics import r2_score"
   ]
  },
  {
   "cell_type": "code",
   "execution_count": 31,
   "metadata": {
    "collapsed": false
   },
   "outputs": [],
   "source": [
    "from sklearn.linear_model import LinearRegression"
   ]
  },
  {
   "cell_type": "code",
   "execution_count": 32,
   "metadata": {
    "collapsed": true
   },
   "outputs": [],
   "source": [
    "estimator = LinearRegression()"
   ]
  },
  {
   "cell_type": "code",
   "execution_count": 33,
   "metadata": {
    "collapsed": false
   },
   "outputs": [
    {
     "name": "stdout",
     "output_type": "stream",
     "text": [
      "Score with the entire dataset = -134.93\n"
     ]
    }
   ],
   "source": [
    "# estimator.fit(X, y_svo)\n",
    "score = cross_val_score(estimator, X, y_svo, cv=10, scoring='mean_squared_error').mean()\n",
    "print(\"Score with the entire dataset = %.2f\" % score)"
   ]
  },
  {
   "cell_type": "markdown",
   "metadata": {},
   "source": [
    "#### Statsmodels"
   ]
  },
  {
   "cell_type": "code",
   "execution_count": 153,
   "metadata": {
    "collapsed": false
   },
   "outputs": [],
   "source": [
    "model = sm.OLS(y_svo, X)"
   ]
  },
  {
   "cell_type": "code",
   "execution_count": 154,
   "metadata": {
    "collapsed": true
   },
   "outputs": [],
   "source": [
    "results = model.fit()"
   ]
  },
  {
   "cell_type": "code",
   "execution_count": 155,
   "metadata": {
    "collapsed": false
   },
   "outputs": [],
   "source": [
    "summary = results.summary()"
   ]
  },
  {
   "cell_type": "code",
   "execution_count": 156,
   "metadata": {
    "collapsed": false
   },
   "outputs": [
    {
     "data": {
      "text/html": [
       "<table class=\"simpletable\">\n",
       "<caption>OLS Regression Results</caption>\n",
       "<tr>\n",
       "  <th>Dep. Variable:</th>            <td>y</td>        <th>  R-squared:         </th> <td>   0.836</td> \n",
       "</tr>\n",
       "<tr>\n",
       "  <th>Model:</th>                   <td>OLS</td>       <th>  Adj. R-squared:    </th> <td>   0.828</td> \n",
       "</tr>\n",
       "<tr>\n",
       "  <th>Method:</th>             <td>Least Squares</td>  <th>  F-statistic:       </th> <td>   101.1</td> \n",
       "</tr>\n",
       "<tr>\n",
       "  <th>Date:</th>             <td>Sat, 01 Apr 2017</td> <th>  Prob (F-statistic):</th> <td>9.52e-191</td>\n",
       "</tr>\n",
       "<tr>\n",
       "  <th>Time:</th>                 <td>22:48:21</td>     <th>  Log-Likelihood:    </th> <td> -2180.6</td> \n",
       "</tr>\n",
       "<tr>\n",
       "  <th>No. Observations:</th>      <td>   563</td>      <th>  AIC:               </th> <td>   4415.</td> \n",
       "</tr>\n",
       "<tr>\n",
       "  <th>Df Residuals:</th>          <td>   536</td>      <th>  BIC:               </th> <td>   4532.</td> \n",
       "</tr>\n",
       "<tr>\n",
       "  <th>Df Model:</th>              <td>    27</td>      <th>                     </th>     <td> </td>    \n",
       "</tr>\n",
       "<tr>\n",
       "  <th>Covariance Type:</th>      <td>nonrobust</td>    <th>                     </th>     <td> </td>    \n",
       "</tr>\n",
       "</table>\n",
       "<table class=\"simpletable\">\n",
       "<tr>\n",
       "   <td></td>      <th>coef</th>     <th>std err</th>      <th>t</th>      <th>P>|t|</th> <th>[95.0% Conf. Int.]</th> \n",
       "</tr>\n",
       "<tr>\n",
       "  <th>x1</th>  <td>   -0.2986</td> <td>    1.124</td> <td>   -0.266</td> <td> 0.791</td> <td>   -2.507     1.910</td>\n",
       "</tr>\n",
       "<tr>\n",
       "  <th>x2</th>  <td>    3.5771</td> <td>    1.170</td> <td>    3.058</td> <td> 0.002</td> <td>    1.279     5.875</td>\n",
       "</tr>\n",
       "<tr>\n",
       "  <th>x3</th>  <td>    2.1191</td> <td>    1.131</td> <td>    1.873</td> <td> 0.062</td> <td>   -0.103     4.341</td>\n",
       "</tr>\n",
       "<tr>\n",
       "  <th>x4</th>  <td>    1.1511</td> <td>    1.156</td> <td>    0.996</td> <td> 0.320</td> <td>   -1.120     3.422</td>\n",
       "</tr>\n",
       "<tr>\n",
       "  <th>x5</th>  <td>   -1.2029</td> <td>    1.168</td> <td>   -1.029</td> <td> 0.304</td> <td>   -3.498     1.092</td>\n",
       "</tr>\n",
       "<tr>\n",
       "  <th>x6</th>  <td>    0.3322</td> <td>    1.088</td> <td>    0.305</td> <td> 0.760</td> <td>   -1.805     2.469</td>\n",
       "</tr>\n",
       "<tr>\n",
       "  <th>x7</th>  <td>    1.2547</td> <td>    1.057</td> <td>    1.187</td> <td> 0.236</td> <td>   -0.822     3.331</td>\n",
       "</tr>\n",
       "<tr>\n",
       "  <th>x8</th>  <td>    0.2574</td> <td>    2.851</td> <td>    0.090</td> <td> 0.928</td> <td>   -5.342     5.857</td>\n",
       "</tr>\n",
       "<tr>\n",
       "  <th>x9</th>  <td>    0.0013</td> <td>    0.002</td> <td>    0.853</td> <td> 0.394</td> <td>   -0.002     0.004</td>\n",
       "</tr>\n",
       "<tr>\n",
       "  <th>x10</th> <td>    0.0463</td> <td>    0.174</td> <td>    0.265</td> <td> 0.791</td> <td>   -0.296     0.389</td>\n",
       "</tr>\n",
       "<tr>\n",
       "  <th>x11</th> <td>    1.1465</td> <td>    0.395</td> <td>    2.903</td> <td> 0.004</td> <td>    0.371     1.922</td>\n",
       "</tr>\n",
       "<tr>\n",
       "  <th>x12</th> <td>   -0.5735</td> <td>    0.425</td> <td>   -1.351</td> <td> 0.177</td> <td>   -1.408     0.261</td>\n",
       "</tr>\n",
       "<tr>\n",
       "  <th>x13</th> <td>    1.0897</td> <td>    0.390</td> <td>    2.792</td> <td> 0.005</td> <td>    0.323     1.856</td>\n",
       "</tr>\n",
       "<tr>\n",
       "  <th>x14</th> <td>    1.8662</td> <td>    0.556</td> <td>    3.359</td> <td> 0.001</td> <td>    0.775     2.958</td>\n",
       "</tr>\n",
       "<tr>\n",
       "  <th>x15</th> <td>    1.6633</td> <td>    0.499</td> <td>    3.332</td> <td> 0.001</td> <td>    0.683     2.644</td>\n",
       "</tr>\n",
       "<tr>\n",
       "  <th>x16</th> <td>   -0.6330</td> <td>    0.522</td> <td>   -1.212</td> <td> 0.226</td> <td>   -1.659     0.393</td>\n",
       "</tr>\n",
       "<tr>\n",
       "  <th>x17</th> <td>    0.0526</td> <td>    0.014</td> <td>    3.842</td> <td> 0.000</td> <td>    0.026     0.080</td>\n",
       "</tr>\n",
       "<tr>\n",
       "  <th>x18</th> <td>   -0.0062</td> <td>    0.004</td> <td>   -1.630</td> <td> 0.104</td> <td>   -0.014     0.001</td>\n",
       "</tr>\n",
       "<tr>\n",
       "  <th>x19</th> <td>    0.0202</td> <td>    0.003</td> <td>    6.630</td> <td> 0.000</td> <td>    0.014     0.026</td>\n",
       "</tr>\n",
       "<tr>\n",
       "  <th>x20</th> <td>   -0.0026</td> <td>    0.005</td> <td>   -0.563</td> <td> 0.573</td> <td>   -0.012     0.006</td>\n",
       "</tr>\n",
       "<tr>\n",
       "  <th>x21</th> <td>    0.0081</td> <td>    0.005</td> <td>    1.520</td> <td> 0.129</td> <td>   -0.002     0.019</td>\n",
       "</tr>\n",
       "<tr>\n",
       "  <th>x22</th> <td>   -0.0728</td> <td>    0.008</td> <td>   -9.144</td> <td> 0.000</td> <td>   -0.088    -0.057</td>\n",
       "</tr>\n",
       "<tr>\n",
       "  <th>x23</th> <td>    0.0208</td> <td>    0.007</td> <td>    3.044</td> <td> 0.002</td> <td>    0.007     0.034</td>\n",
       "</tr>\n",
       "<tr>\n",
       "  <th>x24</th> <td>   -0.9813</td> <td>    0.800</td> <td>   -1.227</td> <td> 0.220</td> <td>   -2.552     0.590</td>\n",
       "</tr>\n",
       "<tr>\n",
       "  <th>x25</th> <td>   -0.1815</td> <td>    1.204</td> <td>   -0.151</td> <td> 0.880</td> <td>   -2.546     2.183</td>\n",
       "</tr>\n",
       "<tr>\n",
       "  <th>x26</th> <td>   -4.9489</td> <td>    2.349</td> <td>   -2.106</td> <td> 0.036</td> <td>   -9.564    -0.334</td>\n",
       "</tr>\n",
       "<tr>\n",
       "  <th>x27</th> <td>    0.9115</td> <td>    6.071</td> <td>    0.150</td> <td> 0.881</td> <td>  -11.014    12.837</td>\n",
       "</tr>\n",
       "</table>\n",
       "<table class=\"simpletable\">\n",
       "<tr>\n",
       "  <th>Omnibus:</th>       <td>11.793</td> <th>  Durbin-Watson:     </th> <td>   2.053</td>\n",
       "</tr>\n",
       "<tr>\n",
       "  <th>Prob(Omnibus):</th> <td> 0.003</td> <th>  Jarque-Bera (JB):  </th> <td>  13.915</td>\n",
       "</tr>\n",
       "<tr>\n",
       "  <th>Skew:</th>          <td>-0.254</td> <th>  Prob(JB):          </th> <td>0.000951</td>\n",
       "</tr>\n",
       "<tr>\n",
       "  <th>Kurtosis:</th>      <td> 3.579</td> <th>  Cond. No.          </th> <td>4.99e+03</td>\n",
       "</tr>\n",
       "</table>"
      ],
      "text/plain": [
       "<class 'statsmodels.iolib.summary.Summary'>\n",
       "\"\"\"\n",
       "                            OLS Regression Results                            \n",
       "==============================================================================\n",
       "Dep. Variable:                      y   R-squared:                       0.836\n",
       "Model:                            OLS   Adj. R-squared:                  0.828\n",
       "Method:                 Least Squares   F-statistic:                     101.1\n",
       "Date:                Sat, 01 Apr 2017   Prob (F-statistic):          9.52e-191\n",
       "Time:                        22:48:21   Log-Likelihood:                -2180.6\n",
       "No. Observations:                 563   AIC:                             4415.\n",
       "Df Residuals:                     536   BIC:                             4532.\n",
       "Df Model:                          27                                         \n",
       "Covariance Type:            nonrobust                                         \n",
       "==============================================================================\n",
       "                 coef    std err          t      P>|t|      [95.0% Conf. Int.]\n",
       "------------------------------------------------------------------------------\n",
       "x1            -0.2986      1.124     -0.266      0.791        -2.507     1.910\n",
       "x2             3.5771      1.170      3.058      0.002         1.279     5.875\n",
       "x3             2.1191      1.131      1.873      0.062        -0.103     4.341\n",
       "x4             1.1511      1.156      0.996      0.320        -1.120     3.422\n",
       "x5            -1.2029      1.168     -1.029      0.304        -3.498     1.092\n",
       "x6             0.3322      1.088      0.305      0.760        -1.805     2.469\n",
       "x7             1.2547      1.057      1.187      0.236        -0.822     3.331\n",
       "x8             0.2574      2.851      0.090      0.928        -5.342     5.857\n",
       "x9             0.0013      0.002      0.853      0.394        -0.002     0.004\n",
       "x10            0.0463      0.174      0.265      0.791        -0.296     0.389\n",
       "x11            1.1465      0.395      2.903      0.004         0.371     1.922\n",
       "x12           -0.5735      0.425     -1.351      0.177        -1.408     0.261\n",
       "x13            1.0897      0.390      2.792      0.005         0.323     1.856\n",
       "x14            1.8662      0.556      3.359      0.001         0.775     2.958\n",
       "x15            1.6633      0.499      3.332      0.001         0.683     2.644\n",
       "x16           -0.6330      0.522     -1.212      0.226        -1.659     0.393\n",
       "x17            0.0526      0.014      3.842      0.000         0.026     0.080\n",
       "x18           -0.0062      0.004     -1.630      0.104        -0.014     0.001\n",
       "x19            0.0202      0.003      6.630      0.000         0.014     0.026\n",
       "x20           -0.0026      0.005     -0.563      0.573        -0.012     0.006\n",
       "x21            0.0081      0.005      1.520      0.129        -0.002     0.019\n",
       "x22           -0.0728      0.008     -9.144      0.000        -0.088    -0.057\n",
       "x23            0.0208      0.007      3.044      0.002         0.007     0.034\n",
       "x24           -0.9813      0.800     -1.227      0.220        -2.552     0.590\n",
       "x25           -0.1815      1.204     -0.151      0.880        -2.546     2.183\n",
       "x26           -4.9489      2.349     -2.106      0.036        -9.564    -0.334\n",
       "x27            0.9115      6.071      0.150      0.881       -11.014    12.837\n",
       "==============================================================================\n",
       "Omnibus:                       11.793   Durbin-Watson:                   2.053\n",
       "Prob(Omnibus):                  0.003   Jarque-Bera (JB):               13.915\n",
       "Skew:                          -0.254   Prob(JB):                     0.000951\n",
       "Kurtosis:                       3.579   Cond. No.                     4.99e+03\n",
       "==============================================================================\n",
       "\n",
       "Warnings:\n",
       "[1] Standard Errors assume that the covariance matrix of the errors is correctly specified.\n",
       "[2] The condition number is large, 4.99e+03. This might indicate that there are\n",
       "strong multicollinearity or other numerical problems.\n",
       "\"\"\""
      ]
     },
     "execution_count": 156,
     "metadata": {},
     "output_type": "execute_result"
    }
   ],
   "source": [
    "summary"
   ]
  },
  {
   "cell_type": "markdown",
   "metadata": {},
   "source": [
    "### Random Forest Regressor"
   ]
  },
  {
   "cell_type": "code",
   "execution_count": 89,
   "metadata": {
    "collapsed": false
   },
   "outputs": [],
   "source": [
    "from sklearn.ensemble import RandomForestRegressor"
   ]
  },
  {
   "cell_type": "code",
   "execution_count": 90,
   "metadata": {
    "collapsed": false
   },
   "outputs": [],
   "source": [
    "estimator = RandomForestRegressor(random_state=0, n_estimators=100)"
   ]
  },
  {
   "cell_type": "code",
   "execution_count": 91,
   "metadata": {
    "collapsed": false
   },
   "outputs": [
    {
     "name": "stdout",
     "output_type": "stream",
     "text": [
      "Score with the entire dataset = -99.37\n"
     ]
    }
   ],
   "source": [
    "score = cross_val_score(estimator, X, y_svo, cv=10, scoring='mean_squared_error').mean()\n",
    "print(\"Score with the entire dataset = %.2f\" % score)"
   ]
  },
  {
   "cell_type": "code",
   "execution_count": 92,
   "metadata": {
    "collapsed": false
   },
   "outputs": [
    {
     "data": {
      "text/plain": [
       "RandomForestRegressor(bootstrap=True, criterion='mse', max_depth=None,\n",
       "           max_features='auto', max_leaf_nodes=None, min_samples_leaf=1,\n",
       "           min_samples_split=2, min_weight_fraction_leaf=0.0,\n",
       "           n_estimators=100, n_jobs=1, oob_score=False, random_state=0,\n",
       "           verbose=0, warm_start=False)"
      ]
     },
     "execution_count": 92,
     "metadata": {},
     "output_type": "execute_result"
    }
   ],
   "source": [
    "estimator.fit(X, y_svo)"
   ]
  },
  {
   "cell_type": "code",
   "execution_count": 93,
   "metadata": {
    "collapsed": false
   },
   "outputs": [],
   "source": [
    "y_pred = estimator.predict(X)"
   ]
  },
  {
   "cell_type": "code",
   "execution_count": 94,
   "metadata": {
    "collapsed": false
   },
   "outputs": [
    {
     "data": {
      "text/plain": [
       "0.92640296913037368"
      ]
     },
     "execution_count": 94,
     "metadata": {},
     "output_type": "execute_result"
    }
   ],
   "source": [
    "r2_score(y_svo, y_pred)"
   ]
  },
  {
   "cell_type": "markdown",
   "metadata": {},
   "source": [
    "### Ensemble Classifiers"
   ]
  },
  {
   "cell_type": "code",
   "execution_count": 175,
   "metadata": {
    "collapsed": false
   },
   "outputs": [],
   "source": [
    "from sklearn.ensemble import RandomForestClassifier, GradientBoostingClassifier, AdaBoostClassifier\n",
    "from sklearn.tree import DecisionTreeClassifier"
   ]
  },
  {
   "cell_type": "code",
   "execution_count": 332,
   "metadata": {
    "collapsed": true
   },
   "outputs": [],
   "source": [
    "rf_clf = RandomForestClassifier(n_estimators=300)\n",
    "gb_clf = GradientBoostingClassifier(n_estimators=300)\n",
    "# ab_clf = AdaBoostClassifier()"
   ]
  },
  {
   "cell_type": "code",
   "execution_count": 25,
   "metadata": {
    "collapsed": false
   },
   "outputs": [
    {
     "name": "stdout",
     "output_type": "stream",
     "text": [
      "Score with the entire dataset = 0.79\n"
     ]
    }
   ],
   "source": [
    "score = cross_val_score(gb_clf, X, y_type, cv=10).mean()\n",
    "print(\"Score with the entire dataset = %.2f\" % score)"
   ]
  },
  {
   "cell_type": "code",
   "execution_count": 379,
   "metadata": {
    "collapsed": false
   },
   "outputs": [
    {
     "data": {
      "text/plain": [
       "GradientBoostingClassifier(init=None, learning_rate=0.1, loss='deviance',\n",
       "              max_depth=3, max_features=None, max_leaf_nodes=None,\n",
       "              min_samples_leaf=1, min_samples_split=2,\n",
       "              min_weight_fraction_leaf=0.0, n_estimators=300,\n",
       "              presort='auto', random_state=None, subsample=1.0, verbose=0,\n",
       "              warm_start=False)"
      ]
     },
     "execution_count": 379,
     "metadata": {},
     "output_type": "execute_result"
    }
   ],
   "source": [
    "rf_clf.fit(X_train, y_train)\n",
    "gb_clf.fit(X_train, y_train)"
   ]
  },
  {
   "cell_type": "code",
   "execution_count": 163,
   "metadata": {
    "collapsed": false
   },
   "outputs": [],
   "source": [
    "y_pred = estimator.predict(X_test)"
   ]
  },
  {
   "cell_type": "code",
   "execution_count": 173,
   "metadata": {
    "collapsed": false
   },
   "outputs": [],
   "source": [
    "imp = pd.Series(estimator.feature_importances_)"
   ]
  },
  {
   "cell_type": "code",
   "execution_count": 175,
   "metadata": {
    "collapsed": false
   },
   "outputs": [],
   "source": [
    "# feats = pd.DataFrame({'col':target_cols, 'imps': imp})"
   ]
  },
  {
   "cell_type": "code",
   "execution_count": 52,
   "metadata": {
    "collapsed": false
   },
   "outputs": [
    {
     "data": {
      "text/plain": [
       "<matplotlib.axes._subplots.AxesSubplot at 0x10fedec18>"
      ]
     },
     "execution_count": 52,
     "metadata": {},
     "output_type": "execute_result"
    },
    {
     "data": {
      "image/png": "[encoded data removed]",
      "text/plain": [
       "<matplotlib.figure.Figure at 0x10fede390>"
      ]
     },
     "metadata": {},
     "output_type": "display_data"
    }
   ],
   "source": [
    "feats.sort_values('imps', ascending=False).plot(\n",
    "    kind='bar', x=feats.sort_values('imps', ascending=False).col)"
   ]
  },
  {
   "cell_type": "markdown",
   "metadata": {},
   "source": [
    "### Support Vector Machine"
   ]
  },
  {
   "cell_type": "code",
   "execution_count": 44,
   "metadata": {
    "collapsed": false
   },
   "outputs": [],
   "source": [
    "from sklearn.svm import SVC\n",
    "from sklearn.grid_search import GridSearchCV"
   ]
  },
  {
   "cell_type": "code",
   "execution_count": 336,
   "metadata": {
    "collapsed": false
   },
   "outputs": [],
   "source": [
    "svc_clf = SVC(C=10, kernel='linear', probability=True)"
   ]
  },
  {
   "cell_type": "code",
   "execution_count": 62,
   "metadata": {
    "collapsed": true
   },
   "outputs": [],
   "source": [
    "param_grid = [\n",
    "  {'C': [1, 10, 100, 1000], 'kernel': ['linear']},\n",
    "  {'C': [1, 10, 100, 1000], 'gamma': [0.001, 0.0001], 'kernel': ['rbf']},\n",
    " ]"
   ]
  },
  {
   "cell_type": "code",
   "execution_count": 63,
   "metadata": {
    "collapsed": false
   },
   "outputs": [],
   "source": [
    "clf = GridSearchCV(estimator, param_grid)"
   ]
  },
  {
   "cell_type": "code",
   "execution_count": 337,
   "metadata": {
    "collapsed": false
   },
   "outputs": [
    {
     "data": {
      "text/plain": [
       "SVC(C=10, cache_size=200, class_weight=None, coef0=0.0,\n",
       "  decision_function_shape=None, degree=3, gamma='auto', kernel='linear',\n",
       "  max_iter=-1, probability=True, random_state=None, shrinking=True,\n",
       "  tol=0.001, verbose=False)"
      ]
     },
     "execution_count": 337,
     "metadata": {},
     "output_type": "execute_result"
    }
   ],
   "source": [
    "svc_clf.fit(X_train, y_train)"
   ]
  },
  {
   "cell_type": "code",
   "execution_count": 87,
   "metadata": {
    "collapsed": false
   },
   "outputs": [],
   "source": [
    "y_pred2 = estimator2.predict(X_test)"
   ]
  },
  {
   "cell_type": "code",
   "execution_count": 132,
   "metadata": {
    "collapsed": false
   },
   "outputs": [],
   "source": [
    "# clf.best_params_"
   ]
  },
  {
   "cell_type": "code",
   "execution_count": 178,
   "metadata": {
    "collapsed": false
   },
   "outputs": [],
   "source": [
    "# clf.best_estimator_"
   ]
  },
  {
   "cell_type": "code",
   "execution_count": 179,
   "metadata": {
    "collapsed": false
   },
   "outputs": [],
   "source": [
    "# clf.best_score_"
   ]
  },
  {
   "cell_type": "code",
   "execution_count": 177,
   "metadata": {
    "collapsed": false
   },
   "outputs": [],
   "source": [
    "# score = cross_val_score(clf.best_estimator_, X, y_type, cv=10).mean()\n",
    "# print(\"Score with the entire dataset = %.2f\" % score)"
   ]
  },
  {
   "cell_type": "markdown",
   "metadata": {},
   "source": [
    "### KNN"
   ]
  },
  {
   "cell_type": "code",
   "execution_count": 36,
   "metadata": {
    "collapsed": true
   },
   "outputs": [],
   "source": [
    "from sklearn.neighbors import KNeighborsClassifier"
   ]
  },
  {
   "cell_type": "code",
   "execution_count": 37,
   "metadata": {
    "collapsed": true
   },
   "outputs": [],
   "source": [
    "knn_clf = KNeighborsClassifier(n_neighbors=5)"
   ]
  },
  {
   "cell_type": "code",
   "execution_count": 67,
   "metadata": {
    "collapsed": false
   },
   "outputs": [
    {
     "data": {
      "text/plain": [
       "KNeighborsClassifier(algorithm='auto', leaf_size=30, metric='minkowski',\n",
       "           metric_params=None, n_jobs=1, n_neighbors=5, p=2,\n",
       "           weights='uniform')"
      ]
     },
     "execution_count": 67,
     "metadata": {},
     "output_type": "execute_result"
    }
   ],
   "source": [
    "knn_clf.fit(X_train, y_train)"
   ]
  },
  {
   "cell_type": "code",
   "execution_count": 34,
   "metadata": {
    "collapsed": false
   },
   "outputs": [
    {
     "name": "stdout",
     "output_type": "stream",
     "text": [
      "Score with the entire dataset = 0.78\n"
     ]
    }
   ],
   "source": [
    "score = cross_val_score(knn_clf, X, y_type, cv=10).mean()\n",
    "print(\"Score with the entire dataset = %.2f\" % score)"
   ]
  },
  {
   "cell_type": "markdown",
   "metadata": {},
   "source": [
    "### Voting Classifier"
   ]
  },
  {
   "cell_type": "code",
   "execution_count": 38,
   "metadata": {
    "collapsed": true
   },
   "outputs": [],
   "source": [
    "from sklearn.ensemble import VotingClassifier"
   ]
  },
  {
   "cell_type": "code",
   "execution_count": 57,
   "metadata": {
    "collapsed": false
   },
   "outputs": [],
   "source": [
    "vote_clf = VotingClassifier(\n",
    "    estimators=[\n",
    "        ('rf', rf_clf), ('gb', gb_clf), ('knn', knn_clf)\n",
    "    ], voting='soft', weights=[1, 2, 2])"
   ]
  },
  {
   "cell_type": "code",
   "execution_count": 58,
   "metadata": {
    "collapsed": false
   },
   "outputs": [
    {
     "name": "stdout",
     "output_type": "stream",
     "text": [
      "Score with the entire dataset = 0.79\n"
     ]
    }
   ],
   "source": [
    "score = cross_val_score(vote_clf, X, y_type, cv=3).mean()\n",
    "print(\"Score with the entire dataset = %.2f\" % score)"
   ]
  },
  {
   "cell_type": "markdown",
   "metadata": {},
   "source": [
    "### Diagnostics and Model Checking"
   ]
  },
  {
   "cell_type": "code",
   "execution_count": 59,
   "metadata": {
    "collapsed": true
   },
   "outputs": [],
   "source": [
    "## See how the model performs with more data"
   ]
  },
  {
   "cell_type": "code",
   "execution_count": 60,
   "metadata": {
    "collapsed": true
   },
   "outputs": [],
   "source": [
    "from sklearn.metrics import confusion_matrix\n",
    "from sklearn.metrics import classification_report"
   ]
  },
  {
   "cell_type": "code",
   "execution_count": 61,
   "metadata": {
    "collapsed": false
   },
   "outputs": [],
   "source": [
    "# classification_report(y_test, y_pred, target_names=f[1])"
   ]
  },
  {
   "cell_type": "code",
   "execution_count": 62,
   "metadata": {
    "collapsed": false
   },
   "outputs": [
    {
     "ename": "NameError",
     "evalue": "name 'y_pred' is not defined",
     "output_type": "error",
     "traceback": [
      "\u001b[0;31m---------------------------------------------------------------------------\u001b[0m",
      "\u001b[0;31mNameError\u001b[0m                                 Traceback (most recent call last)",
      "\u001b[0;32m<ipython-input-62-7a3dbcfd18a0>\u001b[0m in \u001b[0;36m<module>\u001b[0;34m()\u001b[0m\n\u001b[0;32m----> 1\u001b[0;31m \u001b[0mconfusion_matrix\u001b[0m\u001b[0;34m(\u001b[0m\u001b[0my_test\u001b[0m\u001b[0;34m,\u001b[0m \u001b[0my_pred\u001b[0m\u001b[0;34m)\u001b[0m\u001b[0;34m\u001b[0m\u001b[0m\n\u001b[0m",
      "\u001b[0;31mNameError\u001b[0m: name 'y_pred' is not defined"
     ]
    }
   ],
   "source": [
    "confusion_matrix(y_test, y_pred)"
   ]
  },
  {
   "cell_type": "code",
   "execution_count": 122,
   "metadata": {
    "collapsed": false
   },
   "outputs": [],
   "source": [
    "adf = pd.DataFrame({'train': y_test, 'test': y_pred})"
   ]
  },
  {
   "cell_type": "code",
   "execution_count": 125,
   "metadata": {
    "collapsed": false
   },
   "outputs": [],
   "source": [
    "adf['loss'] = adf.apply(lambda r: 1 if r['test'] == r['train'] else 0, axis=1)"
   ]
  },
  {
   "cell_type": "code",
   "execution_count": 138,
   "metadata": {
    "collapsed": true
   },
   "outputs": [],
   "source": [
    "f = pd.factorize(tdf.type.as_matrix())"
   ]
  },
  {
   "cell_type": "code",
   "execution_count": 150,
   "metadata": {
    "collapsed": false
   },
   "outputs": [],
   "source": [
    "# adf.replace({\n",
    "#     0: 'individualistic',\n",
    "#     1: 'prosocial',\n",
    "#     2: 'altruistic',\n",
    "#     3: 'competitive'\n",
    "# })"
   ]
  },
  {
   "cell_type": "markdown",
   "metadata": {},
   "source": [
    "### Learning Curve"
   ]
  },
  {
   "cell_type": "code",
   "execution_count": 377,
   "metadata": {
    "collapsed": false
   },
   "outputs": [],
   "source": [
    "scores = []\n",
    "sizes = range(50, 550, 10)\n",
    "for size in sizes:\n",
    "    sample = svo.sample(size)\n",
    "    df = sample.loc[:, ['type'] + target_cols].dropna(axis=1, how='all')\n",
    "    y = pd.factorize(df.type.as_matrix())[0]\n",
    "    X = df.ix[:, 1:].as_matrix()\n",
    "    score = cross_val_score(gb_clf, X, y, cv=3).mean()\n",
    "    scores.append(score)"
   ]
  },
  {
   "cell_type": "code",
   "execution_count": 378,
   "metadata": {
    "collapsed": false
   },
   "outputs": [
    {
     "data": {
      "text/plain": [
       "[<matplotlib.lines.Line2D at 0x115129c88>]"
      ]
     },
     "execution_count": 378,
     "metadata": {},
     "output_type": "execute_result"
    },
    {
     "data": {
      "image/png": "[encoded data removed]",
      "text/plain": [
       "<matplotlib.figure.Figure at 0x11cd78860>"
      ]
     },
     "metadata": {},
     "output_type": "display_data"
    }
   ],
   "source": [
    "plt.plot(sizes, scores)"
   ]
  },
  {
   "cell_type": "markdown",
   "metadata": {},
   "source": [
    "### ROC curve"
   ]
  },
  {
   "cell_type": "code",
   "execution_count": 71,
   "metadata": {
    "collapsed": true
   },
   "outputs": [],
   "source": [
    "from sklearn.metrics import roc_curve, auc"
   ]
  },
  {
   "cell_type": "code",
   "execution_count": 365,
   "metadata": {
    "collapsed": true
   },
   "outputs": [],
   "source": [
    "X_train, X_test, y_train, y_test = train_test_split(X, y_type, test_size=.25)"
   ]
  },
  {
   "cell_type": "code",
   "execution_count": 370,
   "metadata": {
    "collapsed": false
   },
   "outputs": [],
   "source": [
    "probs = gb_clf.predict_proba(X_test)\n",
    "preds = probs[:,1]"
   ]
  },
  {
   "cell_type": "code",
   "execution_count": 371,
   "metadata": {
    "collapsed": false
   },
   "outputs": [],
   "source": [
    "probs2 = svc_clf.predict_proba(X_test)\n",
    "preds2 = probs2[:,1]"
   ]
  },
  {
   "cell_type": "code",
   "execution_count": 372,
   "metadata": {
    "collapsed": true
   },
   "outputs": [],
   "source": [
    "probs3 = knn_clf.predict_proba(X_test)\n",
    "preds3 = probs3[:,1]"
   ]
  },
  {
   "cell_type": "code",
   "execution_count": 382,
   "metadata": {
    "collapsed": true
   },
   "outputs": [],
   "source": [
    "probs4 = rf_clf.predict_proba(X_test)\n",
    "preds4 = probs4[:,1]"
   ]
  },
  {
   "cell_type": "code",
   "execution_count": 385,
   "metadata": {
    "collapsed": false
   },
   "outputs": [
    {
     "data": {
      "image/png": "[encoded data removed]",
      "text/plain": [
       "<matplotlib.figure.Figure at 0x11617e080>"
      ]
     },
     "metadata": {},
     "output_type": "display_data"
    }
   ],
   "source": [
    "fpr, tpr, threshold = roc_curve(y_test, preds)\n",
    "roc_auc = auc(fpr, tpr)\n",
    "\n",
    "fpr2, tpr2, threshold = roc_curve(y_test, preds2)\n",
    "roc_auc2 = auc(fpr2, tpr2)\n",
    "\n",
    "fpr3, tpr3, threshold = roc_curve(y_test, preds3)\n",
    "roc_auc3 = auc(fpr3, tpr3)\n",
    "\n",
    "fpr4, tpr4, threshold = roc_curve(y_test, preds4)\n",
    "roc_auc4 = auc(fpr4, tpr4)\n",
    "\n",
    "plt.title('Receiver Operating Characteristic')\n",
    "plt.plot(fpr, tpr, 'b', label = 'GB AUC = %0.2f' % roc_auc)\n",
    "plt.plot(fpr2, tpr2, 'g', label = 'SVC AUC = %0.2f' % roc_auc2)\n",
    "plt.plot(fpr3, tpr3, 'y', label = 'KNN AUC = %0.2f' % roc_auc3)\n",
    "plt.plot(fpr4, tpr4, 'orange', label = 'RF AUC = %0.2f' % roc_auc4)\n",
    "plt.legend(loc = 'lower right')\n",
    "plt.plot([0, 1], [0, 1],'r--')\n",
    "plt.xlim([0, 1])\n",
    "plt.ylim([0, 1])\n",
    "plt.ylabel('True Positive Rate')\n",
    "plt.xlabel('False Positive Rate')\n",
    "plt.show()"
   ]
  },
  {
   "cell_type": "code",
   "execution_count": 186,
   "metadata": {
    "collapsed": false
   },
   "outputs": [],
   "source": [
    "probs = pd.Series(preds).apply(np.max)"
   ]
  },
  {
   "cell_type": "code",
   "execution_count": 188,
   "metadata": {
    "collapsed": false
   },
   "outputs": [],
   "source": [
    "adf['prob'] = probs"
   ]
  },
  {
   "cell_type": "code",
   "execution_count": 196,
   "metadata": {
    "collapsed": false
   },
   "outputs": [],
   "source": [
    "# adf[adf.loss==0]"
   ]
  },
  {
   "cell_type": "markdown",
   "metadata": {
    "collapsed": true
   },
   "source": [
    "### Identifying misclassified points"
   ]
  },
  {
   "cell_type": "code",
   "execution_count": 73,
   "metadata": {
    "collapsed": false
   },
   "outputs": [],
   "source": [
    "# Classifiers\n",
    "rf_clf = RandomForestClassifier(n_estimators=300)\n",
    "gb_clf = GradientBoostingClassifier(n_estimators=300)\n",
    "svc_clf = SVC(C=10, kernel='linear')\n",
    "knn_clf = KNeighborsClassifier(n_neighbors=5)"
   ]
  },
  {
   "cell_type": "code",
   "execution_count": 205,
   "metadata": {
    "collapsed": false
   },
   "outputs": [],
   "source": [
    "clf = knn_clf"
   ]
  },
  {
   "cell_type": "code",
   "execution_count": 206,
   "metadata": {
    "collapsed": false
   },
   "outputs": [],
   "source": [
    "min_count = 0\n",
    "runs = []\n",
    "rdf = None\n",
    "## train a classifier on anew training and testing set\n",
    "while min_count <= 10:\n",
    "    # Create placeholder vector\n",
    "    run = np.full((1,X.shape[0],), np.nan)\n",
    "    X_train, X_test, y_train, y_test = train_test_split(X, y_type, test_size=.25)\n",
    "    # tet on the entire data set\n",
    "    clf.fit(X_train, y_train)\n",
    "    ## make predictions with the classifier\n",
    "    y_pred = clf.predict(X_test)\n",
    "    ## check if they're correct or incorrect\n",
    "    misclassified = ~np.equal(y_pred, y_test)\n",
    "#     print(pd.Series(misclassified).value_counts())\n",
    "    # for each data point in the test set, if it's misclassified set the it's it's datapoint \n",
    "    # misclassified\n",
    "    for dix, vix in enumerate(X_test.index):\n",
    "        run[0][vix] = 1 if misclassified[dix] else 0\n",
    "    runs.append(run[0])\n",
    "    rdf = pd.DataFrame(runs)\n",
    "    min_count = np.min(rdf.count())"
   ]
  },
  {
   "cell_type": "code",
   "execution_count": 457,
   "metadata": {
    "collapsed": false
   },
   "outputs": [],
   "source": [
    "hard_cases = rdf.mean()[rdf.mean() > .85].index\n",
    "easy_cases = rdf.mean()[rdf.mean() == 0].index"
   ]
  },
  {
   "cell_type": "code",
   "execution_count": 458,
   "metadata": {
    "collapsed": true
   },
   "outputs": [],
   "source": [
    "svo.loc[hard_cases, 'case'] = 'hard'\n",
    "svo.loc[easy_cases, 'case'] = 'easy'"
   ]
  },
  {
   "cell_type": "code",
   "execution_count": 238,
   "metadata": {
    "collapsed": false
   },
   "outputs": [
    {
     "data": {
      "text/plain": [
       "<matplotlib.axes._subplots.AxesSubplot at 0x112557278>"
      ]
     },
     "execution_count": 238,
     "metadata": {},
     "output_type": "execute_result"
    },
    {
     "data": {
      "image/png": "[encoded data removed]",
      "text/plain": [
       "<matplotlib.figure.Figure at 0x112514940>"
      ]
     },
     "metadata": {},
     "output_type": "display_data"
    }
   ],
   "source": [
    "# Distribution of incorrect classifications\n",
    "rdf.mean().hist(bins=30)\n",
    "plt.title(\"Histogram of Data Point Misclassification Percentages\")"
   ]
  },
  {
   "cell_type": "code",
   "execution_count": 249,
   "metadata": {
    "collapsed": false
   },
   "outputs": [
    {
     "data": {
      "image/png": "[encoded data removed]",
      "text/plain": [
       "<matplotlib.figure.Figure at 0x112699eb8>"
      ]
     },
     "metadata": {},
     "output_type": "display_data"
    }
   ],
   "source": [
    "hard = svo.ix[hard_cases].svo.hist(bins=30)"
   ]
  },
  {
   "cell_type": "code",
   "execution_count": 274,
   "metadata": {
    "collapsed": true
   },
   "outputs": [],
   "source": [
    "from sklearn.manifold import MDS\n",
    "from sklearn.decomposition import PCA\n",
    "from sklearn.manifold import TSNE\n",
    "from sklearn import preprocessing\n",
    "min_max_scaler = preprocessing.MinMaxScaler()"
   ]
  },
  {
   "cell_type": "code",
   "execution_count": 303,
   "metadata": {
    "collapsed": true
   },
   "outputs": [],
   "source": [
    "cdf = svo.loc[:, ['case'] + target_cols]"
   ]
  },
  {
   "cell_type": "code",
   "execution_count": 304,
   "metadata": {
    "collapsed": false
   },
   "outputs": [],
   "source": [
    "X_clust = cdf.ix[cdf.case.notnull(), 1:]"
   ]
  },
  {
   "cell_type": "code",
   "execution_count": 305,
   "metadata": {
    "collapsed": false
   },
   "outputs": [],
   "source": [
    "X_clust_scaled = min_max_scaler.fit_transform(X_clust)"
   ]
  },
  {
   "cell_type": "code",
   "execution_count": 306,
   "metadata": {
    "collapsed": true
   },
   "outputs": [],
   "source": [
    "mds = MDS(2, max_iter=100, n_init=1)\n",
    "tsne = TSNE(n_components=2, perplexity=50)\n",
    "pca = PCA(n_components=2)"
   ]
  },
  {
   "cell_type": "code",
   "execution_count": 307,
   "metadata": {
    "collapsed": false
   },
   "outputs": [],
   "source": [
    "clust = tsne\n",
    "X_mds = clust.fit_transform(X_clust_scaled)"
   ]
  },
  {
   "cell_type": "code",
   "execution_count": 308,
   "metadata": {
    "collapsed": false
   },
   "outputs": [],
   "source": [
    "mdf = pd.DataFrame({\n",
    "    'x': X_mds.transpose()[0], \n",
    "    'y': X_mds.transpose()[1], \n",
    "    'case': cdf[cdf.case.notnull()].case\n",
    "})"
   ]
  },
  {
   "cell_type": "code",
   "execution_count": 309,
   "metadata": {
    "collapsed": false
   },
   "outputs": [
    {
     "data": {
      "text/plain": [
       "<seaborn.axisgrid.FacetGrid at 0x11729fc88>"
      ]
     },
     "execution_count": 309,
     "metadata": {},
     "output_type": "execute_result"
    },
    {
     "data": {
      "text/plain": [
       "<matplotlib.figure.Figure at 0x115826278>"
      ]
     },
     "metadata": {},
     "output_type": "display_data"
    },
    {
     "data": {
      "image/png": "[encoded data removed]",
      "text/plain": [
       "<matplotlib.figure.Figure at 0x11729f198>"
      ]
     },
     "metadata": {},
     "output_type": "display_data"
    }
   ],
   "source": [
    "plt.figure(figsize=(12, 12))\n",
    "sns.lmplot(x='x', y='y', hue='case',\n",
    "           fit_reg=False, data=mdf, scatter_kws={'alpha':0.8})"
   ]
  },
  {
   "cell_type": "code",
   "execution_count": 323,
   "metadata": {
    "collapsed": false
   },
   "outputs": [
    {
     "data": {
      "text/plain": [
       "<seaborn.axisgrid.FacetGrid at 0x1185a30b8>"
      ]
     },
     "execution_count": 323,
     "metadata": {},
     "output_type": "execute_result"
    },
    {
     "data": {
      "image/png": "[encoded data removed]",
      "text/plain": [
       "<matplotlib.figure.Figure at 0x1185a3390>"
      ]
     },
     "metadata": {},
     "output_type": "display_data"
    }
   ],
   "source": [
    "sns.lmplot(x='religiosity', y='svo', data=svo[svo.age < 100], hue='case')"
   ]
  },
  {
   "cell_type": "code",
   "execution_count": 321,
   "metadata": {
    "collapsed": false
   },
   "outputs": [
    {
     "data": {
      "text/plain": [
       "<seaborn.axisgrid.FacetGrid at 0x11816a3c8>"
      ]
     },
     "execution_count": 321,
     "metadata": {},
     "output_type": "execute_result"
    },
    {
     "data": {
      "image/png": "[encoded data removed]",
      "text/plain": [
       "<matplotlib.figure.Figure at 0x11816a1d0>"
      ]
     },
     "metadata": {},
     "output_type": "display_data"
    }
   ],
   "source": [
    "sns.lmplot(x='income', y='svo', data=svo[svo.age < 100], hue='case')"
   ]
  },
  {
   "cell_type": "code",
   "execution_count": 330,
   "metadata": {
    "collapsed": false
   },
   "outputs": [
    {
     "data": {
      "text/plain": [
       "<matplotlib.axes._subplots.AxesSubplot at 0x11924ddd8>"
      ]
     },
     "execution_count": 330,
     "metadata": {},
     "output_type": "execute_result"
    },
    {
     "data": {
      "image/png": "[encoded data removed]",
      "text/plain": [
       "<matplotlib.figure.Figure at 0x11924d240>"
      ]
     },
     "metadata": {},
     "output_type": "display_data"
    }
   ],
   "source": [
    "sns.boxplot(x='politics', y='svo', data=svo[svo.age < 100], hue='case')"
   ]
  },
  {
   "cell_type": "code",
   "execution_count": 450,
   "metadata": {
    "collapsed": false
   },
   "outputs": [],
   "source": [
    "gb_hard_clf = GradientBoostingClassifier(n_estimators=300)\n",
    "svc_hard_clf = svc_clf = SVC(C=1, kernel='linear', probability=False)"
   ]
  },
  {
   "cell_type": "code",
   "execution_count": 451,
   "metadata": {
    "collapsed": true
   },
   "outputs": [],
   "source": [
    "y_case = pd.factorize(svo.case)[0]"
   ]
  },
  {
   "cell_type": "code",
   "execution_count": 452,
   "metadata": {
    "collapsed": false
   },
   "outputs": [],
   "source": [
    "X_train_c, X_test_c, y_train_c, y_test_c = train_test_split(svo[target_cols], y_case, test_size=.25)"
   ]
  },
  {
   "cell_type": "code",
   "execution_count": 453,
   "metadata": {
    "collapsed": false
   },
   "outputs": [
    {
     "data": {
      "text/plain": [
       "SVC(C=1, cache_size=200, class_weight=None, coef0=0.0,\n",
       "  decision_function_shape=None, degree=3, gamma='auto', kernel='linear',\n",
       "  max_iter=-1, probability=False, random_state=None, shrinking=True,\n",
       "  tol=0.001, verbose=False)"
      ]
     },
     "execution_count": 453,
     "metadata": {},
     "output_type": "execute_result"
    }
   ],
   "source": [
    "svc_hard_clf.fit(X_train_c, y_train_c)"
   ]
  },
  {
   "cell_type": "code",
   "execution_count": 454,
   "metadata": {
    "collapsed": false
   },
   "outputs": [],
   "source": [
    "# score = cross_val_score(gb_hard_clf, , y_type, cv=3).mean()\n",
    "# print(\"Score with the entire dataset = %.2f\" % score)"
   ]
  },
  {
   "cell_type": "code",
   "execution_count": 455,
   "metadata": {
    "collapsed": false
   },
   "outputs": [],
   "source": [
    "case_pred = svc_hard_clf.predict(X_test_c)"
   ]
  },
  {
   "cell_type": "code",
   "execution_count": 456,
   "metadata": {
    "collapsed": false
   },
   "outputs": [
    {
     "data": {
      "text/plain": [
       "array([[  7,   4,   4],\n",
       "       [ 36, 116,  33],\n",
       "       [  0,   1,   2]])"
      ]
     },
     "execution_count": 456,
     "metadata": {},
     "output_type": "execute_result"
    }
   ],
   "source": [
    "confusion_matrix(case_pred, y_test_c)"
   ]
  },
  {
   "cell_type": "code",
   "execution_count": 400,
   "metadata": {
    "collapsed": false
   },
   "outputs": [
    {
     "name": "stdout",
     "output_type": "stream",
     "text": [
      "Score with the entire dataset = 0.65\n"
     ]
    }
   ],
   "source": [
    "score = cross_val_score(gb_hard_clf, svo[target_cols], y_case, cv=3).mean()\n",
    "print(\"Score with the entire dataset = %.2f\" % score)"
   ]
  },
  {
   "cell_type": "code",
   "execution_count": 402,
   "metadata": {
    "collapsed": false
   },
   "outputs": [
    {
     "data": {
      "text/plain": [
       "16"
      ]
     },
     "execution_count": 402,
     "metadata": {},
     "output_type": "execute_result"
    }
   ],
   "source": [
    "np.argmax(gb_hard_clf.feature_importances_)"
   ]
  },
  {
   "cell_type": "markdown",
   "metadata": {},
   "source": [
    "target_cols[16]"
   ]
  },
  {
   "cell_type": "code",
   "execution_count": 411,
   "metadata": {
    "collapsed": false
   },
   "outputs": [
    {
     "data": {
      "text/plain": [
       "<matplotlib.axes._subplots.AxesSubplot at 0x11d704cf8>"
      ]
     },
     "execution_count": 411,
     "metadata": {},
     "output_type": "execute_result"
    },
    {
     "data": {
      "image/png": "[encoded data removed]",
      "text/plain": [
       "<matplotlib.figure.Figure at 0x1161624e0>"
      ]
     },
     "metadata": {},
     "output_type": "display_data"
    }
   ],
   "source": [
    "# sns.set(style=\"ticks\", color_codes=True)\n",
    "# g = sns.FacetGrid(svo[svo.notnull()], col=\"case\")\n",
    "# g = g.map(plt.hist, \"svo\", bins=30)\n",
    "sns.distplot(svo[svo.case=='hard'].svo, bins=30)\n",
    "sns.distplot(svo[svo.case=='easy'].svo, bins=30)"
   ]
  },
  {
   "cell_type": "code",
   "execution_count": 344,
   "metadata": {
    "collapsed": false
   },
   "outputs": [],
   "source": [
    "# sns.lmplot(x='ev4', y='svo', data=svo, hue='case')"
   ]
  },
  {
   "cell_type": "code",
   "execution_count": 302,
   "metadata": {
    "collapsed": true
   },
   "outputs": [],
   "source": [
    "# X = cluster_df.ix[:, 1:].as_matrix()\n",
    "# X_scaled = min_max_scaler.fit_transform(X)"
   ]
  },
  {
   "cell_type": "code",
   "execution_count": 174,
   "metadata": {
    "collapsed": false
   },
   "outputs": [],
   "source": [
    "# np.in1d(y_pred, y_test)"
   ]
  },
  {
   "cell_type": "markdown",
   "metadata": {},
   "source": [
    "### Reviewing classification probabilities"
   ]
  },
  {
   "cell_type": "code",
   "execution_count": 120,
   "metadata": {
    "collapsed": false
   },
   "outputs": [],
   "source": [
    "# X_train, X_test, y_train, y_test = train_test_split(X, y_type, test_size=.25)\n",
    "# clf.fit(X_train, y_train)\n",
    "# y_pred = clf.predict(X_test)\n",
    "# misclassified = np.in1d(y_pred, y_test)\n",
    "# placeholder = np.full((1,X.shape[0],), np.nan)\n",
    "# for dix, vix in enumerate(X_test.index):\n",
    "#     placeholder[0][vix] = 1 if misclassified[dix] else 0"
   ]
  }
 ],
 "metadata": {
  "anaconda-cloud": {},
  "kernelspec": {
   "display_name": "Python [conda root]",
   "language": "python",
   "name": "conda-root-py"
  },
  "language_info": {
   "codemirror_mode": {
    "name": "ipython",
    "version": 3
   },
   "file_extension": ".py",
   "mimetype": "text/x-python",
   "name": "python",
   "nbconvert_exporter": "python",
   "pygments_lexer": "ipython3",
   "version": "3.5.2"
  }
 },
 "nbformat": 4,
 "nbformat_minor": 1
}
